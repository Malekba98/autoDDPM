{
 "cells": [
  {
   "cell_type": "code",
   "execution_count": 1,
   "metadata": {},
   "outputs": [
    {
     "name": "stdout",
     "output_type": "stream",
     "text": [
      "/home/malek/mock\n"
     ]
    }
   ],
   "source": [
    "import sys\n",
    "import os\n",
    "\n",
    "os.chdir('/home/malek/mock/autoDDPM')\n",
    "dir_path = os.path.dirname(os.path.realpath(os.getcwd()))\n",
    "\n",
    "\n",
    "\n",
    "# Get the parent directory\n",
    "# Add the parent directory to the system path\n",
    "sys.path.append(dir_path)\n",
    "print(dir_path)"
   ]
  },
  {
   "cell_type": "code",
   "execution_count": 2,
   "metadata": {},
   "outputs": [],
   "source": [
    "from Main import Main"
   ]
  },
  {
   "cell_type": "code",
   "execution_count": 3,
   "metadata": {},
   "outputs": [
    {
     "name": "stderr",
     "output_type": "stream",
     "text": [
      "INFO:root:------------------------------- DEEP LEARNING FRAMEWORK *IML-COMPAI-DL*  -------------------------------\n",
      "INFO:root:[IML-COMPAI-DL::main] Success: Loaded configuration file at: ./projects/braincf/sd_editing.yaml\n",
      "INFO:root:[Main::setup_experiment]: ################ Starting setup ################\n",
      "INFO:root:[Main::setup_experiment]: ################ Starting experiment * sdedit * using method * BrainCF * ################\n",
      "ERROR:wandb.jupyter:Failed to detect the name of this notebook, you can set it manually with the WANDB_NOTEBOOK_NAME environment variable to enable code saving.\n"
     ]
    },
    {
     "name": "stdout",
     "output_type": "stream",
     "text": [
      "Setting up [LPIPS] perceptual loss: trunk [squeeze], v[0.1], spatial [on]\n",
      "Loading model from: /home/malek/miniconda3/envs/nnunet+braincf/lib/python3.9/site-packages/lpips/weights/v0.1/squeeze.pth\n"
     ]
    },
    {
     "name": "stderr",
     "output_type": "stream",
     "text": [
      "\u001b[34m\u001b[1mwandb\u001b[0m: Currently logged in as: \u001b[33mmalek-b-alaya\u001b[0m (\u001b[33mben-alaya-ma\u001b[0m). Use \u001b[1m`wandb login --relogin`\u001b[0m to force relogin\n"
     ]
    },
    {
     "data": {
      "text/html": [
       "Tracking run with wandb version 0.17.0"
      ],
      "text/plain": [
       "<IPython.core.display.HTML object>"
      ]
     },
     "metadata": {},
     "output_type": "display_data"
    },
    {
     "data": {
      "text/html": [
       "Run data is saved locally in <code>/home/malek/mock/autoDDPM/wandb/run-20240520_181625-2024_05_20_18_16_22_220746</code>"
      ],
      "text/plain": [
       "<IPython.core.display.HTML object>"
      ]
     },
     "metadata": {},
     "output_type": "display_data"
    },
    {
     "data": {
      "text/html": [
       "Syncing run <strong><a href='https://wandb.ai/ben-alaya-ma/sdedit/runs/2024_05_20_18_16_22_220746' target=\"_blank\">BrainCF</a></strong> to <a href='https://wandb.ai/ben-alaya-ma/sdedit' target=\"_blank\">Weights & Biases</a> (<a href='https://wandb.me/run' target=\"_blank\">docs</a>)<br/>"
      ],
      "text/plain": [
       "<IPython.core.display.HTML object>"
      ]
     },
     "metadata": {},
     "output_type": "display_data"
    },
    {
     "data": {
      "text/html": [
       " View project at <a href='https://wandb.ai/ben-alaya-ma/sdedit' target=\"_blank\">https://wandb.ai/ben-alaya-ma/sdedit</a>"
      ],
      "text/plain": [
       "<IPython.core.display.HTML object>"
      ]
     },
     "metadata": {},
     "output_type": "display_data"
    },
    {
     "data": {
      "text/html": [
       " View run at <a href='https://wandb.ai/ben-alaya-ma/sdedit/runs/2024_05_20_18_16_22_220746' target=\"_blank\">https://wandb.ai/ben-alaya-ma/sdedit/runs/2024_05_20_18_16_22_220746</a>"
      ],
      "text/plain": [
       "<IPython.core.display.HTML object>"
      ]
     },
     "metadata": {},
     "output_type": "display_data"
    },
    {
     "name": "stdout",
     "output_type": "stream",
     "text": [
      "AtlasLoader\n",
      "AtlasLoader\n",
      "AtlasLoader\n",
      "nnUNet_raw is not defined and nnU-Net can only be used on data for which preprocessed files are already present on your system. nnU-Net cannot be used for experiment planning and preprocessing like this. If this is not intended, please read documentation/setting_up_paths.md for information on how to set this up properly.\n",
      "nnUNet_preprocessed is not defined and nnU-Net can not be used for preprocessing or training. If this is not intended, please read documentation/setting_up_paths.md for information on how to set this up.\n",
      "nnUNet_results is not defined and nnU-Net cannot be used for training or inference. If this is not intended behavior, please read documentation/setting_up_paths.md for information on how to set this up.\n"
     ]
    },
    {
     "name": "stderr",
     "output_type": "stream",
     "text": [
      "INFO:root:DefaultDataset::init(): Loading 54 files from: ['./data/ATLAS/splits_healthy_54_sample/Atlas_healthy.csv']\n",
      "INFO:root:DefaultDataset::init(): Loading 54 files from: ['./data/ATLAS/splits_healthy_54_sample/Atlas_healthy.csv']\n"
     ]
    },
    {
     "name": "stdout",
     "output_type": "stream",
     "text": [
      "INFO: Early stopping delta 1e-08\n"
     ]
    },
    {
     "name": "stderr",
     "output_type": "stream",
     "text": [
      "Using cache found in /home/malek/.cache/torch/hub/Warvito_radimagenet-models_main\n",
      "INFO:root:[Configurator::train::INFO]: Model weights loaded!\n",
      "INFO:root:[Configurator::train]: ################ Starting sd editing ################\n",
      "INFO:root:DefaultDataset::init(): Loading 54 files from: ['./data/ATLAS/splits_healthy_54_sample/Atlas_healthy.csv']\n",
      "INFO:root:DefaultDataset::init(): Loading 54 files from: ['./data/ATLAS/splits_reference_test_unhealthy_54_samples/atlas_test_png.csv']\n",
      "INFO:root:DefaultDataset::init(): Loading 54 files from: ['./data/ATLAS/splits_over_1_stratified_all_splits/atlas_test_png.csv']\n",
      "100%|██████████| 200/200 [00:04<00:00, 40.57it/s]\n"
     ]
    },
    {
     "name": "stdout",
     "output_type": "stream",
     "text": [
      "shape of all counterfactuals torch.Size([2, 1, 128, 128])\n",
      "shape of all originals torch.Size([2, 1, 128, 128])\n",
      "nnUNet_raw is not defined and nnU-Net can only be used on data for which preprocessed files are already present on your system. nnU-Net cannot be used for experiment planning and preprocessing like this. If this is not intended, please read documentation/setting_up_paths.md for information on how to set this up properly.\n",
      "nnUNet_preprocessed is not defined and nnU-Net can not be used for preprocessing or training. If this is not intended, please read documentation/setting_up_paths.md for information on how to set this up.\n",
      "nnUNet_results is not defined and nnU-Net cannot be used for training or inference. If this is not intended behavior, please read documentation/setting_up_paths.md for information on how to set this up.\n",
      "\n",
      "Predicting image of shape torch.Size([1, 1, 128, 128]):\n",
      "perform_everything_on_device: True\n"
     ]
    },
    {
     "name": "stderr",
     "output_type": "stream",
     "text": [
      "100%|██████████| 2/2 [00:00<00:00,  6.92it/s]\n",
      "100%|██████████| 2/2 [00:00<00:00, 72.28it/s]\n",
      "100%|██████████| 2/2 [00:00<00:00, 73.21it/s]\n",
      "100%|██████████| 2/2 [00:00<00:00, 73.30it/s]\n",
      "100%|██████████| 2/2 [00:00<00:00, 72.61it/s]\n"
     ]
    },
    {
     "name": "stdout",
     "output_type": "stream",
     "text": [
      "sending off prediction to background worker for resampling\n",
      "\n",
      "Done with image of shape torch.Size([1, 1, 128, 128]):\n",
      "\n",
      "Predicting image of shape torch.Size([1, 1, 128, 128]):\n",
      "perform_everything_on_device: True\n"
     ]
    },
    {
     "name": "stderr",
     "output_type": "stream",
     "text": [
      "100%|██████████| 2/2 [00:00<00:00, 73.11it/s]\n",
      "100%|██████████| 2/2 [00:00<00:00, 73.07it/s]\n",
      "100%|██████████| 2/2 [00:00<00:00, 73.21it/s]\n",
      "100%|██████████| 2/2 [00:00<00:00, 72.34it/s]\n",
      "100%|██████████| 2/2 [00:00<00:00, 73.27it/s]\n"
     ]
    },
    {
     "name": "stdout",
     "output_type": "stream",
     "text": [
      "sending off prediction to background worker for resampling\n",
      "\n",
      "Done with image of shape torch.Size([1, 1, 128, 128]):\n",
      "2\n",
      "shape of segmentation map of 1 sample (128, 128)\n",
      "type of segmentation map of 1 sample <class 'numpy.ndarray'>\n",
      "nnUNet_raw is not defined and nnU-Net can only be used on data for which preprocessed files are already present on your system. nnU-Net cannot be used for experiment planning and preprocessing like this. If this is not intended, please read documentation/setting_up_paths.md for information on how to set this up properly.\n",
      "nnUNet_preprocessed is not defined and nnU-Net can not be used for preprocessing or training. If this is not intended, please read documentation/setting_up_paths.md for information on how to set this up.\n",
      "nnUNet_results is not defined and nnU-Net cannot be used for training or inference. If this is not intended behavior, please read documentation/setting_up_paths.md for information on how to set this up.\n",
      "\n",
      "Predicting image of shape torch.Size([1, 1, 128, 128]):\n",
      "perform_everything_on_device: True\n"
     ]
    },
    {
     "name": "stderr",
     "output_type": "stream",
     "text": [
      "100%|██████████| 2/2 [00:00<00:00, 59.18it/s]\n",
      "100%|██████████| 2/2 [00:00<00:00, 74.11it/s]\n",
      "100%|██████████| 2/2 [00:00<00:00, 73.94it/s]\n",
      "100%|██████████| 2/2 [00:00<00:00, 74.02it/s]\n",
      "100%|██████████| 2/2 [00:00<00:00, 74.02it/s]\n"
     ]
    },
    {
     "name": "stdout",
     "output_type": "stream",
     "text": [
      "sending off prediction to background worker for resampling\n",
      "\n",
      "Done with image of shape torch.Size([1, 1, 128, 128]):\n",
      "\n",
      "Predicting image of shape torch.Size([1, 1, 128, 128]):\n",
      "perform_everything_on_device: True\n"
     ]
    },
    {
     "name": "stderr",
     "output_type": "stream",
     "text": [
      "100%|██████████| 2/2 [00:00<00:00, 73.74it/s]\n",
      "100%|██████████| 2/2 [00:00<00:00, 45.17it/s]\n",
      "100%|██████████| 2/2 [00:00<00:00, 73.13it/s]\n",
      "100%|██████████| 2/2 [00:00<00:00, 73.35it/s]\n",
      "100%|██████████| 2/2 [00:00<00:00, 73.96it/s]\n"
     ]
    },
    {
     "name": "stdout",
     "output_type": "stream",
     "text": [
      "sending off prediction to background worker for resampling\n",
      "\n",
      "Done with image of shape torch.Size([1, 1, 128, 128]):\n",
      "2\n",
      "shape of segmentation map of 1 sample (128, 128)\n",
      "type of segmentation map of 1 sample <class 'numpy.ndarray'>\n"
     ]
    },
    {
     "name": "stderr",
     "output_type": "stream",
     "text": [
      "100%|██████████| 200/200 [00:04<00:00, 46.91it/s]"
     ]
    },
    {
     "name": "stdout",
     "output_type": "stream",
     "text": [
      "shape of all counterfactuals torch.Size([4, 1, 128, 128])\n",
      "shape of all originals torch.Size([4, 1, 128, 128])\n"
     ]
    },
    {
     "name": "stderr",
     "output_type": "stream",
     "text": [
      "\n"
     ]
    },
    {
     "name": "stdout",
     "output_type": "stream",
     "text": [
      "nnUNet_raw is not defined and nnU-Net can only be used on data for which preprocessed files are already present on your system. nnU-Net cannot be used for experiment planning and preprocessing like this. If this is not intended, please read documentation/setting_up_paths.md for information on how to set this up properly.\n",
      "nnUNet_preprocessed is not defined and nnU-Net can not be used for preprocessing or training. If this is not intended, please read documentation/setting_up_paths.md for information on how to set this up.\n",
      "nnUNet_results is not defined and nnU-Net cannot be used for training or inference. If this is not intended behavior, please read documentation/setting_up_paths.md for information on how to set this up.\n",
      "\n",
      "Predicting image of shape torch.Size([1, 1, 128, 128]):\n",
      "perform_everything_on_device: True\n"
     ]
    },
    {
     "name": "stderr",
     "output_type": "stream",
     "text": [
      "100%|██████████| 2/2 [00:00<00:00, 68.34it/s]\n",
      "100%|██████████| 2/2 [00:00<00:00, 71.87it/s]\n",
      "100%|██████████| 2/2 [00:00<00:00, 73.58it/s]\n",
      "100%|██████████| 2/2 [00:00<00:00, 73.68it/s]\n",
      "100%|██████████| 2/2 [00:00<00:00, 73.56it/s]\n"
     ]
    },
    {
     "name": "stdout",
     "output_type": "stream",
     "text": [
      "sending off prediction to background worker for resampling\n",
      "\n",
      "Done with image of shape torch.Size([1, 1, 128, 128]):\n",
      "\n",
      "Predicting image of shape torch.Size([1, 1, 128, 128]):\n",
      "perform_everything_on_device: True\n"
     ]
    },
    {
     "name": "stderr",
     "output_type": "stream",
     "text": [
      "100%|██████████| 2/2 [00:00<00:00, 73.47it/s]\n",
      "100%|██████████| 2/2 [00:00<00:00, 73.39it/s]\n",
      "100%|██████████| 2/2 [00:00<00:00, 73.04it/s]\n",
      "100%|██████████| 2/2 [00:00<00:00, 73.07it/s]\n",
      "100%|██████████| 2/2 [00:00<00:00, 72.95it/s]\n"
     ]
    },
    {
     "name": "stdout",
     "output_type": "stream",
     "text": [
      "sending off prediction to background worker for resampling\n",
      "\n",
      "Done with image of shape torch.Size([1, 1, 128, 128]):\n",
      "2\n",
      "shape of segmentation map of 1 sample (128, 128)\n",
      "type of segmentation map of 1 sample <class 'numpy.ndarray'>\n",
      "nnUNet_raw is not defined and nnU-Net can only be used on data for which preprocessed files are already present on your system. nnU-Net cannot be used for experiment planning and preprocessing like this. If this is not intended, please read documentation/setting_up_paths.md for information on how to set this up properly.\n",
      "nnUNet_preprocessed is not defined and nnU-Net can not be used for preprocessing or training. If this is not intended, please read documentation/setting_up_paths.md for information on how to set this up.\n",
      "nnUNet_results is not defined and nnU-Net cannot be used for training or inference. If this is not intended behavior, please read documentation/setting_up_paths.md for information on how to set this up.\n",
      "\n",
      "Predicting image of shape torch.Size([1, 1, 128, 128]):\n",
      "perform_everything_on_device: True\n"
     ]
    },
    {
     "name": "stderr",
     "output_type": "stream",
     "text": [
      "100%|██████████| 2/2 [00:00<00:00, 68.87it/s]\n",
      "100%|██████████| 2/2 [00:00<00:00, 73.15it/s]\n",
      "100%|██████████| 2/2 [00:00<00:00, 73.65it/s]\n",
      "100%|██████████| 2/2 [00:00<00:00, 73.68it/s]\n",
      "100%|██████████| 2/2 [00:00<00:00, 72.92it/s]\n"
     ]
    },
    {
     "name": "stdout",
     "output_type": "stream",
     "text": [
      "sending off prediction to background worker for resampling\n",
      "\n",
      "Done with image of shape torch.Size([1, 1, 128, 128]):\n",
      "\n",
      "Predicting image of shape torch.Size([1, 1, 128, 128]):\n",
      "perform_everything_on_device: True\n"
     ]
    },
    {
     "name": "stderr",
     "output_type": "stream",
     "text": [
      "100%|██████████| 2/2 [00:00<00:00, 74.02it/s]\n",
      "100%|██████████| 2/2 [00:00<00:00, 73.00it/s]\n",
      "100%|██████████| 2/2 [00:00<00:00, 73.15it/s]\n",
      "100%|██████████| 2/2 [00:00<00:00, 73.92it/s]\n",
      "100%|██████████| 2/2 [00:00<00:00, 73.94it/s]\n"
     ]
    },
    {
     "name": "stdout",
     "output_type": "stream",
     "text": [
      "sending off prediction to background worker for resampling\n",
      "\n",
      "Done with image of shape torch.Size([1, 1, 128, 128]):\n",
      "2\n",
      "shape of segmentation map of 1 sample (128, 128)\n",
      "type of segmentation map of 1 sample <class 'numpy.ndarray'>\n"
     ]
    },
    {
     "name": "stderr",
     "output_type": "stream",
     "text": [
      "100%|██████████| 200/200 [00:04<00:00, 46.62it/s]"
     ]
    },
    {
     "name": "stdout",
     "output_type": "stream",
     "text": [
      "shape of all counterfactuals torch.Size([6, 1, 128, 128])\n",
      "shape of all originals torch.Size([6, 1, 128, 128])\n"
     ]
    },
    {
     "name": "stderr",
     "output_type": "stream",
     "text": [
      "\n"
     ]
    },
    {
     "name": "stdout",
     "output_type": "stream",
     "text": [
      "nnUNet_raw is not defined and nnU-Net can only be used on data for which preprocessed files are already present on your system. nnU-Net cannot be used for experiment planning and preprocessing like this. If this is not intended, please read documentation/setting_up_paths.md for information on how to set this up properly.\n",
      "nnUNet_preprocessed is not defined and nnU-Net can not be used for preprocessing or training. If this is not intended, please read documentation/setting_up_paths.md for information on how to set this up.\n",
      "nnUNet_results is not defined and nnU-Net cannot be used for training or inference. If this is not intended behavior, please read documentation/setting_up_paths.md for information on how to set this up.\n",
      "\n",
      "Predicting image of shape torch.Size([1, 1, 128, 128]):\n",
      "perform_everything_on_device: True\n"
     ]
    },
    {
     "name": "stderr",
     "output_type": "stream",
     "text": [
      "100%|██████████| 2/2 [00:00<00:00, 69.77it/s]\n",
      "100%|██████████| 2/2 [00:00<00:00, 73.53it/s]\n",
      "100%|██████████| 2/2 [00:00<00:00, 73.63it/s]\n",
      "100%|██████████| 2/2 [00:00<00:00, 72.90it/s]\n",
      "100%|██████████| 2/2 [00:00<00:00, 72.61it/s]\n"
     ]
    },
    {
     "name": "stdout",
     "output_type": "stream",
     "text": [
      "sending off prediction to background worker for resampling\n",
      "\n",
      "Done with image of shape torch.Size([1, 1, 128, 128]):\n",
      "\n",
      "Predicting image of shape torch.Size([1, 1, 128, 128]):\n",
      "perform_everything_on_device: True\n"
     ]
    },
    {
     "name": "stderr",
     "output_type": "stream",
     "text": [
      "100%|██████████| 2/2 [00:00<00:00, 71.01it/s]\n",
      "100%|██████████| 2/2 [00:00<00:00, 70.35it/s]\n",
      "100%|██████████| 2/2 [00:00<00:00, 66.46it/s]\n",
      "100%|██████████| 2/2 [00:00<00:00, 73.96it/s]\n",
      "100%|██████████| 2/2 [00:00<00:00, 73.62it/s]\n"
     ]
    },
    {
     "name": "stdout",
     "output_type": "stream",
     "text": [
      "sending off prediction to background worker for resampling\n",
      "\n",
      "Done with image of shape torch.Size([1, 1, 128, 128]):\n",
      "2\n",
      "shape of segmentation map of 1 sample (128, 128)\n",
      "type of segmentation map of 1 sample <class 'numpy.ndarray'>\n",
      "nnUNet_raw is not defined and nnU-Net can only be used on data for which preprocessed files are already present on your system. nnU-Net cannot be used for experiment planning and preprocessing like this. If this is not intended, please read documentation/setting_up_paths.md for information on how to set this up properly.\n",
      "nnUNet_preprocessed is not defined and nnU-Net can not be used for preprocessing or training. If this is not intended, please read documentation/setting_up_paths.md for information on how to set this up.\n",
      "nnUNet_results is not defined and nnU-Net cannot be used for training or inference. If this is not intended behavior, please read documentation/setting_up_paths.md for information on how to set this up.\n",
      "\n",
      "Predicting image of shape torch.Size([1, 1, 128, 128]):\n",
      "perform_everything_on_device: True\n"
     ]
    },
    {
     "name": "stderr",
     "output_type": "stream",
     "text": [
      "100%|██████████| 2/2 [00:00<00:00, 68.37it/s]\n",
      "100%|██████████| 2/2 [00:00<00:00, 72.85it/s]\n",
      "100%|██████████| 2/2 [00:00<00:00, 73.78it/s]\n",
      "100%|██████████| 2/2 [00:00<00:00, 73.91it/s]\n",
      "100%|██████████| 2/2 [00:00<00:00, 73.44it/s]\n"
     ]
    },
    {
     "name": "stdout",
     "output_type": "stream",
     "text": [
      "sending off prediction to background worker for resampling\n",
      "\n",
      "Done with image of shape torch.Size([1, 1, 128, 128]):\n",
      "\n",
      "Predicting image of shape torch.Size([1, 1, 128, 128]):\n",
      "perform_everything_on_device: True\n"
     ]
    },
    {
     "name": "stderr",
     "output_type": "stream",
     "text": [
      "100%|██████████| 2/2 [00:00<00:00, 73.70it/s]\n",
      "100%|██████████| 2/2 [00:00<00:00, 73.65it/s]\n",
      "100%|██████████| 2/2 [00:00<00:00, 73.43it/s]\n",
      "100%|██████████| 2/2 [00:00<00:00, 73.87it/s]\n",
      "100%|██████████| 2/2 [00:00<00:00, 72.51it/s]\n"
     ]
    },
    {
     "name": "stdout",
     "output_type": "stream",
     "text": [
      "sending off prediction to background worker for resampling\n",
      "\n",
      "Done with image of shape torch.Size([1, 1, 128, 128]):\n",
      "2\n",
      "shape of segmentation map of 1 sample (128, 128)\n",
      "type of segmentation map of 1 sample <class 'numpy.ndarray'>\n"
     ]
    },
    {
     "name": "stderr",
     "output_type": "stream",
     "text": [
      "100%|██████████| 200/200 [00:04<00:00, 46.53it/s]"
     ]
    },
    {
     "name": "stdout",
     "output_type": "stream",
     "text": [
      "shape of all counterfactuals torch.Size([8, 1, 128, 128])\n",
      "shape of all originals torch.Size([8, 1, 128, 128])\n"
     ]
    },
    {
     "name": "stderr",
     "output_type": "stream",
     "text": [
      "\n"
     ]
    },
    {
     "name": "stdout",
     "output_type": "stream",
     "text": [
      "nnUNet_raw is not defined and nnU-Net can only be used on data for which preprocessed files are already present on your system. nnU-Net cannot be used for experiment planning and preprocessing like this. If this is not intended, please read documentation/setting_up_paths.md for information on how to set this up properly.\n",
      "nnUNet_preprocessed is not defined and nnU-Net can not be used for preprocessing or training. If this is not intended, please read documentation/setting_up_paths.md for information on how to set this up.\n",
      "nnUNet_results is not defined and nnU-Net cannot be used for training or inference. If this is not intended behavior, please read documentation/setting_up_paths.md for information on how to set this up.\n",
      "\n",
      "Predicting image of shape torch.Size([1, 1, 128, 128]):\n",
      "perform_everything_on_device: True\n"
     ]
    },
    {
     "name": "stderr",
     "output_type": "stream",
     "text": [
      "100%|██████████| 2/2 [00:00<00:00, 69.31it/s]\n",
      "100%|██████████| 2/2 [00:00<00:00, 72.25it/s]\n",
      "100%|██████████| 2/2 [00:00<00:00, 73.44it/s]\n",
      "100%|██████████| 2/2 [00:00<00:00, 73.49it/s]\n",
      "100%|██████████| 2/2 [00:00<00:00, 73.55it/s]\n"
     ]
    },
    {
     "name": "stdout",
     "output_type": "stream",
     "text": [
      "sending off prediction to background worker for resampling\n",
      "\n",
      "Done with image of shape torch.Size([1, 1, 128, 128]):\n",
      "\n",
      "Predicting image of shape torch.Size([1, 1, 128, 128]):\n",
      "perform_everything_on_device: True\n"
     ]
    },
    {
     "name": "stderr",
     "output_type": "stream",
     "text": [
      "100%|██████████| 2/2 [00:00<00:00, 61.55it/s]\n",
      "100%|██████████| 2/2 [00:00<00:00, 72.28it/s]\n",
      "100%|██████████| 2/2 [00:00<00:00, 71.92it/s]\n",
      "100%|██████████| 2/2 [00:00<00:00, 73.02it/s]\n",
      "100%|██████████| 2/2 [00:00<00:00, 73.03it/s]\n"
     ]
    },
    {
     "name": "stdout",
     "output_type": "stream",
     "text": [
      "sending off prediction to background worker for resampling\n",
      "\n",
      "Done with image of shape torch.Size([1, 1, 128, 128]):\n",
      "2\n",
      "shape of segmentation map of 1 sample (128, 128)\n",
      "type of segmentation map of 1 sample <class 'numpy.ndarray'>\n",
      "nnUNet_raw is not defined and nnU-Net can only be used on data for which preprocessed files are already present on your system. nnU-Net cannot be used for experiment planning and preprocessing like this. If this is not intended, please read documentation/setting_up_paths.md for information on how to set this up properly.\n",
      "nnUNet_preprocessed is not defined and nnU-Net can not be used for preprocessing or training. If this is not intended, please read documentation/setting_up_paths.md for information on how to set this up.\n",
      "nnUNet_results is not defined and nnU-Net cannot be used for training or inference. If this is not intended behavior, please read documentation/setting_up_paths.md for information on how to set this up.\n",
      "\n",
      "Predicting image of shape torch.Size([1, 1, 128, 128]):\n",
      "perform_everything_on_device: True\n"
     ]
    },
    {
     "name": "stderr",
     "output_type": "stream",
     "text": [
      "100%|██████████| 2/2 [00:00<00:00, 69.09it/s]\n",
      "100%|██████████| 2/2 [00:00<00:00, 72.65it/s]\n",
      "100%|██████████| 2/2 [00:00<00:00, 72.62it/s]\n",
      "100%|██████████| 2/2 [00:00<00:00, 73.32it/s]\n",
      "100%|██████████| 2/2 [00:00<00:00, 72.55it/s]\n"
     ]
    },
    {
     "name": "stdout",
     "output_type": "stream",
     "text": [
      "sending off prediction to background worker for resampling\n",
      "\n",
      "Done with image of shape torch.Size([1, 1, 128, 128]):\n",
      "\n",
      "Predicting image of shape torch.Size([1, 1, 128, 128]):\n",
      "perform_everything_on_device: True\n"
     ]
    },
    {
     "name": "stderr",
     "output_type": "stream",
     "text": [
      "100%|██████████| 2/2 [00:00<00:00, 73.31it/s]\n",
      "100%|██████████| 2/2 [00:00<00:00, 71.82it/s]\n",
      "100%|██████████| 2/2 [00:00<00:00, 72.69it/s]\n",
      "100%|██████████| 2/2 [00:00<00:00, 73.17it/s]\n",
      "100%|██████████| 2/2 [00:00<00:00, 73.80it/s]\n"
     ]
    },
    {
     "name": "stdout",
     "output_type": "stream",
     "text": [
      "sending off prediction to background worker for resampling\n",
      "\n",
      "Done with image of shape torch.Size([1, 1, 128, 128]):\n",
      "2\n",
      "shape of segmentation map of 1 sample (128, 128)\n",
      "type of segmentation map of 1 sample <class 'numpy.ndarray'>\n"
     ]
    },
    {
     "name": "stderr",
     "output_type": "stream",
     "text": [
      "100%|██████████| 200/200 [00:04<00:00, 46.39it/s]"
     ]
    },
    {
     "name": "stdout",
     "output_type": "stream",
     "text": [
      "shape of all counterfactuals torch.Size([10, 1, 128, 128])\n",
      "shape of all originals torch.Size([10, 1, 128, 128])\n"
     ]
    },
    {
     "name": "stderr",
     "output_type": "stream",
     "text": [
      "\n"
     ]
    },
    {
     "name": "stdout",
     "output_type": "stream",
     "text": [
      "nnUNet_raw is not defined and nnU-Net can only be used on data for which preprocessed files are already present on your system. nnU-Net cannot be used for experiment planning and preprocessing like this. If this is not intended, please read documentation/setting_up_paths.md for information on how to set this up properly.\n",
      "nnUNet_preprocessed is not defined and nnU-Net can not be used for preprocessing or training. If this is not intended, please read documentation/setting_up_paths.md for information on how to set this up.\n",
      "nnUNet_results is not defined and nnU-Net cannot be used for training or inference. If this is not intended behavior, please read documentation/setting_up_paths.md for information on how to set this up.\n",
      "\n",
      "Predicting image of shape torch.Size([1, 1, 128, 128]):\n",
      "perform_everything_on_device: True\n"
     ]
    },
    {
     "name": "stderr",
     "output_type": "stream",
     "text": [
      "100%|██████████| 2/2 [00:00<00:00, 69.80it/s]\n",
      "100%|██████████| 2/2 [00:00<00:00, 73.18it/s]\n",
      "100%|██████████| 2/2 [00:00<00:00, 74.09it/s]\n",
      "100%|██████████| 2/2 [00:00<00:00, 72.99it/s]\n",
      "100%|██████████| 2/2 [00:00<00:00, 72.94it/s]\n"
     ]
    },
    {
     "name": "stdout",
     "output_type": "stream",
     "text": [
      "sending off prediction to background worker for resampling\n",
      "\n",
      "Done with image of shape torch.Size([1, 1, 128, 128]):\n",
      "\n",
      "Predicting image of shape torch.Size([1, 1, 128, 128]):\n",
      "perform_everything_on_device: True\n"
     ]
    },
    {
     "name": "stderr",
     "output_type": "stream",
     "text": [
      "100%|██████████| 2/2 [00:00<00:00, 73.47it/s]\n",
      "100%|██████████| 2/2 [00:00<00:00, 73.60it/s]\n",
      "100%|██████████| 2/2 [00:00<00:00, 73.90it/s]\n",
      "100%|██████████| 2/2 [00:00<00:00, 71.76it/s]\n",
      "100%|██████████| 2/2 [00:00<00:00, 72.19it/s]\n"
     ]
    },
    {
     "name": "stdout",
     "output_type": "stream",
     "text": [
      "sending off prediction to background worker for resampling\n",
      "\n",
      "Done with image of shape torch.Size([1, 1, 128, 128]):\n",
      "2\n",
      "shape of segmentation map of 1 sample (128, 128)\n",
      "type of segmentation map of 1 sample <class 'numpy.ndarray'>\n",
      "nnUNet_raw is not defined and nnU-Net can only be used on data for which preprocessed files are already present on your system. nnU-Net cannot be used for experiment planning and preprocessing like this. If this is not intended, please read documentation/setting_up_paths.md for information on how to set this up properly.\n",
      "nnUNet_preprocessed is not defined and nnU-Net can not be used for preprocessing or training. If this is not intended, please read documentation/setting_up_paths.md for information on how to set this up.\n",
      "nnUNet_results is not defined and nnU-Net cannot be used for training or inference. If this is not intended behavior, please read documentation/setting_up_paths.md for information on how to set this up.\n",
      "\n",
      "Predicting image of shape torch.Size([1, 1, 128, 128]):\n",
      "perform_everything_on_device: True\n"
     ]
    },
    {
     "name": "stderr",
     "output_type": "stream",
     "text": [
      "100%|██████████| 2/2 [00:00<00:00, 61.50it/s]\n",
      "100%|██████████| 2/2 [00:00<00:00, 74.07it/s]\n",
      "100%|██████████| 2/2 [00:00<00:00, 74.00it/s]\n",
      "100%|██████████| 2/2 [00:00<00:00, 74.10it/s]\n",
      "100%|██████████| 2/2 [00:00<00:00, 73.16it/s]\n"
     ]
    },
    {
     "name": "stdout",
     "output_type": "stream",
     "text": [
      "sending off prediction to background worker for resampling\n",
      "\n",
      "Done with image of shape torch.Size([1, 1, 128, 128]):\n",
      "\n",
      "Predicting image of shape torch.Size([1, 1, 128, 128]):\n",
      "perform_everything_on_device: True\n"
     ]
    },
    {
     "name": "stderr",
     "output_type": "stream",
     "text": [
      "100%|██████████| 2/2 [00:00<00:00, 73.96it/s]\n",
      "100%|██████████| 2/2 [00:00<00:00, 72.88it/s]\n",
      "100%|██████████| 2/2 [00:00<00:00, 73.15it/s]\n",
      "100%|██████████| 2/2 [00:00<00:00, 73.98it/s]\n",
      "100%|██████████| 2/2 [00:00<00:00, 73.68it/s]\n"
     ]
    },
    {
     "name": "stdout",
     "output_type": "stream",
     "text": [
      "sending off prediction to background worker for resampling\n",
      "\n",
      "Done with image of shape torch.Size([1, 1, 128, 128]):\n",
      "2\n",
      "shape of segmentation map of 1 sample (128, 128)\n",
      "type of segmentation map of 1 sample <class 'numpy.ndarray'>\n"
     ]
    },
    {
     "name": "stderr",
     "output_type": "stream",
     "text": [
      "100%|██████████| 200/200 [00:04<00:00, 46.23it/s]"
     ]
    },
    {
     "name": "stdout",
     "output_type": "stream",
     "text": [
      "shape of all counterfactuals torch.Size([12, 1, 128, 128])\n",
      "shape of all originals torch.Size([12, 1, 128, 128])\n"
     ]
    },
    {
     "name": "stderr",
     "output_type": "stream",
     "text": [
      "\n"
     ]
    },
    {
     "name": "stdout",
     "output_type": "stream",
     "text": [
      "nnUNet_raw is not defined and nnU-Net can only be used on data for which preprocessed files are already present on your system. nnU-Net cannot be used for experiment planning and preprocessing like this. If this is not intended, please read documentation/setting_up_paths.md for information on how to set this up properly.\n",
      "nnUNet_preprocessed is not defined and nnU-Net can not be used for preprocessing or training. If this is not intended, please read documentation/setting_up_paths.md for information on how to set this up.\n",
      "nnUNet_results is not defined and nnU-Net cannot be used for training or inference. If this is not intended behavior, please read documentation/setting_up_paths.md for information on how to set this up.\n",
      "\n",
      "Predicting image of shape torch.Size([1, 1, 128, 128]):\n",
      "perform_everything_on_device: True\n"
     ]
    },
    {
     "name": "stderr",
     "output_type": "stream",
     "text": [
      "100%|██████████| 2/2 [00:00<00:00, 64.60it/s]\n",
      "100%|██████████| 2/2 [00:00<00:00, 70.37it/s]\n",
      "100%|██████████| 2/2 [00:00<00:00, 74.05it/s]\n",
      "100%|██████████| 2/2 [00:00<00:00, 73.89it/s]\n",
      "100%|██████████| 2/2 [00:00<00:00, 73.72it/s]\n"
     ]
    },
    {
     "name": "stdout",
     "output_type": "stream",
     "text": [
      "sending off prediction to background worker for resampling\n",
      "\n",
      "Done with image of shape torch.Size([1, 1, 128, 128]):\n",
      "\n",
      "Predicting image of shape torch.Size([1, 1, 128, 128]):\n",
      "perform_everything_on_device: True\n"
     ]
    },
    {
     "name": "stderr",
     "output_type": "stream",
     "text": [
      "100%|██████████| 2/2 [00:00<00:00, 72.96it/s]\n",
      "100%|██████████| 2/2 [00:00<00:00, 72.93it/s]\n",
      "100%|██████████| 2/2 [00:00<00:00, 73.32it/s]\n",
      "100%|██████████| 2/2 [00:00<00:00, 72.28it/s]\n",
      "100%|██████████| 2/2 [00:00<00:00, 72.19it/s]\n"
     ]
    },
    {
     "name": "stdout",
     "output_type": "stream",
     "text": [
      "sending off prediction to background worker for resampling\n",
      "\n",
      "Done with image of shape torch.Size([1, 1, 128, 128]):\n",
      "2\n",
      "shape of segmentation map of 1 sample (128, 128)\n",
      "type of segmentation map of 1 sample <class 'numpy.ndarray'>\n",
      "nnUNet_raw is not defined and nnU-Net can only be used on data for which preprocessed files are already present on your system. nnU-Net cannot be used for experiment planning and preprocessing like this. If this is not intended, please read documentation/setting_up_paths.md for information on how to set this up properly.\n",
      "nnUNet_preprocessed is not defined and nnU-Net can not be used for preprocessing or training. If this is not intended, please read documentation/setting_up_paths.md for information on how to set this up.\n",
      "nnUNet_results is not defined and nnU-Net cannot be used for training or inference. If this is not intended behavior, please read documentation/setting_up_paths.md for information on how to set this up.\n",
      "\n",
      "Predicting image of shape torch.Size([1, 1, 128, 128]):\n",
      "perform_everything_on_device: True\n"
     ]
    },
    {
     "name": "stderr",
     "output_type": "stream",
     "text": [
      "100%|██████████| 2/2 [00:00<00:00, 68.45it/s]\n",
      "100%|██████████| 2/2 [00:00<00:00, 73.75it/s]\n",
      "100%|██████████| 2/2 [00:00<00:00, 74.11it/s]\n",
      "100%|██████████| 2/2 [00:00<00:00, 74.03it/s]\n",
      "100%|██████████| 2/2 [00:00<00:00, 73.35it/s]\n"
     ]
    },
    {
     "name": "stdout",
     "output_type": "stream",
     "text": [
      "sending off prediction to background worker for resampling\n",
      "\n",
      "Done with image of shape torch.Size([1, 1, 128, 128]):\n",
      "\n",
      "Predicting image of shape torch.Size([1, 1, 128, 128]):\n",
      "perform_everything_on_device: True\n"
     ]
    },
    {
     "name": "stderr",
     "output_type": "stream",
     "text": [
      "100%|██████████| 2/2 [00:00<00:00, 74.21it/s]\n",
      "100%|██████████| 2/2 [00:00<00:00, 73.48it/s]\n",
      "100%|██████████| 2/2 [00:00<00:00, 73.39it/s]\n",
      "100%|██████████| 2/2 [00:00<00:00, 73.27it/s]\n",
      "100%|██████████| 2/2 [00:00<00:00, 73.69it/s]\n"
     ]
    },
    {
     "name": "stdout",
     "output_type": "stream",
     "text": [
      "sending off prediction to background worker for resampling\n",
      "\n",
      "Done with image of shape torch.Size([1, 1, 128, 128]):\n",
      "2\n",
      "shape of segmentation map of 1 sample (128, 128)\n",
      "type of segmentation map of 1 sample <class 'numpy.ndarray'>\n"
     ]
    },
    {
     "name": "stderr",
     "output_type": "stream",
     "text": [
      "100%|██████████| 200/200 [00:04<00:00, 46.07it/s]"
     ]
    },
    {
     "name": "stdout",
     "output_type": "stream",
     "text": [
      "shape of all counterfactuals torch.Size([14, 1, 128, 128])\n",
      "shape of all originals torch.Size([14, 1, 128, 128])\n"
     ]
    },
    {
     "name": "stderr",
     "output_type": "stream",
     "text": [
      "\n"
     ]
    },
    {
     "name": "stdout",
     "output_type": "stream",
     "text": [
      "nnUNet_raw is not defined and nnU-Net can only be used on data for which preprocessed files are already present on your system. nnU-Net cannot be used for experiment planning and preprocessing like this. If this is not intended, please read documentation/setting_up_paths.md for information on how to set this up properly.\n",
      "nnUNet_preprocessed is not defined and nnU-Net can not be used for preprocessing or training. If this is not intended, please read documentation/setting_up_paths.md for information on how to set this up.\n",
      "nnUNet_results is not defined and nnU-Net cannot be used for training or inference. If this is not intended behavior, please read documentation/setting_up_paths.md for information on how to set this up.\n",
      "\n",
      "Predicting image of shape torch.Size([1, 1, 128, 128]):\n",
      "perform_everything_on_device: True\n"
     ]
    },
    {
     "name": "stderr",
     "output_type": "stream",
     "text": [
      "100%|██████████| 2/2 [00:00<00:00, 69.75it/s]\n",
      "100%|██████████| 2/2 [00:00<00:00, 73.38it/s]\n",
      "100%|██████████| 2/2 [00:00<00:00, 73.54it/s]\n",
      "100%|██████████| 2/2 [00:00<00:00, 73.76it/s]\n",
      "100%|██████████| 2/2 [00:00<00:00, 73.61it/s]\n"
     ]
    },
    {
     "name": "stdout",
     "output_type": "stream",
     "text": [
      "sending off prediction to background worker for resampling\n",
      "\n",
      "Done with image of shape torch.Size([1, 1, 128, 128]):\n",
      "\n",
      "Predicting image of shape torch.Size([1, 1, 128, 128]):\n",
      "perform_everything_on_device: True\n"
     ]
    },
    {
     "name": "stderr",
     "output_type": "stream",
     "text": [
      "100%|██████████| 2/2 [00:00<00:00, 72.98it/s]\n",
      "100%|██████████| 2/2 [00:00<00:00, 73.21it/s]\n",
      "100%|██████████| 2/2 [00:00<00:00, 73.33it/s]\n",
      "100%|██████████| 2/2 [00:00<00:00, 73.52it/s]\n",
      "100%|██████████| 2/2 [00:00<00:00, 73.83it/s]\n"
     ]
    },
    {
     "name": "stdout",
     "output_type": "stream",
     "text": [
      "sending off prediction to background worker for resampling\n",
      "\n",
      "Done with image of shape torch.Size([1, 1, 128, 128]):\n",
      "2\n",
      "shape of segmentation map of 1 sample (128, 128)\n",
      "type of segmentation map of 1 sample <class 'numpy.ndarray'>\n",
      "nnUNet_raw is not defined and nnU-Net can only be used on data for which preprocessed files are already present on your system. nnU-Net cannot be used for experiment planning and preprocessing like this. If this is not intended, please read documentation/setting_up_paths.md for information on how to set this up properly.\n",
      "nnUNet_preprocessed is not defined and nnU-Net can not be used for preprocessing or training. If this is not intended, please read documentation/setting_up_paths.md for information on how to set this up.\n",
      "nnUNet_results is not defined and nnU-Net cannot be used for training or inference. If this is not intended behavior, please read documentation/setting_up_paths.md for information on how to set this up.\n",
      "\n",
      "Predicting image of shape torch.Size([1, 1, 128, 128]):\n",
      "perform_everything_on_device: True\n"
     ]
    },
    {
     "name": "stderr",
     "output_type": "stream",
     "text": [
      "100%|██████████| 2/2 [00:00<00:00, 63.81it/s]\n",
      "100%|██████████| 2/2 [00:00<00:00, 69.82it/s]\n",
      "100%|██████████| 2/2 [00:00<00:00, 68.79it/s]\n",
      "100%|██████████| 2/2 [00:00<00:00, 74.15it/s]\n",
      "100%|██████████| 2/2 [00:00<00:00, 73.91it/s]\n"
     ]
    },
    {
     "name": "stdout",
     "output_type": "stream",
     "text": [
      "sending off prediction to background worker for resampling\n",
      "\n",
      "Done with image of shape torch.Size([1, 1, 128, 128]):\n",
      "\n",
      "Predicting image of shape torch.Size([1, 1, 128, 128]):\n",
      "perform_everything_on_device: True\n"
     ]
    },
    {
     "name": "stderr",
     "output_type": "stream",
     "text": [
      "100%|██████████| 2/2 [00:00<00:00, 73.85it/s]\n",
      "100%|██████████| 2/2 [00:00<00:00, 72.26it/s]\n",
      "100%|██████████| 2/2 [00:00<00:00, 73.85it/s]\n",
      "100%|██████████| 2/2 [00:00<00:00, 73.93it/s]\n",
      "100%|██████████| 2/2 [00:00<00:00, 73.37it/s]\n"
     ]
    },
    {
     "name": "stdout",
     "output_type": "stream",
     "text": [
      "sending off prediction to background worker for resampling\n",
      "\n",
      "Done with image of shape torch.Size([1, 1, 128, 128]):\n",
      "2\n",
      "shape of segmentation map of 1 sample (128, 128)\n",
      "type of segmentation map of 1 sample <class 'numpy.ndarray'>\n"
     ]
    },
    {
     "name": "stderr",
     "output_type": "stream",
     "text": [
      "100%|██████████| 200/200 [00:04<00:00, 45.96it/s]"
     ]
    },
    {
     "name": "stdout",
     "output_type": "stream",
     "text": [
      "shape of all counterfactuals torch.Size([16, 1, 128, 128])\n",
      "shape of all originals torch.Size([16, 1, 128, 128])\n"
     ]
    },
    {
     "name": "stderr",
     "output_type": "stream",
     "text": [
      "\n"
     ]
    },
    {
     "name": "stdout",
     "output_type": "stream",
     "text": [
      "nnUNet_raw is not defined and nnU-Net can only be used on data for which preprocessed files are already present on your system. nnU-Net cannot be used for experiment planning and preprocessing like this. If this is not intended, please read documentation/setting_up_paths.md for information on how to set this up properly.\n",
      "nnUNet_preprocessed is not defined and nnU-Net can not be used for preprocessing or training. If this is not intended, please read documentation/setting_up_paths.md for information on how to set this up.\n",
      "nnUNet_results is not defined and nnU-Net cannot be used for training or inference. If this is not intended behavior, please read documentation/setting_up_paths.md for information on how to set this up.\n",
      "\n",
      "Predicting image of shape torch.Size([1, 1, 128, 128]):\n",
      "perform_everything_on_device: True\n"
     ]
    },
    {
     "name": "stderr",
     "output_type": "stream",
     "text": [
      "100%|██████████| 2/2 [00:00<00:00, 70.13it/s]\n",
      "100%|██████████| 2/2 [00:00<00:00, 73.31it/s]\n",
      "100%|██████████| 2/2 [00:00<00:00, 73.64it/s]\n",
      "100%|██████████| 2/2 [00:00<00:00, 73.54it/s]\n",
      "100%|██████████| 2/2 [00:00<00:00, 73.38it/s]\n"
     ]
    },
    {
     "name": "stdout",
     "output_type": "stream",
     "text": [
      "sending off prediction to background worker for resampling\n",
      "\n",
      "Done with image of shape torch.Size([1, 1, 128, 128]):\n",
      "\n",
      "Predicting image of shape torch.Size([1, 1, 128, 128]):\n",
      "perform_everything_on_device: True\n"
     ]
    },
    {
     "name": "stderr",
     "output_type": "stream",
     "text": [
      "100%|██████████| 2/2 [00:00<00:00, 71.74it/s]\n",
      "100%|██████████| 2/2 [00:00<00:00, 71.54it/s]\n",
      "100%|██████████| 2/2 [00:00<00:00, 71.51it/s]\n",
      "100%|██████████| 2/2 [00:00<00:00, 67.14it/s]\n",
      "100%|██████████| 2/2 [00:00<00:00, 73.68it/s]\n"
     ]
    },
    {
     "name": "stdout",
     "output_type": "stream",
     "text": [
      "sending off prediction to background worker for resampling\n",
      "\n",
      "Done with image of shape torch.Size([1, 1, 128, 128]):\n",
      "2\n",
      "shape of segmentation map of 1 sample (128, 128)\n",
      "type of segmentation map of 1 sample <class 'numpy.ndarray'>\n",
      "nnUNet_raw is not defined and nnU-Net can only be used on data for which preprocessed files are already present on your system. nnU-Net cannot be used for experiment planning and preprocessing like this. If this is not intended, please read documentation/setting_up_paths.md for information on how to set this up properly.\n",
      "nnUNet_preprocessed is not defined and nnU-Net can not be used for preprocessing or training. If this is not intended, please read documentation/setting_up_paths.md for information on how to set this up.\n",
      "nnUNet_results is not defined and nnU-Net cannot be used for training or inference. If this is not intended behavior, please read documentation/setting_up_paths.md for information on how to set this up.\n",
      "\n",
      "Predicting image of shape torch.Size([1, 1, 128, 128]):\n",
      "perform_everything_on_device: True\n"
     ]
    },
    {
     "name": "stderr",
     "output_type": "stream",
     "text": [
      "100%|██████████| 2/2 [00:00<00:00, 68.61it/s]\n",
      "100%|██████████| 2/2 [00:00<00:00, 72.92it/s]\n",
      "100%|██████████| 2/2 [00:00<00:00, 73.38it/s]\n",
      "100%|██████████| 2/2 [00:00<00:00, 73.46it/s]\n",
      "100%|██████████| 2/2 [00:00<00:00, 73.10it/s]\n"
     ]
    },
    {
     "name": "stdout",
     "output_type": "stream",
     "text": [
      "sending off prediction to background worker for resampling\n",
      "\n",
      "Done with image of shape torch.Size([1, 1, 128, 128]):\n",
      "\n",
      "Predicting image of shape torch.Size([1, 1, 128, 128]):\n",
      "perform_everything_on_device: True\n"
     ]
    },
    {
     "name": "stderr",
     "output_type": "stream",
     "text": [
      "100%|██████████| 2/2 [00:00<00:00, 72.49it/s]\n",
      "100%|██████████| 2/2 [00:00<00:00, 71.06it/s]\n",
      "100%|██████████| 2/2 [00:00<00:00, 71.04it/s]\n",
      "100%|██████████| 2/2 [00:00<00:00, 72.81it/s]\n",
      "100%|██████████| 2/2 [00:00<00:00, 72.28it/s]\n"
     ]
    },
    {
     "name": "stdout",
     "output_type": "stream",
     "text": [
      "sending off prediction to background worker for resampling\n",
      "\n",
      "Done with image of shape torch.Size([1, 1, 128, 128]):\n",
      "2\n",
      "shape of segmentation map of 1 sample (128, 128)\n",
      "type of segmentation map of 1 sample <class 'numpy.ndarray'>\n"
     ]
    },
    {
     "name": "stderr",
     "output_type": "stream",
     "text": [
      "100%|██████████| 200/200 [00:04<00:00, 45.88it/s]"
     ]
    },
    {
     "name": "stdout",
     "output_type": "stream",
     "text": [
      "shape of all counterfactuals torch.Size([18, 1, 128, 128])\n",
      "shape of all originals torch.Size([18, 1, 128, 128])\n"
     ]
    },
    {
     "name": "stderr",
     "output_type": "stream",
     "text": [
      "\n"
     ]
    },
    {
     "name": "stdout",
     "output_type": "stream",
     "text": [
      "nnUNet_raw is not defined and nnU-Net can only be used on data for which preprocessed files are already present on your system. nnU-Net cannot be used for experiment planning and preprocessing like this. If this is not intended, please read documentation/setting_up_paths.md for information on how to set this up properly.\n",
      "nnUNet_preprocessed is not defined and nnU-Net can not be used for preprocessing or training. If this is not intended, please read documentation/setting_up_paths.md for information on how to set this up.\n",
      "nnUNet_results is not defined and nnU-Net cannot be used for training or inference. If this is not intended behavior, please read documentation/setting_up_paths.md for information on how to set this up.\n",
      "\n",
      "Predicting image of shape torch.Size([1, 1, 128, 128]):\n",
      "perform_everything_on_device: True\n"
     ]
    },
    {
     "name": "stderr",
     "output_type": "stream",
     "text": [
      "100%|██████████| 2/2 [00:00<00:00, 68.86it/s]\n",
      "100%|██████████| 2/2 [00:00<00:00, 73.59it/s]\n",
      "100%|██████████| 2/2 [00:00<00:00, 73.31it/s]\n",
      "100%|██████████| 2/2 [00:00<00:00, 73.62it/s]\n",
      "100%|██████████| 2/2 [00:00<00:00, 73.49it/s]\n"
     ]
    },
    {
     "name": "stdout",
     "output_type": "stream",
     "text": [
      "sending off prediction to background worker for resampling\n",
      "\n",
      "Done with image of shape torch.Size([1, 1, 128, 128]):\n",
      "\n",
      "Predicting image of shape torch.Size([1, 1, 128, 128]):\n",
      "perform_everything_on_device: True\n"
     ]
    },
    {
     "name": "stderr",
     "output_type": "stream",
     "text": [
      "100%|██████████| 2/2 [00:00<00:00, 73.57it/s]\n",
      "100%|██████████| 2/2 [00:00<00:00, 73.22it/s]\n",
      "100%|██████████| 2/2 [00:00<00:00, 73.09it/s]\n",
      "100%|██████████| 2/2 [00:00<00:00, 73.27it/s]\n",
      "100%|██████████| 2/2 [00:00<00:00, 74.10it/s]\n"
     ]
    },
    {
     "name": "stdout",
     "output_type": "stream",
     "text": [
      "sending off prediction to background worker for resampling\n",
      "\n",
      "Done with image of shape torch.Size([1, 1, 128, 128]):\n",
      "2\n",
      "shape of segmentation map of 1 sample (128, 128)\n",
      "type of segmentation map of 1 sample <class 'numpy.ndarray'>\n",
      "nnUNet_raw is not defined and nnU-Net can only be used on data for which preprocessed files are already present on your system. nnU-Net cannot be used for experiment planning and preprocessing like this. If this is not intended, please read documentation/setting_up_paths.md for information on how to set this up properly.\n",
      "nnUNet_preprocessed is not defined and nnU-Net can not be used for preprocessing or training. If this is not intended, please read documentation/setting_up_paths.md for information on how to set this up.\n",
      "nnUNet_results is not defined and nnU-Net cannot be used for training or inference. If this is not intended behavior, please read documentation/setting_up_paths.md for information on how to set this up.\n",
      "\n",
      "Predicting image of shape torch.Size([1, 1, 128, 128]):\n",
      "perform_everything_on_device: True\n"
     ]
    },
    {
     "name": "stderr",
     "output_type": "stream",
     "text": [
      "100%|██████████| 2/2 [00:00<00:00, 64.28it/s]\n",
      "100%|██████████| 2/2 [00:00<00:00, 73.29it/s]\n",
      "100%|██████████| 2/2 [00:00<00:00, 73.00it/s]\n",
      "100%|██████████| 2/2 [00:00<00:00, 73.60it/s]\n",
      "100%|██████████| 2/2 [00:00<00:00, 73.26it/s]\n"
     ]
    },
    {
     "name": "stdout",
     "output_type": "stream",
     "text": [
      "sending off prediction to background worker for resampling\n",
      "\n",
      "Done with image of shape torch.Size([1, 1, 128, 128]):\n",
      "\n",
      "Predicting image of shape torch.Size([1, 1, 128, 128]):\n",
      "perform_everything_on_device: True\n"
     ]
    },
    {
     "name": "stderr",
     "output_type": "stream",
     "text": [
      "100%|██████████| 2/2 [00:00<00:00, 69.68it/s]\n",
      "100%|██████████| 2/2 [00:00<00:00, 72.61it/s]\n",
      "100%|██████████| 2/2 [00:00<00:00, 72.99it/s]\n",
      "100%|██████████| 2/2 [00:00<00:00, 73.05it/s]\n",
      "100%|██████████| 2/2 [00:00<00:00, 70.75it/s]\n"
     ]
    },
    {
     "name": "stdout",
     "output_type": "stream",
     "text": [
      "sending off prediction to background worker for resampling\n",
      "\n",
      "Done with image of shape torch.Size([1, 1, 128, 128]):\n",
      "2\n",
      "shape of segmentation map of 1 sample (128, 128)\n",
      "type of segmentation map of 1 sample <class 'numpy.ndarray'>\n"
     ]
    },
    {
     "name": "stderr",
     "output_type": "stream",
     "text": [
      "100%|██████████| 200/200 [00:04<00:00, 45.77it/s]"
     ]
    },
    {
     "name": "stdout",
     "output_type": "stream",
     "text": [
      "shape of all counterfactuals torch.Size([20, 1, 128, 128])\n",
      "shape of all originals torch.Size([20, 1, 128, 128])\n"
     ]
    },
    {
     "name": "stderr",
     "output_type": "stream",
     "text": [
      "\n"
     ]
    },
    {
     "name": "stdout",
     "output_type": "stream",
     "text": [
      "nnUNet_raw is not defined and nnU-Net can only be used on data for which preprocessed files are already present on your system. nnU-Net cannot be used for experiment planning and preprocessing like this. If this is not intended, please read documentation/setting_up_paths.md for information on how to set this up properly.\n",
      "nnUNet_preprocessed is not defined and nnU-Net can not be used for preprocessing or training. If this is not intended, please read documentation/setting_up_paths.md for information on how to set this up.\n",
      "nnUNet_results is not defined and nnU-Net cannot be used for training or inference. If this is not intended behavior, please read documentation/setting_up_paths.md for information on how to set this up.\n",
      "\n",
      "Predicting image of shape torch.Size([1, 1, 128, 128]):\n",
      "perform_everything_on_device: True\n"
     ]
    },
    {
     "name": "stderr",
     "output_type": "stream",
     "text": [
      "100%|██████████| 2/2 [00:00<00:00, 69.11it/s]\n",
      "100%|██████████| 2/2 [00:00<00:00, 73.64it/s]\n",
      "100%|██████████| 2/2 [00:00<00:00, 73.76it/s]\n",
      "100%|██████████| 2/2 [00:00<00:00, 73.62it/s]\n",
      "100%|██████████| 2/2 [00:00<00:00, 73.46it/s]\n"
     ]
    },
    {
     "name": "stdout",
     "output_type": "stream",
     "text": [
      "sending off prediction to background worker for resampling\n",
      "\n",
      "Done with image of shape torch.Size([1, 1, 128, 128]):\n",
      "\n",
      "Predicting image of shape torch.Size([1, 1, 128, 128]):\n",
      "perform_everything_on_device: True\n"
     ]
    },
    {
     "name": "stderr",
     "output_type": "stream",
     "text": [
      "100%|██████████| 2/2 [00:00<00:00, 72.31it/s]\n",
      "100%|██████████| 2/2 [00:00<00:00, 72.19it/s]\n",
      "100%|██████████| 2/2 [00:00<00:00, 72.93it/s]\n",
      "100%|██████████| 2/2 [00:00<00:00, 73.63it/s]\n",
      "100%|██████████| 2/2 [00:00<00:00, 74.13it/s]\n"
     ]
    },
    {
     "name": "stdout",
     "output_type": "stream",
     "text": [
      "sending off prediction to background worker for resampling\n",
      "\n",
      "Done with image of shape torch.Size([1, 1, 128, 128]):\n",
      "2\n",
      "shape of segmentation map of 1 sample (128, 128)\n",
      "type of segmentation map of 1 sample <class 'numpy.ndarray'>\n",
      "nnUNet_raw is not defined and nnU-Net can only be used on data for which preprocessed files are already present on your system. nnU-Net cannot be used for experiment planning and preprocessing like this. If this is not intended, please read documentation/setting_up_paths.md for information on how to set this up properly.\n",
      "nnUNet_preprocessed is not defined and nnU-Net can not be used for preprocessing or training. If this is not intended, please read documentation/setting_up_paths.md for information on how to set this up.\n",
      "nnUNet_results is not defined and nnU-Net cannot be used for training or inference. If this is not intended behavior, please read documentation/setting_up_paths.md for information on how to set this up.\n",
      "\n",
      "Predicting image of shape torch.Size([1, 1, 128, 128]):\n",
      "perform_everything_on_device: True\n"
     ]
    },
    {
     "name": "stderr",
     "output_type": "stream",
     "text": [
      "100%|██████████| 2/2 [00:00<00:00, 68.35it/s]\n",
      "100%|██████████| 2/2 [00:00<00:00, 72.89it/s]\n",
      "100%|██████████| 2/2 [00:00<00:00, 74.08it/s]\n",
      "100%|██████████| 2/2 [00:00<00:00, 74.41it/s]\n",
      "100%|██████████| 2/2 [00:00<00:00, 72.23it/s]\n"
     ]
    },
    {
     "name": "stdout",
     "output_type": "stream",
     "text": [
      "sending off prediction to background worker for resampling\n",
      "\n",
      "Done with image of shape torch.Size([1, 1, 128, 128]):\n",
      "\n",
      "Predicting image of shape torch.Size([1, 1, 128, 128]):\n",
      "perform_everything_on_device: True\n"
     ]
    },
    {
     "name": "stderr",
     "output_type": "stream",
     "text": [
      "100%|██████████| 2/2 [00:00<00:00, 36.90it/s]\n",
      "100%|██████████| 2/2 [00:00<00:00, 73.25it/s]\n",
      "100%|██████████| 2/2 [00:00<00:00, 73.84it/s]\n",
      "100%|██████████| 2/2 [00:00<00:00, 73.57it/s]\n",
      "100%|██████████| 2/2 [00:00<00:00, 73.49it/s]\n"
     ]
    },
    {
     "name": "stdout",
     "output_type": "stream",
     "text": [
      "sending off prediction to background worker for resampling\n",
      "\n",
      "Done with image of shape torch.Size([1, 1, 128, 128]):\n",
      "2\n",
      "shape of segmentation map of 1 sample (128, 128)\n",
      "type of segmentation map of 1 sample <class 'numpy.ndarray'>\n"
     ]
    },
    {
     "name": "stderr",
     "output_type": "stream",
     "text": [
      "100%|██████████| 200/200 [00:04<00:00, 45.75it/s]"
     ]
    },
    {
     "name": "stdout",
     "output_type": "stream",
     "text": [
      "shape of all counterfactuals torch.Size([22, 1, 128, 128])\n",
      "shape of all originals torch.Size([22, 1, 128, 128])\n"
     ]
    },
    {
     "name": "stderr",
     "output_type": "stream",
     "text": [
      "\n"
     ]
    },
    {
     "name": "stdout",
     "output_type": "stream",
     "text": [
      "nnUNet_raw is not defined and nnU-Net can only be used on data for which preprocessed files are already present on your system. nnU-Net cannot be used for experiment planning and preprocessing like this. If this is not intended, please read documentation/setting_up_paths.md for information on how to set this up properly.\n",
      "nnUNet_preprocessed is not defined and nnU-Net can not be used for preprocessing or training. If this is not intended, please read documentation/setting_up_paths.md for information on how to set this up.\n",
      "nnUNet_results is not defined and nnU-Net cannot be used for training or inference. If this is not intended behavior, please read documentation/setting_up_paths.md for information on how to set this up.\n",
      "\n",
      "Predicting image of shape torch.Size([1, 1, 128, 128]):\n",
      "perform_everything_on_device: True\n"
     ]
    },
    {
     "name": "stderr",
     "output_type": "stream",
     "text": [
      "100%|██████████| 2/2 [00:00<00:00, 68.63it/s]\n",
      "100%|██████████| 2/2 [00:00<00:00, 72.93it/s]\n",
      "100%|██████████| 2/2 [00:00<00:00, 73.48it/s]\n",
      "100%|██████████| 2/2 [00:00<00:00, 73.59it/s]\n",
      "100%|██████████| 2/2 [00:00<00:00, 73.63it/s]\n"
     ]
    },
    {
     "name": "stdout",
     "output_type": "stream",
     "text": [
      "sending off prediction to background worker for resampling\n",
      "\n",
      "Done with image of shape torch.Size([1, 1, 128, 128]):\n",
      "\n",
      "Predicting image of shape torch.Size([1, 1, 128, 128]):\n",
      "perform_everything_on_device: True\n"
     ]
    },
    {
     "name": "stderr",
     "output_type": "stream",
     "text": [
      "100%|██████████| 2/2 [00:00<00:00, 73.36it/s]\n",
      "100%|██████████| 2/2 [00:00<00:00, 73.02it/s]\n",
      "100%|██████████| 2/2 [00:00<00:00, 73.32it/s]\n",
      "100%|██████████| 2/2 [00:00<00:00, 73.12it/s]\n",
      "100%|██████████| 2/2 [00:00<00:00, 74.08it/s]\n"
     ]
    },
    {
     "name": "stdout",
     "output_type": "stream",
     "text": [
      "sending off prediction to background worker for resampling\n",
      "\n",
      "Done with image of shape torch.Size([1, 1, 128, 128]):\n",
      "2\n",
      "shape of segmentation map of 1 sample (128, 128)\n",
      "type of segmentation map of 1 sample <class 'numpy.ndarray'>\n",
      "nnUNet_raw is not defined and nnU-Net can only be used on data for which preprocessed files are already present on your system. nnU-Net cannot be used for experiment planning and preprocessing like this. If this is not intended, please read documentation/setting_up_paths.md for information on how to set this up properly.\n",
      "nnUNet_preprocessed is not defined and nnU-Net can not be used for preprocessing or training. If this is not intended, please read documentation/setting_up_paths.md for information on how to set this up.\n",
      "nnUNet_results is not defined and nnU-Net cannot be used for training or inference. If this is not intended behavior, please read documentation/setting_up_paths.md for information on how to set this up.\n",
      "\n",
      "Predicting image of shape torch.Size([1, 1, 128, 128]):\n",
      "perform_everything_on_device: True\n"
     ]
    },
    {
     "name": "stderr",
     "output_type": "stream",
     "text": [
      "100%|██████████| 2/2 [00:00<00:00, 68.00it/s]\n",
      "100%|██████████| 2/2 [00:00<00:00, 73.81it/s]\n",
      "100%|██████████| 2/2 [00:00<00:00, 74.16it/s]\n",
      "100%|██████████| 2/2 [00:00<00:00, 73.08it/s]\n",
      "100%|██████████| 2/2 [00:00<00:00, 72.90it/s]\n"
     ]
    },
    {
     "name": "stdout",
     "output_type": "stream",
     "text": [
      "sending off prediction to background worker for resampling\n",
      "\n",
      "Done with image of shape torch.Size([1, 1, 128, 128]):\n",
      "\n",
      "Predicting image of shape torch.Size([1, 1, 128, 128]):\n",
      "perform_everything_on_device: True\n"
     ]
    },
    {
     "name": "stderr",
     "output_type": "stream",
     "text": [
      "100%|██████████| 2/2 [00:00<00:00, 72.21it/s]\n",
      "100%|██████████| 2/2 [00:00<00:00, 72.26it/s]\n",
      "100%|██████████| 2/2 [00:00<00:00, 73.58it/s]\n",
      "100%|██████████| 2/2 [00:00<00:00, 73.95it/s]\n",
      "100%|██████████| 2/2 [00:00<00:00, 73.79it/s]\n"
     ]
    },
    {
     "name": "stdout",
     "output_type": "stream",
     "text": [
      "sending off prediction to background worker for resampling\n",
      "\n",
      "Done with image of shape torch.Size([1, 1, 128, 128]):\n",
      "2\n",
      "shape of segmentation map of 1 sample (128, 128)\n",
      "type of segmentation map of 1 sample <class 'numpy.ndarray'>\n"
     ]
    },
    {
     "name": "stderr",
     "output_type": "stream",
     "text": [
      "100%|██████████| 200/200 [00:04<00:00, 45.69it/s]"
     ]
    },
    {
     "name": "stdout",
     "output_type": "stream",
     "text": [
      "shape of all counterfactuals torch.Size([24, 1, 128, 128])\n",
      "shape of all originals torch.Size([24, 1, 128, 128])\n"
     ]
    },
    {
     "name": "stderr",
     "output_type": "stream",
     "text": [
      "\n"
     ]
    },
    {
     "name": "stdout",
     "output_type": "stream",
     "text": [
      "nnUNet_raw is not defined and nnU-Net can only be used on data for which preprocessed files are already present on your system. nnU-Net cannot be used for experiment planning and preprocessing like this. If this is not intended, please read documentation/setting_up_paths.md for information on how to set this up properly.\n",
      "nnUNet_preprocessed is not defined and nnU-Net can not be used for preprocessing or training. If this is not intended, please read documentation/setting_up_paths.md for information on how to set this up.\n",
      "nnUNet_results is not defined and nnU-Net cannot be used for training or inference. If this is not intended behavior, please read documentation/setting_up_paths.md for information on how to set this up.\n",
      "\n",
      "Predicting image of shape torch.Size([1, 1, 128, 128]):\n",
      "perform_everything_on_device: True\n"
     ]
    },
    {
     "name": "stderr",
     "output_type": "stream",
     "text": [
      "100%|██████████| 2/2 [00:00<00:00, 70.39it/s]\n",
      "100%|██████████| 2/2 [00:00<00:00, 74.17it/s]\n",
      "100%|██████████| 2/2 [00:00<00:00, 73.93it/s]\n",
      "100%|██████████| 2/2 [00:00<00:00, 73.88it/s]\n",
      "100%|██████████| 2/2 [00:00<00:00, 73.78it/s]\n"
     ]
    },
    {
     "name": "stdout",
     "output_type": "stream",
     "text": [
      "sending off prediction to background worker for resampling\n",
      "\n",
      "Done with image of shape torch.Size([1, 1, 128, 128]):\n",
      "\n",
      "Predicting image of shape torch.Size([1, 1, 128, 128]):\n",
      "perform_everything_on_device: True\n"
     ]
    },
    {
     "name": "stderr",
     "output_type": "stream",
     "text": [
      "100%|██████████| 2/2 [00:00<00:00, 72.21it/s]\n",
      "100%|██████████| 2/2 [00:00<00:00, 72.80it/s]\n",
      "100%|██████████| 2/2 [00:00<00:00, 73.56it/s]\n",
      "100%|██████████| 2/2 [00:00<00:00, 73.89it/s]\n",
      "100%|██████████| 2/2 [00:00<00:00, 74.15it/s]\n"
     ]
    },
    {
     "name": "stdout",
     "output_type": "stream",
     "text": [
      "sending off prediction to background worker for resampling\n",
      "\n",
      "Done with image of shape torch.Size([1, 1, 128, 128]):\n",
      "2\n",
      "shape of segmentation map of 1 sample (128, 128)\n",
      "type of segmentation map of 1 sample <class 'numpy.ndarray'>\n",
      "nnUNet_raw is not defined and nnU-Net can only be used on data for which preprocessed files are already present on your system. nnU-Net cannot be used for experiment planning and preprocessing like this. If this is not intended, please read documentation/setting_up_paths.md for information on how to set this up properly.\n",
      "nnUNet_preprocessed is not defined and nnU-Net can not be used for preprocessing or training. If this is not intended, please read documentation/setting_up_paths.md for information on how to set this up.\n",
      "nnUNet_results is not defined and nnU-Net cannot be used for training or inference. If this is not intended behavior, please read documentation/setting_up_paths.md for information on how to set this up.\n",
      "\n",
      "Predicting image of shape torch.Size([1, 1, 128, 128]):\n",
      "perform_everything_on_device: True\n"
     ]
    },
    {
     "name": "stderr",
     "output_type": "stream",
     "text": [
      "100%|██████████| 2/2 [00:00<00:00, 69.55it/s]\n",
      "100%|██████████| 2/2 [00:00<00:00, 74.18it/s]\n",
      "100%|██████████| 2/2 [00:00<00:00, 73.47it/s]\n",
      "100%|██████████| 2/2 [00:00<00:00, 74.21it/s]\n",
      "100%|██████████| 2/2 [00:00<00:00, 74.15it/s]\n"
     ]
    },
    {
     "name": "stdout",
     "output_type": "stream",
     "text": [
      "sending off prediction to background worker for resampling\n",
      "\n",
      "Done with image of shape torch.Size([1, 1, 128, 128]):\n",
      "\n",
      "Predicting image of shape torch.Size([1, 1, 128, 128]):\n",
      "perform_everything_on_device: True\n"
     ]
    },
    {
     "name": "stderr",
     "output_type": "stream",
     "text": [
      "100%|██████████| 2/2 [00:00<00:00, 74.53it/s]\n",
      "100%|██████████| 2/2 [00:00<00:00, 74.18it/s]\n",
      "100%|██████████| 2/2 [00:00<00:00, 73.50it/s]\n",
      "100%|██████████| 2/2 [00:00<00:00, 74.34it/s]\n",
      "100%|██████████| 2/2 [00:00<00:00, 73.34it/s]\n"
     ]
    },
    {
     "name": "stdout",
     "output_type": "stream",
     "text": [
      "sending off prediction to background worker for resampling\n",
      "\n",
      "Done with image of shape torch.Size([1, 1, 128, 128]):\n",
      "2\n",
      "shape of segmentation map of 1 sample (128, 128)\n",
      "type of segmentation map of 1 sample <class 'numpy.ndarray'>\n"
     ]
    },
    {
     "name": "stderr",
     "output_type": "stream",
     "text": [
      "100%|██████████| 200/200 [00:04<00:00, 45.66it/s]"
     ]
    },
    {
     "name": "stdout",
     "output_type": "stream",
     "text": [
      "shape of all counterfactuals torch.Size([26, 1, 128, 128])\n",
      "shape of all originals torch.Size([26, 1, 128, 128])\n"
     ]
    },
    {
     "name": "stderr",
     "output_type": "stream",
     "text": [
      "\n"
     ]
    },
    {
     "name": "stdout",
     "output_type": "stream",
     "text": [
      "nnUNet_raw is not defined and nnU-Net can only be used on data for which preprocessed files are already present on your system. nnU-Net cannot be used for experiment planning and preprocessing like this. If this is not intended, please read documentation/setting_up_paths.md for information on how to set this up properly.\n",
      "nnUNet_preprocessed is not defined and nnU-Net can not be used for preprocessing or training. If this is not intended, please read documentation/setting_up_paths.md for information on how to set this up.\n",
      "nnUNet_results is not defined and nnU-Net cannot be used for training or inference. If this is not intended behavior, please read documentation/setting_up_paths.md for information on how to set this up.\n",
      "\n",
      "Predicting image of shape torch.Size([1, 1, 128, 128]):\n",
      "perform_everything_on_device: True\n"
     ]
    },
    {
     "name": "stderr",
     "output_type": "stream",
     "text": [
      "100%|██████████| 2/2 [00:00<00:00, 70.25it/s]\n",
      "100%|██████████| 2/2 [00:00<00:00, 74.50it/s]\n",
      "100%|██████████| 2/2 [00:00<00:00, 74.37it/s]\n",
      "100%|██████████| 2/2 [00:00<00:00, 74.17it/s]\n",
      "100%|██████████| 2/2 [00:00<00:00, 71.14it/s]\n"
     ]
    },
    {
     "name": "stdout",
     "output_type": "stream",
     "text": [
      "sending off prediction to background worker for resampling\n",
      "\n",
      "Done with image of shape torch.Size([1, 1, 128, 128]):\n",
      "\n",
      "Predicting image of shape torch.Size([1, 1, 128, 128]):\n",
      "perform_everything_on_device: True\n"
     ]
    },
    {
     "name": "stderr",
     "output_type": "stream",
     "text": [
      "100%|██████████| 2/2 [00:00<00:00, 74.47it/s]\n",
      "100%|██████████| 2/2 [00:00<00:00, 74.21it/s]\n",
      "100%|██████████| 2/2 [00:00<00:00, 73.76it/s]\n",
      "100%|██████████| 2/2 [00:00<00:00, 73.17it/s]\n",
      "100%|██████████| 2/2 [00:00<00:00, 73.75it/s]\n"
     ]
    },
    {
     "name": "stdout",
     "output_type": "stream",
     "text": [
      "sending off prediction to background worker for resampling\n",
      "\n",
      "Done with image of shape torch.Size([1, 1, 128, 128]):\n",
      "2\n",
      "shape of segmentation map of 1 sample (128, 128)\n",
      "type of segmentation map of 1 sample <class 'numpy.ndarray'>\n",
      "nnUNet_raw is not defined and nnU-Net can only be used on data for which preprocessed files are already present on your system. nnU-Net cannot be used for experiment planning and preprocessing like this. If this is not intended, please read documentation/setting_up_paths.md for information on how to set this up properly.\n",
      "nnUNet_preprocessed is not defined and nnU-Net can not be used for preprocessing or training. If this is not intended, please read documentation/setting_up_paths.md for information on how to set this up.\n",
      "nnUNet_results is not defined and nnU-Net cannot be used for training or inference. If this is not intended behavior, please read documentation/setting_up_paths.md for information on how to set this up.\n",
      "\n",
      "Predicting image of shape torch.Size([1, 1, 128, 128]):\n",
      "perform_everything_on_device: True\n"
     ]
    },
    {
     "name": "stderr",
     "output_type": "stream",
     "text": [
      "100%|██████████| 2/2 [00:00<00:00, 64.46it/s]\n",
      "100%|██████████| 2/2 [00:00<00:00, 69.16it/s]\n",
      "100%|██████████| 2/2 [00:00<00:00, 73.08it/s]\n",
      "100%|██████████| 2/2 [00:00<00:00, 73.65it/s]\n",
      "100%|██████████| 2/2 [00:00<00:00, 72.07it/s]\n"
     ]
    },
    {
     "name": "stdout",
     "output_type": "stream",
     "text": [
      "sending off prediction to background worker for resampling\n",
      "\n",
      "Done with image of shape torch.Size([1, 1, 128, 128]):\n",
      "\n",
      "Predicting image of shape torch.Size([1, 1, 128, 128]):\n",
      "perform_everything_on_device: True\n"
     ]
    },
    {
     "name": "stderr",
     "output_type": "stream",
     "text": [
      "100%|██████████| 2/2 [00:00<00:00, 66.92it/s]\n",
      "100%|██████████| 2/2 [00:00<00:00, 70.22it/s]\n",
      "100%|██████████| 2/2 [00:00<00:00, 73.40it/s]\n",
      "100%|██████████| 2/2 [00:00<00:00, 73.88it/s]\n",
      "100%|██████████| 2/2 [00:00<00:00, 72.93it/s]\n"
     ]
    },
    {
     "name": "stdout",
     "output_type": "stream",
     "text": [
      "sending off prediction to background worker for resampling\n",
      "\n",
      "Done with image of shape torch.Size([1, 1, 128, 128]):\n",
      "2\n",
      "shape of segmentation map of 1 sample (128, 128)\n",
      "type of segmentation map of 1 sample <class 'numpy.ndarray'>\n"
     ]
    },
    {
     "name": "stderr",
     "output_type": "stream",
     "text": [
      "100%|██████████| 200/200 [00:04<00:00, 45.66it/s]"
     ]
    },
    {
     "name": "stdout",
     "output_type": "stream",
     "text": [
      "shape of all counterfactuals torch.Size([28, 1, 128, 128])\n",
      "shape of all originals torch.Size([28, 1, 128, 128])\n"
     ]
    },
    {
     "name": "stderr",
     "output_type": "stream",
     "text": [
      "\n"
     ]
    },
    {
     "name": "stdout",
     "output_type": "stream",
     "text": [
      "nnUNet_raw is not defined and nnU-Net can only be used on data for which preprocessed files are already present on your system. nnU-Net cannot be used for experiment planning and preprocessing like this. If this is not intended, please read documentation/setting_up_paths.md for information on how to set this up properly.\n",
      "nnUNet_preprocessed is not defined and nnU-Net can not be used for preprocessing or training. If this is not intended, please read documentation/setting_up_paths.md for information on how to set this up.\n",
      "nnUNet_results is not defined and nnU-Net cannot be used for training or inference. If this is not intended behavior, please read documentation/setting_up_paths.md for information on how to set this up.\n",
      "\n",
      "Predicting image of shape torch.Size([1, 1, 128, 128]):\n",
      "perform_everything_on_device: True\n"
     ]
    },
    {
     "name": "stderr",
     "output_type": "stream",
     "text": [
      "100%|██████████| 2/2 [00:00<00:00, 70.10it/s]\n",
      "100%|██████████| 2/2 [00:00<00:00, 74.21it/s]\n",
      "100%|██████████| 2/2 [00:00<00:00, 74.07it/s]\n",
      "100%|██████████| 2/2 [00:00<00:00, 73.69it/s]\n",
      "100%|██████████| 2/2 [00:00<00:00, 73.57it/s]\n"
     ]
    },
    {
     "name": "stdout",
     "output_type": "stream",
     "text": [
      "sending off prediction to background worker for resampling\n",
      "\n",
      "Done with image of shape torch.Size([1, 1, 128, 128]):\n",
      "\n",
      "Predicting image of shape torch.Size([1, 1, 128, 128]):\n",
      "perform_everything_on_device: True\n"
     ]
    },
    {
     "name": "stderr",
     "output_type": "stream",
     "text": [
      "100%|██████████| 2/2 [00:00<00:00, 67.79it/s]\n",
      "100%|██████████| 2/2 [00:00<00:00, 72.94it/s]\n",
      "100%|██████████| 2/2 [00:00<00:00, 73.56it/s]\n",
      "100%|██████████| 2/2 [00:00<00:00, 73.40it/s]\n",
      "100%|██████████| 2/2 [00:00<00:00, 72.90it/s]\n"
     ]
    },
    {
     "name": "stdout",
     "output_type": "stream",
     "text": [
      "sending off prediction to background worker for resampling\n",
      "\n",
      "Done with image of shape torch.Size([1, 1, 128, 128]):\n",
      "2\n",
      "shape of segmentation map of 1 sample (128, 128)\n",
      "type of segmentation map of 1 sample <class 'numpy.ndarray'>\n",
      "nnUNet_raw is not defined and nnU-Net can only be used on data for which preprocessed files are already present on your system. nnU-Net cannot be used for experiment planning and preprocessing like this. If this is not intended, please read documentation/setting_up_paths.md for information on how to set this up properly.\n",
      "nnUNet_preprocessed is not defined and nnU-Net can not be used for preprocessing or training. If this is not intended, please read documentation/setting_up_paths.md for information on how to set this up.\n",
      "nnUNet_results is not defined and nnU-Net cannot be used for training or inference. If this is not intended behavior, please read documentation/setting_up_paths.md for information on how to set this up.\n",
      "\n",
      "Predicting image of shape torch.Size([1, 1, 128, 128]):\n",
      "perform_everything_on_device: True\n"
     ]
    },
    {
     "name": "stderr",
     "output_type": "stream",
     "text": [
      "100%|██████████| 2/2 [00:00<00:00, 68.71it/s]\n",
      "100%|██████████| 2/2 [00:00<00:00, 73.22it/s]\n",
      "100%|██████████| 2/2 [00:00<00:00, 73.78it/s]\n",
      "100%|██████████| 2/2 [00:00<00:00, 73.79it/s]\n",
      "100%|██████████| 2/2 [00:00<00:00, 73.98it/s]\n"
     ]
    },
    {
     "name": "stdout",
     "output_type": "stream",
     "text": [
      "sending off prediction to background worker for resampling\n",
      "\n",
      "Done with image of shape torch.Size([1, 1, 128, 128]):\n",
      "\n",
      "Predicting image of shape torch.Size([1, 1, 128, 128]):\n",
      "perform_everything_on_device: True\n"
     ]
    },
    {
     "name": "stderr",
     "output_type": "stream",
     "text": [
      "100%|██████████| 2/2 [00:00<00:00, 42.28it/s]\n",
      "100%|██████████| 2/2 [00:00<00:00, 73.26it/s]\n",
      "100%|██████████| 2/2 [00:00<00:00, 67.47it/s]\n",
      "100%|██████████| 2/2 [00:00<00:00, 73.93it/s]\n",
      "100%|██████████| 2/2 [00:00<00:00, 73.79it/s]\n"
     ]
    },
    {
     "name": "stdout",
     "output_type": "stream",
     "text": [
      "sending off prediction to background worker for resampling\n",
      "\n",
      "Done with image of shape torch.Size([1, 1, 128, 128]):\n",
      "2\n",
      "shape of segmentation map of 1 sample (128, 128)\n",
      "type of segmentation map of 1 sample <class 'numpy.ndarray'>\n"
     ]
    },
    {
     "name": "stderr",
     "output_type": "stream",
     "text": [
      "100%|██████████| 200/200 [00:04<00:00, 45.60it/s]"
     ]
    },
    {
     "name": "stdout",
     "output_type": "stream",
     "text": [
      "shape of all counterfactuals torch.Size([30, 1, 128, 128])\n",
      "shape of all originals torch.Size([30, 1, 128, 128])\n"
     ]
    },
    {
     "name": "stderr",
     "output_type": "stream",
     "text": [
      "\n"
     ]
    },
    {
     "name": "stdout",
     "output_type": "stream",
     "text": [
      "nnUNet_raw is not defined and nnU-Net can only be used on data for which preprocessed files are already present on your system. nnU-Net cannot be used for experiment planning and preprocessing like this. If this is not intended, please read documentation/setting_up_paths.md for information on how to set this up properly.\n",
      "nnUNet_preprocessed is not defined and nnU-Net can not be used for preprocessing or training. If this is not intended, please read documentation/setting_up_paths.md for information on how to set this up.\n",
      "nnUNet_results is not defined and nnU-Net cannot be used for training or inference. If this is not intended behavior, please read documentation/setting_up_paths.md for information on how to set this up.\n",
      "\n",
      "Predicting image of shape torch.Size([1, 1, 128, 128]):\n",
      "perform_everything_on_device: True\n"
     ]
    },
    {
     "name": "stderr",
     "output_type": "stream",
     "text": [
      "100%|██████████| 2/2 [00:00<00:00, 63.74it/s]\n",
      "100%|██████████| 2/2 [00:00<00:00, 63.51it/s]\n",
      "100%|██████████| 2/2 [00:00<00:00, 72.10it/s]\n",
      "100%|██████████| 2/2 [00:00<00:00, 72.55it/s]\n",
      "100%|██████████| 2/2 [00:00<00:00, 72.97it/s]\n"
     ]
    },
    {
     "name": "stdout",
     "output_type": "stream",
     "text": [
      "sending off prediction to background worker for resampling\n",
      "\n",
      "Done with image of shape torch.Size([1, 1, 128, 128]):\n",
      "\n",
      "Predicting image of shape torch.Size([1, 1, 128, 128]):\n",
      "perform_everything_on_device: True\n"
     ]
    },
    {
     "name": "stderr",
     "output_type": "stream",
     "text": [
      "100%|██████████| 2/2 [00:00<00:00, 36.49it/s]\n",
      "100%|██████████| 2/2 [00:00<00:00, 71.33it/s]\n",
      "100%|██████████| 2/2 [00:00<00:00, 73.18it/s]\n",
      "100%|██████████| 2/2 [00:00<00:00, 74.22it/s]\n",
      "100%|██████████| 2/2 [00:00<00:00, 73.48it/s]\n"
     ]
    },
    {
     "name": "stdout",
     "output_type": "stream",
     "text": [
      "sending off prediction to background worker for resampling\n",
      "\n",
      "Done with image of shape torch.Size([1, 1, 128, 128]):\n",
      "2\n",
      "shape of segmentation map of 1 sample (128, 128)\n",
      "type of segmentation map of 1 sample <class 'numpy.ndarray'>\n",
      "nnUNet_raw is not defined and nnU-Net can only be used on data for which preprocessed files are already present on your system. nnU-Net cannot be used for experiment planning and preprocessing like this. If this is not intended, please read documentation/setting_up_paths.md for information on how to set this up properly.\n",
      "nnUNet_preprocessed is not defined and nnU-Net can not be used for preprocessing or training. If this is not intended, please read documentation/setting_up_paths.md for information on how to set this up.\n",
      "nnUNet_results is not defined and nnU-Net cannot be used for training or inference. If this is not intended behavior, please read documentation/setting_up_paths.md for information on how to set this up.\n",
      "\n",
      "Predicting image of shape torch.Size([1, 1, 128, 128]):\n",
      "perform_everything_on_device: True\n"
     ]
    },
    {
     "name": "stderr",
     "output_type": "stream",
     "text": [
      "100%|██████████| 2/2 [00:00<00:00, 68.82it/s]\n",
      "100%|██████████| 2/2 [00:00<00:00, 71.79it/s]\n",
      "100%|██████████| 2/2 [00:00<00:00, 73.34it/s]\n",
      "100%|██████████| 2/2 [00:00<00:00, 73.40it/s]\n",
      "100%|██████████| 2/2 [00:00<00:00, 72.90it/s]\n"
     ]
    },
    {
     "name": "stdout",
     "output_type": "stream",
     "text": [
      "sending off prediction to background worker for resampling\n",
      "\n",
      "Done with image of shape torch.Size([1, 1, 128, 128]):\n",
      "\n",
      "Predicting image of shape torch.Size([1, 1, 128, 128]):\n",
      "perform_everything_on_device: True\n"
     ]
    },
    {
     "name": "stderr",
     "output_type": "stream",
     "text": [
      "100%|██████████| 2/2 [00:00<00:00, 74.21it/s]\n",
      "100%|██████████| 2/2 [00:00<00:00, 73.27it/s]\n",
      "100%|██████████| 2/2 [00:00<00:00, 72.22it/s]\n",
      "100%|██████████| 2/2 [00:00<00:00, 73.91it/s]\n",
      "100%|██████████| 2/2 [00:00<00:00, 73.47it/s]\n"
     ]
    },
    {
     "name": "stdout",
     "output_type": "stream",
     "text": [
      "sending off prediction to background worker for resampling\n",
      "\n",
      "Done with image of shape torch.Size([1, 1, 128, 128]):\n",
      "2\n",
      "shape of segmentation map of 1 sample (128, 128)\n",
      "type of segmentation map of 1 sample <class 'numpy.ndarray'>\n"
     ]
    },
    {
     "name": "stderr",
     "output_type": "stream",
     "text": [
      "100%|██████████| 200/200 [00:04<00:00, 45.56it/s]"
     ]
    },
    {
     "name": "stdout",
     "output_type": "stream",
     "text": [
      "shape of all counterfactuals torch.Size([32, 1, 128, 128])\n",
      "shape of all originals torch.Size([32, 1, 128, 128])\n"
     ]
    },
    {
     "name": "stderr",
     "output_type": "stream",
     "text": [
      "\n"
     ]
    },
    {
     "name": "stdout",
     "output_type": "stream",
     "text": [
      "nnUNet_raw is not defined and nnU-Net can only be used on data for which preprocessed files are already present on your system. nnU-Net cannot be used for experiment planning and preprocessing like this. If this is not intended, please read documentation/setting_up_paths.md for information on how to set this up properly.\n",
      "nnUNet_preprocessed is not defined and nnU-Net can not be used for preprocessing or training. If this is not intended, please read documentation/setting_up_paths.md for information on how to set this up.\n",
      "nnUNet_results is not defined and nnU-Net cannot be used for training or inference. If this is not intended behavior, please read documentation/setting_up_paths.md for information on how to set this up.\n",
      "\n",
      "Predicting image of shape torch.Size([1, 1, 128, 128]):\n",
      "perform_everything_on_device: True\n"
     ]
    },
    {
     "name": "stderr",
     "output_type": "stream",
     "text": [
      "100%|██████████| 2/2 [00:00<00:00, 67.02it/s]\n",
      "100%|██████████| 2/2 [00:00<00:00, 69.69it/s]\n",
      "100%|██████████| 2/2 [00:00<00:00, 74.20it/s]\n",
      "100%|██████████| 2/2 [00:00<00:00, 73.56it/s]\n",
      "100%|██████████| 2/2 [00:00<00:00, 73.96it/s]\n"
     ]
    },
    {
     "name": "stdout",
     "output_type": "stream",
     "text": [
      "sending off prediction to background worker for resampling\n",
      "\n",
      "Done with image of shape torch.Size([1, 1, 128, 128]):\n",
      "\n",
      "Predicting image of shape torch.Size([1, 1, 128, 128]):\n",
      "perform_everything_on_device: True\n"
     ]
    },
    {
     "name": "stderr",
     "output_type": "stream",
     "text": [
      "100%|██████████| 2/2 [00:00<00:00, 41.11it/s]\n",
      "100%|██████████| 2/2 [00:00<00:00, 69.47it/s]\n",
      "100%|██████████| 2/2 [00:00<00:00, 73.76it/s]\n",
      "100%|██████████| 2/2 [00:00<00:00, 73.33it/s]\n",
      "100%|██████████| 2/2 [00:00<00:00, 72.21it/s]\n"
     ]
    },
    {
     "name": "stdout",
     "output_type": "stream",
     "text": [
      "sending off prediction to background worker for resampling\n",
      "\n",
      "Done with image of shape torch.Size([1, 1, 128, 128]):\n",
      "2\n",
      "shape of segmentation map of 1 sample (128, 128)\n",
      "type of segmentation map of 1 sample <class 'numpy.ndarray'>\n",
      "nnUNet_raw is not defined and nnU-Net can only be used on data for which preprocessed files are already present on your system. nnU-Net cannot be used for experiment planning and preprocessing like this. If this is not intended, please read documentation/setting_up_paths.md for information on how to set this up properly.\n",
      "nnUNet_preprocessed is not defined and nnU-Net can not be used for preprocessing or training. If this is not intended, please read documentation/setting_up_paths.md for information on how to set this up.\n",
      "nnUNet_results is not defined and nnU-Net cannot be used for training or inference. If this is not intended behavior, please read documentation/setting_up_paths.md for information on how to set this up.\n",
      "\n",
      "Predicting image of shape torch.Size([1, 1, 128, 128]):\n",
      "perform_everything_on_device: True\n"
     ]
    },
    {
     "name": "stderr",
     "output_type": "stream",
     "text": [
      "100%|██████████| 2/2 [00:00<00:00, 69.23it/s]\n",
      "100%|██████████| 2/2 [00:00<00:00, 73.01it/s]\n",
      "100%|██████████| 2/2 [00:00<00:00, 74.09it/s]\n",
      "100%|██████████| 2/2 [00:00<00:00, 73.49it/s]\n",
      "100%|██████████| 2/2 [00:00<00:00, 73.73it/s]\n"
     ]
    },
    {
     "name": "stdout",
     "output_type": "stream",
     "text": [
      "sending off prediction to background worker for resampling\n",
      "\n",
      "Done with image of shape torch.Size([1, 1, 128, 128]):\n",
      "\n",
      "Predicting image of shape torch.Size([1, 1, 128, 128]):\n",
      "perform_everything_on_device: True\n"
     ]
    },
    {
     "name": "stderr",
     "output_type": "stream",
     "text": [
      "100%|██████████| 2/2 [00:00<00:00, 73.96it/s]\n",
      "100%|██████████| 2/2 [00:00<00:00, 74.29it/s]\n",
      "100%|██████████| 2/2 [00:00<00:00, 73.87it/s]\n",
      "100%|██████████| 2/2 [00:00<00:00, 73.71it/s]\n",
      "100%|██████████| 2/2 [00:00<00:00, 73.36it/s]\n"
     ]
    },
    {
     "name": "stdout",
     "output_type": "stream",
     "text": [
      "sending off prediction to background worker for resampling\n",
      "\n",
      "Done with image of shape torch.Size([1, 1, 128, 128]):\n",
      "2\n",
      "shape of segmentation map of 1 sample (128, 128)\n",
      "type of segmentation map of 1 sample <class 'numpy.ndarray'>\n"
     ]
    },
    {
     "name": "stderr",
     "output_type": "stream",
     "text": [
      "100%|██████████| 200/200 [00:04<00:00, 45.58it/s]"
     ]
    },
    {
     "name": "stdout",
     "output_type": "stream",
     "text": [
      "shape of all counterfactuals torch.Size([34, 1, 128, 128])\n",
      "shape of all originals torch.Size([34, 1, 128, 128])\n"
     ]
    },
    {
     "name": "stderr",
     "output_type": "stream",
     "text": [
      "\n"
     ]
    },
    {
     "name": "stdout",
     "output_type": "stream",
     "text": [
      "nnUNet_raw is not defined and nnU-Net can only be used on data for which preprocessed files are already present on your system. nnU-Net cannot be used for experiment planning and preprocessing like this. If this is not intended, please read documentation/setting_up_paths.md for information on how to set this up properly.\n",
      "nnUNet_preprocessed is not defined and nnU-Net can not be used for preprocessing or training. If this is not intended, please read documentation/setting_up_paths.md for information on how to set this up.\n",
      "nnUNet_results is not defined and nnU-Net cannot be used for training or inference. If this is not intended behavior, please read documentation/setting_up_paths.md for information on how to set this up.\n",
      "\n",
      "Predicting image of shape torch.Size([1, 1, 128, 128]):\n",
      "perform_everything_on_device: True\n"
     ]
    },
    {
     "name": "stderr",
     "output_type": "stream",
     "text": [
      "100%|██████████| 2/2 [00:00<00:00, 69.78it/s]\n",
      "100%|██████████| 2/2 [00:00<00:00, 73.03it/s]\n",
      "100%|██████████| 2/2 [00:00<00:00, 72.94it/s]\n",
      "100%|██████████| 2/2 [00:00<00:00, 73.80it/s]\n",
      "100%|██████████| 2/2 [00:00<00:00, 73.75it/s]\n"
     ]
    },
    {
     "name": "stdout",
     "output_type": "stream",
     "text": [
      "sending off prediction to background worker for resampling\n",
      "\n",
      "Done with image of shape torch.Size([1, 1, 128, 128]):\n",
      "\n",
      "Predicting image of shape torch.Size([1, 1, 128, 128]):\n",
      "perform_everything_on_device: True\n"
     ]
    },
    {
     "name": "stderr",
     "output_type": "stream",
     "text": [
      "100%|██████████| 2/2 [00:00<00:00, 73.80it/s]\n",
      "100%|██████████| 2/2 [00:00<00:00, 74.28it/s]\n",
      "100%|██████████| 2/2 [00:00<00:00, 72.83it/s]\n",
      "100%|██████████| 2/2 [00:00<00:00, 66.39it/s]\n",
      "100%|██████████| 2/2 [00:00<00:00, 73.05it/s]\n"
     ]
    },
    {
     "name": "stdout",
     "output_type": "stream",
     "text": [
      "sending off prediction to background worker for resampling\n",
      "\n",
      "Done with image of shape torch.Size([1, 1, 128, 128]):\n",
      "2\n",
      "shape of segmentation map of 1 sample (128, 128)\n",
      "type of segmentation map of 1 sample <class 'numpy.ndarray'>\n",
      "nnUNet_raw is not defined and nnU-Net can only be used on data for which preprocessed files are already present on your system. nnU-Net cannot be used for experiment planning and preprocessing like this. If this is not intended, please read documentation/setting_up_paths.md for information on how to set this up properly.\n",
      "nnUNet_preprocessed is not defined and nnU-Net can not be used for preprocessing or training. If this is not intended, please read documentation/setting_up_paths.md for information on how to set this up.\n",
      "nnUNet_results is not defined and nnU-Net cannot be used for training or inference. If this is not intended behavior, please read documentation/setting_up_paths.md for information on how to set this up.\n",
      "\n",
      "Predicting image of shape torch.Size([1, 1, 128, 128]):\n",
      "perform_everything_on_device: True\n"
     ]
    },
    {
     "name": "stderr",
     "output_type": "stream",
     "text": [
      "100%|██████████| 2/2 [00:00<00:00, 69.49it/s]\n",
      "100%|██████████| 2/2 [00:00<00:00, 73.79it/s]\n",
      "100%|██████████| 2/2 [00:00<00:00, 72.63it/s]\n",
      "100%|██████████| 2/2 [00:00<00:00, 74.27it/s]\n",
      "100%|██████████| 2/2 [00:00<00:00, 74.01it/s]\n"
     ]
    },
    {
     "name": "stdout",
     "output_type": "stream",
     "text": [
      "sending off prediction to background worker for resampling\n",
      "\n",
      "Done with image of shape torch.Size([1, 1, 128, 128]):\n",
      "\n",
      "Predicting image of shape torch.Size([1, 1, 128, 128]):\n",
      "perform_everything_on_device: True\n"
     ]
    },
    {
     "name": "stderr",
     "output_type": "stream",
     "text": [
      "100%|██████████| 2/2 [00:00<00:00, 73.63it/s]\n",
      "100%|██████████| 2/2 [00:00<00:00, 73.67it/s]\n",
      "100%|██████████| 2/2 [00:00<00:00, 73.70it/s]\n",
      "100%|██████████| 2/2 [00:00<00:00, 72.73it/s]\n",
      "100%|██████████| 2/2 [00:00<00:00, 73.63it/s]\n"
     ]
    },
    {
     "name": "stdout",
     "output_type": "stream",
     "text": [
      "sending off prediction to background worker for resampling\n",
      "\n",
      "Done with image of shape torch.Size([1, 1, 128, 128]):\n",
      "2\n",
      "shape of segmentation map of 1 sample (128, 128)\n",
      "type of segmentation map of 1 sample <class 'numpy.ndarray'>\n"
     ]
    },
    {
     "name": "stderr",
     "output_type": "stream",
     "text": [
      "100%|██████████| 200/200 [00:04<00:00, 45.47it/s]"
     ]
    },
    {
     "name": "stdout",
     "output_type": "stream",
     "text": [
      "shape of all counterfactuals torch.Size([36, 1, 128, 128])\n",
      "shape of all originals torch.Size([36, 1, 128, 128])\n"
     ]
    },
    {
     "name": "stderr",
     "output_type": "stream",
     "text": [
      "\n"
     ]
    },
    {
     "name": "stdout",
     "output_type": "stream",
     "text": [
      "nnUNet_raw is not defined and nnU-Net can only be used on data for which preprocessed files are already present on your system. nnU-Net cannot be used for experiment planning and preprocessing like this. If this is not intended, please read documentation/setting_up_paths.md for information on how to set this up properly.\n",
      "nnUNet_preprocessed is not defined and nnU-Net can not be used for preprocessing or training. If this is not intended, please read documentation/setting_up_paths.md for information on how to set this up.\n",
      "nnUNet_results is not defined and nnU-Net cannot be used for training or inference. If this is not intended behavior, please read documentation/setting_up_paths.md for information on how to set this up.\n",
      "\n",
      "Predicting image of shape torch.Size([1, 1, 128, 128]):\n",
      "perform_everything_on_device: True\n"
     ]
    },
    {
     "name": "stderr",
     "output_type": "stream",
     "text": [
      "100%|██████████| 2/2 [00:00<00:00, 68.87it/s]\n",
      "100%|██████████| 2/2 [00:00<00:00, 73.31it/s]\n",
      "100%|██████████| 2/2 [00:00<00:00, 71.68it/s]\n",
      "100%|██████████| 2/2 [00:00<00:00, 73.01it/s]\n",
      "100%|██████████| 2/2 [00:00<00:00, 73.48it/s]\n"
     ]
    },
    {
     "name": "stdout",
     "output_type": "stream",
     "text": [
      "sending off prediction to background worker for resampling\n",
      "\n",
      "Done with image of shape torch.Size([1, 1, 128, 128]):\n",
      "\n",
      "Predicting image of shape torch.Size([1, 1, 128, 128]):\n",
      "perform_everything_on_device: True\n"
     ]
    },
    {
     "name": "stderr",
     "output_type": "stream",
     "text": [
      "100%|██████████| 2/2 [00:00<00:00, 73.71it/s]\n",
      "100%|██████████| 2/2 [00:00<00:00, 73.51it/s]\n",
      "100%|██████████| 2/2 [00:00<00:00, 74.02it/s]\n",
      "100%|██████████| 2/2 [00:00<00:00, 73.77it/s]\n",
      "100%|██████████| 2/2 [00:00<00:00, 74.18it/s]\n"
     ]
    },
    {
     "name": "stdout",
     "output_type": "stream",
     "text": [
      "sending off prediction to background worker for resampling\n",
      "\n",
      "Done with image of shape torch.Size([1, 1, 128, 128]):\n",
      "2\n",
      "shape of segmentation map of 1 sample (128, 128)\n",
      "type of segmentation map of 1 sample <class 'numpy.ndarray'>\n",
      "nnUNet_raw is not defined and nnU-Net can only be used on data for which preprocessed files are already present on your system. nnU-Net cannot be used for experiment planning and preprocessing like this. If this is not intended, please read documentation/setting_up_paths.md for information on how to set this up properly.\n",
      "nnUNet_preprocessed is not defined and nnU-Net can not be used for preprocessing or training. If this is not intended, please read documentation/setting_up_paths.md for information on how to set this up.\n",
      "nnUNet_results is not defined and nnU-Net cannot be used for training or inference. If this is not intended behavior, please read documentation/setting_up_paths.md for information on how to set this up.\n",
      "\n",
      "Predicting image of shape torch.Size([1, 1, 128, 128]):\n",
      "perform_everything_on_device: True\n"
     ]
    },
    {
     "name": "stderr",
     "output_type": "stream",
     "text": [
      "100%|██████████| 2/2 [00:00<00:00, 65.98it/s]\n",
      "100%|██████████| 2/2 [00:00<00:00, 73.42it/s]\n",
      "100%|██████████| 2/2 [00:00<00:00, 73.02it/s]\n",
      "100%|██████████| 2/2 [00:00<00:00, 73.72it/s]\n",
      "100%|██████████| 2/2 [00:00<00:00, 73.79it/s]\n"
     ]
    },
    {
     "name": "stdout",
     "output_type": "stream",
     "text": [
      "sending off prediction to background worker for resampling\n",
      "\n",
      "Done with image of shape torch.Size([1, 1, 128, 128]):\n",
      "\n",
      "Predicting image of shape torch.Size([1, 1, 128, 128]):\n",
      "perform_everything_on_device: True\n"
     ]
    },
    {
     "name": "stderr",
     "output_type": "stream",
     "text": [
      "100%|██████████| 2/2 [00:00<00:00, 73.55it/s]\n",
      "100%|██████████| 2/2 [00:00<00:00, 74.11it/s]\n",
      "100%|██████████| 2/2 [00:00<00:00, 73.85it/s]\n",
      "100%|██████████| 2/2 [00:00<00:00, 74.33it/s]\n",
      "100%|██████████| 2/2 [00:00<00:00, 73.04it/s]\n"
     ]
    },
    {
     "name": "stdout",
     "output_type": "stream",
     "text": [
      "sending off prediction to background worker for resampling\n",
      "\n",
      "Done with image of shape torch.Size([1, 1, 128, 128]):\n",
      "2\n",
      "shape of segmentation map of 1 sample (128, 128)\n",
      "type of segmentation map of 1 sample <class 'numpy.ndarray'>\n"
     ]
    },
    {
     "name": "stderr",
     "output_type": "stream",
     "text": [
      "100%|██████████| 200/200 [00:04<00:00, 45.53it/s]"
     ]
    },
    {
     "name": "stdout",
     "output_type": "stream",
     "text": [
      "shape of all counterfactuals torch.Size([38, 1, 128, 128])\n",
      "shape of all originals torch.Size([38, 1, 128, 128])\n"
     ]
    },
    {
     "name": "stderr",
     "output_type": "stream",
     "text": [
      "\n"
     ]
    },
    {
     "name": "stdout",
     "output_type": "stream",
     "text": [
      "nnUNet_raw is not defined and nnU-Net can only be used on data for which preprocessed files are already present on your system. nnU-Net cannot be used for experiment planning and preprocessing like this. If this is not intended, please read documentation/setting_up_paths.md for information on how to set this up properly.\n",
      "nnUNet_preprocessed is not defined and nnU-Net can not be used for preprocessing or training. If this is not intended, please read documentation/setting_up_paths.md for information on how to set this up.\n",
      "nnUNet_results is not defined and nnU-Net cannot be used for training or inference. If this is not intended behavior, please read documentation/setting_up_paths.md for information on how to set this up.\n",
      "\n",
      "Predicting image of shape torch.Size([1, 1, 128, 128]):\n",
      "perform_everything_on_device: True\n"
     ]
    },
    {
     "name": "stderr",
     "output_type": "stream",
     "text": [
      "100%|██████████| 2/2 [00:00<00:00, 70.29it/s]\n",
      "100%|██████████| 2/2 [00:00<00:00, 74.19it/s]\n",
      "100%|██████████| 2/2 [00:00<00:00, 73.63it/s]\n",
      "100%|██████████| 2/2 [00:00<00:00, 73.10it/s]\n",
      "100%|██████████| 2/2 [00:00<00:00, 73.16it/s]\n"
     ]
    },
    {
     "name": "stdout",
     "output_type": "stream",
     "text": [
      "sending off prediction to background worker for resampling\n",
      "\n",
      "Done with image of shape torch.Size([1, 1, 128, 128]):\n",
      "\n",
      "Predicting image of shape torch.Size([1, 1, 128, 128]):\n",
      "perform_everything_on_device: True\n"
     ]
    },
    {
     "name": "stderr",
     "output_type": "stream",
     "text": [
      "100%|██████████| 2/2 [00:00<00:00, 74.10it/s]\n",
      "100%|██████████| 2/2 [00:00<00:00, 73.73it/s]\n",
      "100%|██████████| 2/2 [00:00<00:00, 73.35it/s]\n",
      "100%|██████████| 2/2 [00:00<00:00, 74.10it/s]\n",
      "100%|██████████| 2/2 [00:00<00:00, 74.39it/s]\n"
     ]
    },
    {
     "name": "stdout",
     "output_type": "stream",
     "text": [
      "sending off prediction to background worker for resampling\n",
      "\n",
      "Done with image of shape torch.Size([1, 1, 128, 128]):\n",
      "2\n",
      "shape of segmentation map of 1 sample (128, 128)\n",
      "type of segmentation map of 1 sample <class 'numpy.ndarray'>\n",
      "nnUNet_raw is not defined and nnU-Net can only be used on data for which preprocessed files are already present on your system. nnU-Net cannot be used for experiment planning and preprocessing like this. If this is not intended, please read documentation/setting_up_paths.md for information on how to set this up properly.\n",
      "nnUNet_preprocessed is not defined and nnU-Net can not be used for preprocessing or training. If this is not intended, please read documentation/setting_up_paths.md for information on how to set this up.\n",
      "nnUNet_results is not defined and nnU-Net cannot be used for training or inference. If this is not intended behavior, please read documentation/setting_up_paths.md for information on how to set this up.\n",
      "\n",
      "Predicting image of shape torch.Size([1, 1, 128, 128]):\n",
      "perform_everything_on_device: True\n"
     ]
    },
    {
     "name": "stderr",
     "output_type": "stream",
     "text": [
      "100%|██████████| 2/2 [00:00<00:00, 69.72it/s]\n",
      "100%|██████████| 2/2 [00:00<00:00, 73.72it/s]\n",
      "100%|██████████| 2/2 [00:00<00:00, 73.78it/s]\n",
      "100%|██████████| 2/2 [00:00<00:00, 72.75it/s]\n",
      "100%|██████████| 2/2 [00:00<00:00, 73.07it/s]\n"
     ]
    },
    {
     "name": "stdout",
     "output_type": "stream",
     "text": [
      "sending off prediction to background worker for resampling\n",
      "\n",
      "Done with image of shape torch.Size([1, 1, 128, 128]):\n",
      "\n",
      "Predicting image of shape torch.Size([1, 1, 128, 128]):\n",
      "perform_everything_on_device: True\n"
     ]
    },
    {
     "name": "stderr",
     "output_type": "stream",
     "text": [
      "100%|██████████| 2/2 [00:00<00:00, 73.34it/s]\n",
      "100%|██████████| 2/2 [00:00<00:00, 73.83it/s]\n",
      "100%|██████████| 2/2 [00:00<00:00, 70.83it/s]\n",
      "100%|██████████| 2/2 [00:00<00:00, 71.63it/s]\n",
      "100%|██████████| 2/2 [00:00<00:00, 71.91it/s]\n"
     ]
    },
    {
     "name": "stdout",
     "output_type": "stream",
     "text": [
      "sending off prediction to background worker for resampling\n",
      "\n",
      "Done with image of shape torch.Size([1, 1, 128, 128]):\n",
      "2\n",
      "shape of segmentation map of 1 sample (128, 128)\n",
      "type of segmentation map of 1 sample <class 'numpy.ndarray'>\n"
     ]
    },
    {
     "name": "stderr",
     "output_type": "stream",
     "text": [
      "100%|██████████| 200/200 [00:04<00:00, 45.55it/s]"
     ]
    },
    {
     "name": "stdout",
     "output_type": "stream",
     "text": [
      "shape of all counterfactuals torch.Size([40, 1, 128, 128])\n",
      "shape of all originals torch.Size([40, 1, 128, 128])\n"
     ]
    },
    {
     "name": "stderr",
     "output_type": "stream",
     "text": [
      "\n"
     ]
    },
    {
     "name": "stdout",
     "output_type": "stream",
     "text": [
      "nnUNet_raw is not defined and nnU-Net can only be used on data for which preprocessed files are already present on your system. nnU-Net cannot be used for experiment planning and preprocessing like this. If this is not intended, please read documentation/setting_up_paths.md for information on how to set this up properly.\n",
      "nnUNet_preprocessed is not defined and nnU-Net can not be used for preprocessing or training. If this is not intended, please read documentation/setting_up_paths.md for information on how to set this up.\n",
      "nnUNet_results is not defined and nnU-Net cannot be used for training or inference. If this is not intended behavior, please read documentation/setting_up_paths.md for information on how to set this up.\n",
      "\n",
      "Predicting image of shape torch.Size([1, 1, 128, 128]):\n",
      "perform_everything_on_device: True\n"
     ]
    },
    {
     "name": "stderr",
     "output_type": "stream",
     "text": [
      "100%|██████████| 2/2 [00:00<00:00, 69.86it/s]\n",
      "100%|██████████| 2/2 [00:00<00:00, 73.53it/s]\n",
      "100%|██████████| 2/2 [00:00<00:00, 73.38it/s]\n",
      "100%|██████████| 2/2 [00:00<00:00, 72.80it/s]\n",
      "100%|██████████| 2/2 [00:00<00:00, 72.52it/s]\n"
     ]
    },
    {
     "name": "stdout",
     "output_type": "stream",
     "text": [
      "sending off prediction to background worker for resampling\n",
      "\n",
      "Done with image of shape torch.Size([1, 1, 128, 128]):\n",
      "\n",
      "Predicting image of shape torch.Size([1, 1, 128, 128]):\n",
      "perform_everything_on_device: True\n"
     ]
    },
    {
     "name": "stderr",
     "output_type": "stream",
     "text": [
      "100%|██████████| 2/2 [00:00<00:00, 71.27it/s]\n",
      "100%|██████████| 2/2 [00:00<00:00, 74.38it/s]\n",
      "100%|██████████| 2/2 [00:00<00:00, 74.09it/s]\n",
      "100%|██████████| 2/2 [00:00<00:00, 72.38it/s]\n",
      "100%|██████████| 2/2 [00:00<00:00, 74.10it/s]\n"
     ]
    },
    {
     "name": "stdout",
     "output_type": "stream",
     "text": [
      "sending off prediction to background worker for resampling\n",
      "\n",
      "Done with image of shape torch.Size([1, 1, 128, 128]):\n",
      "2\n",
      "shape of segmentation map of 1 sample (128, 128)\n",
      "type of segmentation map of 1 sample <class 'numpy.ndarray'>\n",
      "nnUNet_raw is not defined and nnU-Net can only be used on data for which preprocessed files are already present on your system. nnU-Net cannot be used for experiment planning and preprocessing like this. If this is not intended, please read documentation/setting_up_paths.md for information on how to set this up properly.\n",
      "nnUNet_preprocessed is not defined and nnU-Net can not be used for preprocessing or training. If this is not intended, please read documentation/setting_up_paths.md for information on how to set this up.\n",
      "nnUNet_results is not defined and nnU-Net cannot be used for training or inference. If this is not intended behavior, please read documentation/setting_up_paths.md for information on how to set this up.\n",
      "\n",
      "Predicting image of shape torch.Size([1, 1, 128, 128]):\n",
      "perform_everything_on_device: True\n"
     ]
    },
    {
     "name": "stderr",
     "output_type": "stream",
     "text": [
      "100%|██████████| 2/2 [00:00<00:00, 64.82it/s]\n",
      "100%|██████████| 2/2 [00:00<00:00, 72.63it/s]\n",
      "100%|██████████| 2/2 [00:00<00:00, 72.74it/s]\n",
      "100%|██████████| 2/2 [00:00<00:00, 72.23it/s]\n",
      "100%|██████████| 2/2 [00:00<00:00, 72.78it/s]\n"
     ]
    },
    {
     "name": "stdout",
     "output_type": "stream",
     "text": [
      "sending off prediction to background worker for resampling\n",
      "\n",
      "Done with image of shape torch.Size([1, 1, 128, 128]):\n",
      "\n",
      "Predicting image of shape torch.Size([1, 1, 128, 128]):\n",
      "perform_everything_on_device: True\n"
     ]
    },
    {
     "name": "stderr",
     "output_type": "stream",
     "text": [
      "100%|██████████| 2/2 [00:00<00:00, 72.39it/s]\n",
      "100%|██████████| 2/2 [00:00<00:00, 72.83it/s]\n",
      "100%|██████████| 2/2 [00:00<00:00, 73.50it/s]\n",
      "100%|██████████| 2/2 [00:00<00:00, 73.78it/s]\n",
      "100%|██████████| 2/2 [00:00<00:00, 73.85it/s]\n"
     ]
    },
    {
     "name": "stdout",
     "output_type": "stream",
     "text": [
      "sending off prediction to background worker for resampling\n",
      "\n",
      "Done with image of shape torch.Size([1, 1, 128, 128]):\n",
      "2\n",
      "shape of segmentation map of 1 sample (128, 128)\n",
      "type of segmentation map of 1 sample <class 'numpy.ndarray'>\n"
     ]
    },
    {
     "name": "stderr",
     "output_type": "stream",
     "text": [
      "100%|██████████| 200/200 [00:04<00:00, 45.42it/s]"
     ]
    },
    {
     "name": "stdout",
     "output_type": "stream",
     "text": [
      "shape of all counterfactuals torch.Size([42, 1, 128, 128])\n",
      "shape of all originals torch.Size([42, 1, 128, 128])\n"
     ]
    },
    {
     "name": "stderr",
     "output_type": "stream",
     "text": [
      "\n"
     ]
    },
    {
     "name": "stdout",
     "output_type": "stream",
     "text": [
      "nnUNet_raw is not defined and nnU-Net can only be used on data for which preprocessed files are already present on your system. nnU-Net cannot be used for experiment planning and preprocessing like this. If this is not intended, please read documentation/setting_up_paths.md for information on how to set this up properly.\n",
      "nnUNet_preprocessed is not defined and nnU-Net can not be used for preprocessing or training. If this is not intended, please read documentation/setting_up_paths.md for information on how to set this up.\n",
      "nnUNet_results is not defined and nnU-Net cannot be used for training or inference. If this is not intended behavior, please read documentation/setting_up_paths.md for information on how to set this up.\n",
      "\n",
      "Predicting image of shape torch.Size([1, 1, 128, 128]):\n",
      "perform_everything_on_device: True\n"
     ]
    },
    {
     "name": "stderr",
     "output_type": "stream",
     "text": [
      "100%|██████████| 2/2 [00:00<00:00, 70.18it/s]\n",
      "100%|██████████| 2/2 [00:00<00:00, 74.01it/s]\n",
      "100%|██████████| 2/2 [00:00<00:00, 73.94it/s]\n",
      "100%|██████████| 2/2 [00:00<00:00, 73.04it/s]\n",
      "100%|██████████| 2/2 [00:00<00:00, 72.80it/s]\n"
     ]
    },
    {
     "name": "stdout",
     "output_type": "stream",
     "text": [
      "sending off prediction to background worker for resampling\n",
      "\n",
      "Done with image of shape torch.Size([1, 1, 128, 128]):\n",
      "\n",
      "Predicting image of shape torch.Size([1, 1, 128, 128]):\n",
      "perform_everything_on_device: True\n"
     ]
    },
    {
     "name": "stderr",
     "output_type": "stream",
     "text": [
      "100%|██████████| 2/2 [00:00<00:00, 73.96it/s]\n",
      "100%|██████████| 2/2 [00:00<00:00, 73.72it/s]\n",
      "100%|██████████| 2/2 [00:00<00:00, 70.01it/s]\n",
      "100%|██████████| 2/2 [00:00<00:00, 72.67it/s]\n",
      "100%|██████████| 2/2 [00:00<00:00, 73.44it/s]\n"
     ]
    },
    {
     "name": "stdout",
     "output_type": "stream",
     "text": [
      "sending off prediction to background worker for resampling\n",
      "\n",
      "Done with image of shape torch.Size([1, 1, 128, 128]):\n",
      "2\n",
      "shape of segmentation map of 1 sample (128, 128)\n",
      "type of segmentation map of 1 sample <class 'numpy.ndarray'>\n",
      "nnUNet_raw is not defined and nnU-Net can only be used on data for which preprocessed files are already present on your system. nnU-Net cannot be used for experiment planning and preprocessing like this. If this is not intended, please read documentation/setting_up_paths.md for information on how to set this up properly.\n",
      "nnUNet_preprocessed is not defined and nnU-Net can not be used for preprocessing or training. If this is not intended, please read documentation/setting_up_paths.md for information on how to set this up.\n",
      "nnUNet_results is not defined and nnU-Net cannot be used for training or inference. If this is not intended behavior, please read documentation/setting_up_paths.md for information on how to set this up.\n",
      "\n",
      "Predicting image of shape torch.Size([1, 1, 128, 128]):\n",
      "perform_everything_on_device: True\n"
     ]
    },
    {
     "name": "stderr",
     "output_type": "stream",
     "text": [
      "100%|██████████| 2/2 [00:00<00:00, 68.45it/s]\n",
      "100%|██████████| 2/2 [00:00<00:00, 72.86it/s]\n",
      "100%|██████████| 2/2 [00:00<00:00, 68.22it/s]\n",
      "100%|██████████| 2/2 [00:00<00:00, 73.10it/s]\n",
      "100%|██████████| 2/2 [00:00<00:00, 73.28it/s]\n"
     ]
    },
    {
     "name": "stdout",
     "output_type": "stream",
     "text": [
      "sending off prediction to background worker for resampling\n",
      "\n",
      "Done with image of shape torch.Size([1, 1, 128, 128]):\n",
      "\n",
      "Predicting image of shape torch.Size([1, 1, 128, 128]):\n",
      "perform_everything_on_device: True\n"
     ]
    },
    {
     "name": "stderr",
     "output_type": "stream",
     "text": [
      "100%|██████████| 2/2 [00:00<00:00, 72.72it/s]\n",
      "100%|██████████| 2/2 [00:00<00:00, 72.78it/s]\n",
      "100%|██████████| 2/2 [00:00<00:00, 67.75it/s]\n",
      "100%|██████████| 2/2 [00:00<00:00, 73.39it/s]\n",
      "100%|██████████| 2/2 [00:00<00:00, 73.15it/s]\n"
     ]
    },
    {
     "name": "stdout",
     "output_type": "stream",
     "text": [
      "sending off prediction to background worker for resampling\n",
      "\n",
      "Done with image of shape torch.Size([1, 1, 128, 128]):\n",
      "2\n",
      "shape of segmentation map of 1 sample (128, 128)\n",
      "type of segmentation map of 1 sample <class 'numpy.ndarray'>\n"
     ]
    },
    {
     "name": "stderr",
     "output_type": "stream",
     "text": [
      "100%|██████████| 200/200 [00:04<00:00, 45.54it/s]"
     ]
    },
    {
     "name": "stdout",
     "output_type": "stream",
     "text": [
      "shape of all counterfactuals torch.Size([44, 1, 128, 128])\n",
      "shape of all originals torch.Size([44, 1, 128, 128])\n"
     ]
    },
    {
     "name": "stderr",
     "output_type": "stream",
     "text": [
      "\n"
     ]
    },
    {
     "name": "stdout",
     "output_type": "stream",
     "text": [
      "nnUNet_raw is not defined and nnU-Net can only be used on data for which preprocessed files are already present on your system. nnU-Net cannot be used for experiment planning and preprocessing like this. If this is not intended, please read documentation/setting_up_paths.md for information on how to set this up properly.\n",
      "nnUNet_preprocessed is not defined and nnU-Net can not be used for preprocessing or training. If this is not intended, please read documentation/setting_up_paths.md for information on how to set this up.\n",
      "nnUNet_results is not defined and nnU-Net cannot be used for training or inference. If this is not intended behavior, please read documentation/setting_up_paths.md for information on how to set this up.\n",
      "\n",
      "Predicting image of shape torch.Size([1, 1, 128, 128]):\n",
      "perform_everything_on_device: True\n"
     ]
    },
    {
     "name": "stderr",
     "output_type": "stream",
     "text": [
      "100%|██████████| 2/2 [00:00<00:00, 70.42it/s]\n",
      "100%|██████████| 2/2 [00:00<00:00, 74.11it/s]\n",
      "100%|██████████| 2/2 [00:00<00:00, 73.60it/s]\n",
      "100%|██████████| 2/2 [00:00<00:00, 72.90it/s]\n",
      "100%|██████████| 2/2 [00:00<00:00, 73.41it/s]\n"
     ]
    },
    {
     "name": "stdout",
     "output_type": "stream",
     "text": [
      "sending off prediction to background worker for resampling\n",
      "\n",
      "Done with image of shape torch.Size([1, 1, 128, 128]):\n",
      "\n",
      "Predicting image of shape torch.Size([1, 1, 128, 128]):\n",
      "perform_everything_on_device: True\n"
     ]
    },
    {
     "name": "stderr",
     "output_type": "stream",
     "text": [
      "100%|██████████| 2/2 [00:00<00:00, 74.06it/s]\n",
      "100%|██████████| 2/2 [00:00<00:00, 74.26it/s]\n",
      "100%|██████████| 2/2 [00:00<00:00, 73.34it/s]\n",
      "100%|██████████| 2/2 [00:00<00:00, 73.62it/s]\n",
      "100%|██████████| 2/2 [00:00<00:00, 73.18it/s]\n"
     ]
    },
    {
     "name": "stdout",
     "output_type": "stream",
     "text": [
      "sending off prediction to background worker for resampling\n",
      "\n",
      "Done with image of shape torch.Size([1, 1, 128, 128]):\n",
      "2\n",
      "shape of segmentation map of 1 sample (128, 128)\n",
      "type of segmentation map of 1 sample <class 'numpy.ndarray'>\n",
      "nnUNet_raw is not defined and nnU-Net can only be used on data for which preprocessed files are already present on your system. nnU-Net cannot be used for experiment planning and preprocessing like this. If this is not intended, please read documentation/setting_up_paths.md for information on how to set this up properly.\n",
      "nnUNet_preprocessed is not defined and nnU-Net can not be used for preprocessing or training. If this is not intended, please read documentation/setting_up_paths.md for information on how to set this up.\n",
      "nnUNet_results is not defined and nnU-Net cannot be used for training or inference. If this is not intended behavior, please read documentation/setting_up_paths.md for information on how to set this up.\n",
      "\n",
      "Predicting image of shape torch.Size([1, 1, 128, 128]):\n",
      "perform_everything_on_device: True\n"
     ]
    },
    {
     "name": "stderr",
     "output_type": "stream",
     "text": [
      "100%|██████████| 2/2 [00:00<00:00, 69.91it/s]\n",
      "100%|██████████| 2/2 [00:00<00:00, 73.86it/s]\n",
      "100%|██████████| 2/2 [00:00<00:00, 73.82it/s]\n",
      "100%|██████████| 2/2 [00:00<00:00, 73.53it/s]\n",
      "100%|██████████| 2/2 [00:00<00:00, 73.48it/s]\n"
     ]
    },
    {
     "name": "stdout",
     "output_type": "stream",
     "text": [
      "sending off prediction to background worker for resampling\n",
      "\n",
      "Done with image of shape torch.Size([1, 1, 128, 128]):\n",
      "\n",
      "Predicting image of shape torch.Size([1, 1, 128, 128]):\n",
      "perform_everything_on_device: True\n"
     ]
    },
    {
     "name": "stderr",
     "output_type": "stream",
     "text": [
      "100%|██████████| 2/2 [00:00<00:00, 73.38it/s]\n",
      "100%|██████████| 2/2 [00:00<00:00, 74.40it/s]\n",
      "100%|██████████| 2/2 [00:00<00:00, 72.80it/s]\n",
      "100%|██████████| 2/2 [00:00<00:00, 74.34it/s]\n",
      "100%|██████████| 2/2 [00:00<00:00, 74.15it/s]\n"
     ]
    },
    {
     "name": "stdout",
     "output_type": "stream",
     "text": [
      "sending off prediction to background worker for resampling\n",
      "\n",
      "Done with image of shape torch.Size([1, 1, 128, 128]):\n",
      "2\n",
      "shape of segmentation map of 1 sample (128, 128)\n",
      "type of segmentation map of 1 sample <class 'numpy.ndarray'>\n"
     ]
    },
    {
     "name": "stderr",
     "output_type": "stream",
     "text": [
      "100%|██████████| 200/200 [00:04<00:00, 45.47it/s]"
     ]
    },
    {
     "name": "stdout",
     "output_type": "stream",
     "text": [
      "shape of all counterfactuals torch.Size([46, 1, 128, 128])\n",
      "shape of all originals torch.Size([46, 1, 128, 128])\n"
     ]
    },
    {
     "name": "stderr",
     "output_type": "stream",
     "text": [
      "\n"
     ]
    },
    {
     "name": "stdout",
     "output_type": "stream",
     "text": [
      "nnUNet_raw is not defined and nnU-Net can only be used on data for which preprocessed files are already present on your system. nnU-Net cannot be used for experiment planning and preprocessing like this. If this is not intended, please read documentation/setting_up_paths.md for information on how to set this up properly.\n",
      "nnUNet_preprocessed is not defined and nnU-Net can not be used for preprocessing or training. If this is not intended, please read documentation/setting_up_paths.md for information on how to set this up.\n",
      "nnUNet_results is not defined and nnU-Net cannot be used for training or inference. If this is not intended behavior, please read documentation/setting_up_paths.md for information on how to set this up.\n",
      "\n",
      "Predicting image of shape torch.Size([1, 1, 128, 128]):\n",
      "perform_everything_on_device: True\n"
     ]
    },
    {
     "name": "stderr",
     "output_type": "stream",
     "text": [
      "100%|██████████| 2/2 [00:00<00:00, 70.30it/s]\n",
      "100%|██████████| 2/2 [00:00<00:00, 74.27it/s]\n",
      "100%|██████████| 2/2 [00:00<00:00, 74.06it/s]\n",
      "100%|██████████| 2/2 [00:00<00:00, 73.59it/s]\n",
      "100%|██████████| 2/2 [00:00<00:00, 73.80it/s]\n"
     ]
    },
    {
     "name": "stdout",
     "output_type": "stream",
     "text": [
      "sending off prediction to background worker for resampling\n",
      "\n",
      "Done with image of shape torch.Size([1, 1, 128, 128]):\n",
      "\n",
      "Predicting image of shape torch.Size([1, 1, 128, 128]):\n",
      "perform_everything_on_device: True\n"
     ]
    },
    {
     "name": "stderr",
     "output_type": "stream",
     "text": [
      "100%|██████████| 2/2 [00:00<00:00, 73.86it/s]\n",
      "100%|██████████| 2/2 [00:00<00:00, 74.26it/s]\n",
      "100%|██████████| 2/2 [00:00<00:00, 73.54it/s]\n",
      "100%|██████████| 2/2 [00:00<00:00, 73.38it/s]\n",
      "100%|██████████| 2/2 [00:00<00:00, 73.54it/s]\n"
     ]
    },
    {
     "name": "stdout",
     "output_type": "stream",
     "text": [
      "sending off prediction to background worker for resampling\n",
      "\n",
      "Done with image of shape torch.Size([1, 1, 128, 128]):\n",
      "2\n",
      "shape of segmentation map of 1 sample (128, 128)\n",
      "type of segmentation map of 1 sample <class 'numpy.ndarray'>\n",
      "nnUNet_raw is not defined and nnU-Net can only be used on data for which preprocessed files are already present on your system. nnU-Net cannot be used for experiment planning and preprocessing like this. If this is not intended, please read documentation/setting_up_paths.md for information on how to set this up properly.\n",
      "nnUNet_preprocessed is not defined and nnU-Net can not be used for preprocessing or training. If this is not intended, please read documentation/setting_up_paths.md for information on how to set this up.\n",
      "nnUNet_results is not defined and nnU-Net cannot be used for training or inference. If this is not intended behavior, please read documentation/setting_up_paths.md for information on how to set this up.\n",
      "\n",
      "Predicting image of shape torch.Size([1, 1, 128, 128]):\n",
      "perform_everything_on_device: True\n"
     ]
    },
    {
     "name": "stderr",
     "output_type": "stream",
     "text": [
      "100%|██████████| 2/2 [00:00<00:00, 68.51it/s]\n",
      "100%|██████████| 2/2 [00:00<00:00, 73.17it/s]\n",
      "100%|██████████| 2/2 [00:00<00:00, 73.36it/s]\n",
      "100%|██████████| 2/2 [00:00<00:00, 73.37it/s]\n",
      "100%|██████████| 2/2 [00:00<00:00, 73.38it/s]\n"
     ]
    },
    {
     "name": "stdout",
     "output_type": "stream",
     "text": [
      "sending off prediction to background worker for resampling\n",
      "\n",
      "Done with image of shape torch.Size([1, 1, 128, 128]):\n",
      "\n",
      "Predicting image of shape torch.Size([1, 1, 128, 128]):\n",
      "perform_everything_on_device: True\n"
     ]
    },
    {
     "name": "stderr",
     "output_type": "stream",
     "text": [
      "100%|██████████| 2/2 [00:00<00:00, 73.23it/s]\n",
      "100%|██████████| 2/2 [00:00<00:00, 73.69it/s]\n",
      "100%|██████████| 2/2 [00:00<00:00, 73.52it/s]\n",
      "100%|██████████| 2/2 [00:00<00:00, 72.61it/s]\n",
      "100%|██████████| 2/2 [00:00<00:00, 73.94it/s]\n"
     ]
    },
    {
     "name": "stdout",
     "output_type": "stream",
     "text": [
      "sending off prediction to background worker for resampling\n",
      "\n",
      "Done with image of shape torch.Size([1, 1, 128, 128]):\n",
      "2\n",
      "shape of segmentation map of 1 sample (128, 128)\n",
      "type of segmentation map of 1 sample <class 'numpy.ndarray'>\n"
     ]
    },
    {
     "name": "stderr",
     "output_type": "stream",
     "text": [
      "100%|██████████| 200/200 [00:04<00:00, 45.48it/s]"
     ]
    },
    {
     "name": "stdout",
     "output_type": "stream",
     "text": [
      "shape of all counterfactuals torch.Size([48, 1, 128, 128])\n",
      "shape of all originals torch.Size([48, 1, 128, 128])\n"
     ]
    },
    {
     "name": "stderr",
     "output_type": "stream",
     "text": [
      "\n"
     ]
    },
    {
     "name": "stdout",
     "output_type": "stream",
     "text": [
      "nnUNet_raw is not defined and nnU-Net can only be used on data for which preprocessed files are already present on your system. nnU-Net cannot be used for experiment planning and preprocessing like this. If this is not intended, please read documentation/setting_up_paths.md for information on how to set this up properly.\n",
      "nnUNet_preprocessed is not defined and nnU-Net can not be used for preprocessing or training. If this is not intended, please read documentation/setting_up_paths.md for information on how to set this up.\n",
      "nnUNet_results is not defined and nnU-Net cannot be used for training or inference. If this is not intended behavior, please read documentation/setting_up_paths.md for information on how to set this up.\n",
      "\n",
      "Predicting image of shape torch.Size([1, 1, 128, 128]):\n",
      "perform_everything_on_device: True\n"
     ]
    },
    {
     "name": "stderr",
     "output_type": "stream",
     "text": [
      "100%|██████████| 2/2 [00:00<00:00, 69.98it/s]\n",
      "100%|██████████| 2/2 [00:00<00:00, 74.10it/s]\n",
      "100%|██████████| 2/2 [00:00<00:00, 73.82it/s]\n",
      "100%|██████████| 2/2 [00:00<00:00, 73.86it/s]\n",
      "100%|██████████| 2/2 [00:00<00:00, 73.48it/s]\n"
     ]
    },
    {
     "name": "stdout",
     "output_type": "stream",
     "text": [
      "sending off prediction to background worker for resampling\n",
      "\n",
      "Done with image of shape torch.Size([1, 1, 128, 128]):\n",
      "\n",
      "Predicting image of shape torch.Size([1, 1, 128, 128]):\n",
      "perform_everything_on_device: True\n"
     ]
    },
    {
     "name": "stderr",
     "output_type": "stream",
     "text": [
      "100%|██████████| 2/2 [00:00<00:00, 68.77it/s]\n",
      "100%|██████████| 2/2 [00:00<00:00, 73.91it/s]\n",
      "100%|██████████| 2/2 [00:00<00:00, 73.95it/s]\n",
      "100%|██████████| 2/2 [00:00<00:00, 72.86it/s]\n",
      "100%|██████████| 2/2 [00:00<00:00, 72.91it/s]\n"
     ]
    },
    {
     "name": "stdout",
     "output_type": "stream",
     "text": [
      "sending off prediction to background worker for resampling\n",
      "\n",
      "Done with image of shape torch.Size([1, 1, 128, 128]):\n"
     ]
    },
    {
     "ename": "KeyboardInterrupt",
     "evalue": "",
     "output_type": "error",
     "traceback": [
      "\u001b[0;31m---------------------------------------------------------------------------\u001b[0m",
      "\u001b[0;31mKeyboardInterrupt\u001b[0m                         Traceback (most recent call last)",
      "Cell \u001b[0;32mIn[3], line 24\u001b[0m\n\u001b[1;32m     18\u001b[0m     logging\u001b[38;5;241m.\u001b[39merror(\n\u001b[1;32m     19\u001b[0m         \u001b[38;5;124m\"\u001b[39m\u001b[38;5;124m[IML-COMPAI-DL::main] ERROR: Invalid configuration file at: \u001b[39m\u001b[38;5;132;01m{}\u001b[39;00m\u001b[38;5;124m, exiting...\u001b[39m\u001b[38;5;124m\"\u001b[39m\u001b[38;5;241m.\u001b[39mformat(\n\u001b[1;32m     20\u001b[0m             config_path\n\u001b[1;32m     21\u001b[0m         )\n\u001b[1;32m     22\u001b[0m     )\n\u001b[1;32m     23\u001b[0m     exit()\n\u001b[0;32m---> 24\u001b[0m \u001b[43mMain\u001b[49m\u001b[43m(\u001b[49m\u001b[43mconfig_file\u001b[49m\u001b[43m)\u001b[49m\u001b[38;5;241;43m.\u001b[39;49m\u001b[43msetup_experiment\u001b[49m\u001b[43m(\u001b[49m\u001b[43m)\u001b[49m\n",
      "File \u001b[0;32m~/mock/autoDDPM/core/Main.py:79\u001b[0m, in \u001b[0;36mMain.setup_experiment\u001b[0;34m(self)\u001b[0m\n\u001b[1;32m     77\u001b[0m     configurator\u001b[38;5;241m.\u001b[39mstart_repaint_editing(checkpoint)\n\u001b[1;32m     78\u001b[0m \u001b[38;5;28;01melif\u001b[39;00m configurator\u001b[38;5;241m.\u001b[39mdl_config[\u001b[38;5;124m\"\u001b[39m\u001b[38;5;124mexperiment\u001b[39m\u001b[38;5;124m\"\u001b[39m][\u001b[38;5;124m\"\u001b[39m\u001b[38;5;124mtask\u001b[39m\u001b[38;5;124m\"\u001b[39m] \u001b[38;5;241m==\u001b[39m \u001b[38;5;124m\"\u001b[39m\u001b[38;5;124msdedit\u001b[39m\u001b[38;5;124m\"\u001b[39m:\n\u001b[0;32m---> 79\u001b[0m     \u001b[43mconfigurator\u001b[49m\u001b[38;5;241;43m.\u001b[39;49m\u001b[43mstart_sd_editing\u001b[49m\u001b[43m(\u001b[49m\u001b[43mcheckpoint\u001b[49m\u001b[43m)\u001b[49m\n\u001b[1;32m     80\u001b[0m \u001b[38;5;28;01melse\u001b[39;00m:\n\u001b[1;32m     81\u001b[0m     configurator\u001b[38;5;241m.\u001b[39mstart_evaluations(checkpoint[\u001b[38;5;124m\"\u001b[39m\u001b[38;5;124mmodel_weights\u001b[39m\u001b[38;5;124m\"\u001b[39m])\n",
      "File \u001b[0;32m~/mock/autoDDPM/./core/Configurator.py:170\u001b[0m, in \u001b[0;36mDLConfigurator.start_sd_editing\u001b[0;34m(self, global_model)\u001b[0m\n\u001b[1;32m    165\u001b[0m     logging\u001b[38;5;241m.\u001b[39minfo(\u001b[38;5;124m\"\u001b[39m\u001b[38;5;124m[Configurator::train::INFO]: Model weights loaded!\u001b[39m\u001b[38;5;124m\"\u001b[39m)\n\u001b[1;32m    167\u001b[0m logging\u001b[38;5;241m.\u001b[39minfo(\n\u001b[1;32m    168\u001b[0m     \u001b[38;5;124m\"\u001b[39m\u001b[38;5;124m[Configurator::train]: ################ Starting sd editing ################\u001b[39m\u001b[38;5;124m\"\u001b[39m\n\u001b[1;32m    169\u001b[0m )\n\u001b[0;32m--> 170\u001b[0m \u001b[38;5;28;43mself\u001b[39;49m\u001b[38;5;241;43m.\u001b[39;49m\u001b[43mtrainer\u001b[49m\u001b[38;5;241;43m.\u001b[39;49m\u001b[43msdedit\u001b[49m\u001b[43m(\u001b[49m\u001b[43mmodel_state\u001b[49m\u001b[43m,\u001b[49m\u001b[43m \u001b[49m\u001b[43mdata\u001b[49m\u001b[38;5;241;43m.\u001b[39;49m\u001b[43mtest_dataloader\u001b[49m\u001b[43m(\u001b[49m\u001b[43m)\u001b[49m\u001b[43m,\u001b[49m\u001b[43mreference_unhealthy_data\u001b[49m\u001b[38;5;241;43m.\u001b[39;49m\u001b[43mtest_dataloader\u001b[49m\u001b[43m(\u001b[49m\u001b[43m)\u001b[49m\u001b[43m,\u001b[49m\u001b[43mreference_same_atlas_data\u001b[49m\u001b[38;5;241;43m.\u001b[39;49m\u001b[43mtest_dataloader\u001b[49m\u001b[43m(\u001b[49m\u001b[43m)\u001b[49m\u001b[43m,\u001b[49m\u001b[43m \u001b[49m\u001b[43mtask\u001b[49m\u001b[38;5;241;43m=\u001b[39;49m\u001b[38;5;124;43m\"\u001b[39;49m\u001b[38;5;124;43msdedit\u001b[39;49m\u001b[38;5;124;43m\"\u001b[39;49m\u001b[43m)\u001b[49m\n",
      "File \u001b[0;32m~/mock/autoDDPM/./projects/braincf/Trainer.py:387\u001b[0m, in \u001b[0;36mPTrainer.sdedit\u001b[0;34m(self, model_weights, test_data, reference_data, reference_same_atlas_data, task)\u001b[0m\n\u001b[1;32m    384\u001b[0m counterfactuals \u001b[38;5;241m=\u001b[39m [np\u001b[38;5;241m.\u001b[39mexpand_dims(counterfactuals[i],axis\u001b[38;5;241m=\u001b[39m\u001b[38;5;241m0\u001b[39m) \u001b[38;5;28;01mfor\u001b[39;00m i \u001b[38;5;129;01min\u001b[39;00m \u001b[38;5;28mrange\u001b[39m(b)]\n\u001b[1;32m    386\u001b[0m iterator \u001b[38;5;241m=\u001b[39m \u001b[38;5;28mself\u001b[39m\u001b[38;5;241m.\u001b[39mnnunet\u001b[38;5;241m.\u001b[39mget_data_iterator_from_raw_npy_data(counterfactuals, \u001b[38;5;28;01mNone\u001b[39;00m, [props \u001b[38;5;28;01mfor\u001b[39;00m _ \u001b[38;5;129;01min\u001b[39;00m \u001b[38;5;28mrange\u001b[39m(b)], \u001b[38;5;28;01mNone\u001b[39;00m, \u001b[38;5;241m1\u001b[39m)\n\u001b[0;32m--> 387\u001b[0m segmentation_map \u001b[38;5;241m=\u001b[39m \u001b[38;5;28mself\u001b[39m\u001b[38;5;241m.\u001b[39mnnunet\u001b[38;5;241m.\u001b[39mpredict_from_data_iterator(iterator, \u001b[38;5;28;01mFalse\u001b[39;00m, \u001b[38;5;241m1\u001b[39m)\n\u001b[1;32m    389\u001b[0m \u001b[38;5;28mprint\u001b[39m(\u001b[38;5;28mlen\u001b[39m(segmentation_map))\n\u001b[1;32m    390\u001b[0m \u001b[38;5;28mprint\u001b[39m(\u001b[38;5;124m'\u001b[39m\u001b[38;5;124mshape of segmentation map of 1 sample\u001b[39m\u001b[38;5;124m'\u001b[39m, segmentation_map[\u001b[38;5;241m0\u001b[39m][\u001b[38;5;241m0\u001b[39m]\u001b[38;5;241m.\u001b[39mshape)\n",
      "File \u001b[0;32m~/miniconda3/envs/nnunet+braincf/lib/python3.9/site-packages/nnunetv2/inference/predict_from_raw_data.py:408\u001b[0m, in \u001b[0;36mnnUNetPredictor.predict_from_data_iterator\u001b[0;34m(self, data_iterator, save_probabilities, num_processes_segmentation_export)\u001b[0m\n\u001b[1;32m    406\u001b[0m         \u001b[38;5;28;01melse\u001b[39;00m:\n\u001b[1;32m    407\u001b[0m             \u001b[38;5;28mprint\u001b[39m(\u001b[38;5;124mf\u001b[39m\u001b[38;5;124m'\u001b[39m\u001b[38;5;130;01m\\n\u001b[39;00m\u001b[38;5;124mDone with image of shape \u001b[39m\u001b[38;5;132;01m{\u001b[39;00mdata\u001b[38;5;241m.\u001b[39mshape\u001b[38;5;132;01m}\u001b[39;00m\u001b[38;5;124m:\u001b[39m\u001b[38;5;124m'\u001b[39m)\n\u001b[0;32m--> 408\u001b[0m     ret \u001b[38;5;241m=\u001b[39m [i\u001b[38;5;241m.\u001b[39mget()[\u001b[38;5;241m0\u001b[39m] \u001b[38;5;28;01mfor\u001b[39;00m i \u001b[38;5;129;01min\u001b[39;00m r]\n\u001b[1;32m    410\u001b[0m \u001b[38;5;28;01mif\u001b[39;00m \u001b[38;5;28misinstance\u001b[39m(data_iterator, MultiThreadedAugmenter):\n\u001b[1;32m    411\u001b[0m     data_iterator\u001b[38;5;241m.\u001b[39m_finish()\n",
      "File \u001b[0;32m~/miniconda3/envs/nnunet+braincf/lib/python3.9/site-packages/nnunetv2/inference/predict_from_raw_data.py:408\u001b[0m, in \u001b[0;36m<listcomp>\u001b[0;34m(.0)\u001b[0m\n\u001b[1;32m    406\u001b[0m         \u001b[38;5;28;01melse\u001b[39;00m:\n\u001b[1;32m    407\u001b[0m             \u001b[38;5;28mprint\u001b[39m(\u001b[38;5;124mf\u001b[39m\u001b[38;5;124m'\u001b[39m\u001b[38;5;130;01m\\n\u001b[39;00m\u001b[38;5;124mDone with image of shape \u001b[39m\u001b[38;5;132;01m{\u001b[39;00mdata\u001b[38;5;241m.\u001b[39mshape\u001b[38;5;132;01m}\u001b[39;00m\u001b[38;5;124m:\u001b[39m\u001b[38;5;124m'\u001b[39m)\n\u001b[0;32m--> 408\u001b[0m     ret \u001b[38;5;241m=\u001b[39m [\u001b[43mi\u001b[49m\u001b[38;5;241;43m.\u001b[39;49m\u001b[43mget\u001b[49m\u001b[43m(\u001b[49m\u001b[43m)\u001b[49m[\u001b[38;5;241m0\u001b[39m] \u001b[38;5;28;01mfor\u001b[39;00m i \u001b[38;5;129;01min\u001b[39;00m r]\n\u001b[1;32m    410\u001b[0m \u001b[38;5;28;01mif\u001b[39;00m \u001b[38;5;28misinstance\u001b[39m(data_iterator, MultiThreadedAugmenter):\n\u001b[1;32m    411\u001b[0m     data_iterator\u001b[38;5;241m.\u001b[39m_finish()\n",
      "File \u001b[0;32m~/miniconda3/envs/nnunet+braincf/lib/python3.9/multiprocessing/pool.py:765\u001b[0m, in \u001b[0;36mApplyResult.get\u001b[0;34m(self, timeout)\u001b[0m\n\u001b[1;32m    764\u001b[0m \u001b[38;5;28;01mdef\u001b[39;00m \u001b[38;5;21mget\u001b[39m(\u001b[38;5;28mself\u001b[39m, timeout\u001b[38;5;241m=\u001b[39m\u001b[38;5;28;01mNone\u001b[39;00m):\n\u001b[0;32m--> 765\u001b[0m     \u001b[38;5;28;43mself\u001b[39;49m\u001b[38;5;241;43m.\u001b[39;49m\u001b[43mwait\u001b[49m\u001b[43m(\u001b[49m\u001b[43mtimeout\u001b[49m\u001b[43m)\u001b[49m\n\u001b[1;32m    766\u001b[0m     \u001b[38;5;28;01mif\u001b[39;00m \u001b[38;5;129;01mnot\u001b[39;00m \u001b[38;5;28mself\u001b[39m\u001b[38;5;241m.\u001b[39mready():\n\u001b[1;32m    767\u001b[0m         \u001b[38;5;28;01mraise\u001b[39;00m \u001b[38;5;167;01mTimeoutError\u001b[39;00m\n",
      "File \u001b[0;32m~/miniconda3/envs/nnunet+braincf/lib/python3.9/multiprocessing/pool.py:762\u001b[0m, in \u001b[0;36mApplyResult.wait\u001b[0;34m(self, timeout)\u001b[0m\n\u001b[1;32m    761\u001b[0m \u001b[38;5;28;01mdef\u001b[39;00m \u001b[38;5;21mwait\u001b[39m(\u001b[38;5;28mself\u001b[39m, timeout\u001b[38;5;241m=\u001b[39m\u001b[38;5;28;01mNone\u001b[39;00m):\n\u001b[0;32m--> 762\u001b[0m     \u001b[38;5;28;43mself\u001b[39;49m\u001b[38;5;241;43m.\u001b[39;49m\u001b[43m_event\u001b[49m\u001b[38;5;241;43m.\u001b[39;49m\u001b[43mwait\u001b[49m\u001b[43m(\u001b[49m\u001b[43mtimeout\u001b[49m\u001b[43m)\u001b[49m\n",
      "File \u001b[0;32m~/miniconda3/envs/nnunet+braincf/lib/python3.9/threading.py:581\u001b[0m, in \u001b[0;36mEvent.wait\u001b[0;34m(self, timeout)\u001b[0m\n\u001b[1;32m    579\u001b[0m signaled \u001b[38;5;241m=\u001b[39m \u001b[38;5;28mself\u001b[39m\u001b[38;5;241m.\u001b[39m_flag\n\u001b[1;32m    580\u001b[0m \u001b[38;5;28;01mif\u001b[39;00m \u001b[38;5;129;01mnot\u001b[39;00m signaled:\n\u001b[0;32m--> 581\u001b[0m     signaled \u001b[38;5;241m=\u001b[39m \u001b[38;5;28;43mself\u001b[39;49m\u001b[38;5;241;43m.\u001b[39;49m\u001b[43m_cond\u001b[49m\u001b[38;5;241;43m.\u001b[39;49m\u001b[43mwait\u001b[49m\u001b[43m(\u001b[49m\u001b[43mtimeout\u001b[49m\u001b[43m)\u001b[49m\n\u001b[1;32m    582\u001b[0m \u001b[38;5;28;01mreturn\u001b[39;00m signaled\n",
      "File \u001b[0;32m~/miniconda3/envs/nnunet+braincf/lib/python3.9/threading.py:312\u001b[0m, in \u001b[0;36mCondition.wait\u001b[0;34m(self, timeout)\u001b[0m\n\u001b[1;32m    310\u001b[0m \u001b[38;5;28;01mtry\u001b[39;00m:    \u001b[38;5;66;03m# restore state no matter what (e.g., KeyboardInterrupt)\u001b[39;00m\n\u001b[1;32m    311\u001b[0m     \u001b[38;5;28;01mif\u001b[39;00m timeout \u001b[38;5;129;01mis\u001b[39;00m \u001b[38;5;28;01mNone\u001b[39;00m:\n\u001b[0;32m--> 312\u001b[0m         \u001b[43mwaiter\u001b[49m\u001b[38;5;241;43m.\u001b[39;49m\u001b[43macquire\u001b[49m\u001b[43m(\u001b[49m\u001b[43m)\u001b[49m\n\u001b[1;32m    313\u001b[0m         gotit \u001b[38;5;241m=\u001b[39m \u001b[38;5;28;01mTrue\u001b[39;00m\n\u001b[1;32m    314\u001b[0m     \u001b[38;5;28;01melse\u001b[39;00m:\n",
      "\u001b[0;31mKeyboardInterrupt\u001b[0m: "
     ]
    }
   ],
   "source": [
    "import logging\n",
    "import yaml\n",
    "import argparse\n",
    "config_path = \"./projects/braincf/sd_editing.yaml\"\n",
    "logging.basicConfig(level=logging.INFO)\n",
    "logging.info(\n",
    "        \"------------------------------- DEEP LEARNING FRAMEWORK *IML-COMPAI-DL*  -------------------------------\"\n",
    "    )\n",
    "try:    \n",
    "    stream_file = open(config_path, \"r\")\n",
    "    config_file = yaml.load(stream_file, Loader=yaml.FullLoader)\n",
    "    logging.info(\n",
    "        \"[IML-COMPAI-DL::main] Success: Loaded configuration file at: {}\".format(\n",
    "            config_path\n",
    "        )\n",
    "    )\n",
    "except:\n",
    "    logging.error(\n",
    "        \"[IML-COMPAI-DL::main] ERROR: Invalid configuration file at: {}, exiting...\".format(\n",
    "            config_path\n",
    "        )\n",
    "    )\n",
    "    exit()\n",
    "Main(config_file).setup_experiment()"
   ]
  },
  {
   "cell_type": "code",
   "execution_count": null,
   "metadata": {},
   "outputs": [
    {
     "name": "stdout",
     "output_type": "stream",
     "text": [
      "[0.49823751 0.50736558 0.49984641 0.50088485 0.5053185  0.49023486\n",
      " 0.49148092 0.50568285 0.50127971 0.50243072]\n"
     ]
    }
   ],
   "source": [
    "import numpy as np\n",
    "\n",
    "def dice_coefficient_batch(a, b):\n",
    "    intersection = np.sum(a * b, axis=(1,2,3))\n",
    "    union = np.sum(a, axis=(1,2,3)) + np.sum(b, axis=(1,2,3))\n",
    "    dice = (2. * intersection) / union\n",
    "    return dice\n",
    "\n",
    "# Create two numpy arrays of shape [Batch_size,1,128,128]\n",
    "Batch_size = 10\n",
    "a = np.random.randint(2, size=(Batch_size,1,128,128))\n",
    "b = np.random.randint(2, size=(Batch_size,1,128,128))\n",
    "\n",
    "# Compute the Dice coefficient for each batch\n",
    "dice = dice_coefficient_batch(a, b)\n",
    "\n",
    "print(dice)"
   ]
  },
  {
   "cell_type": "code",
   "execution_count": null,
   "metadata": {},
   "outputs": [],
   "source": []
  },
  {
   "cell_type": "code",
   "execution_count": null,
   "metadata": {},
   "outputs": [],
   "source": []
  },
  {
   "cell_type": "code",
   "execution_count": null,
   "metadata": {},
   "outputs": [],
   "source": []
  },
  {
   "cell_type": "code",
   "execution_count": null,
   "metadata": {},
   "outputs": [],
   "source": []
  },
  {
   "cell_type": "code",
   "execution_count": null,
   "metadata": {},
   "outputs": [],
   "source": []
  },
  {
   "cell_type": "code",
   "execution_count": null,
   "metadata": {},
   "outputs": [],
   "source": []
  },
  {
   "cell_type": "code",
   "execution_count": null,
   "metadata": {},
   "outputs": [
    {
     "data": {
      "text/plain": [
       "{'name': 'BrainCF',\n",
       " 'target_size': (128, 128),\n",
       " 'train_batch_size': 1,\n",
       " 'downstream_batch_size': 16,\n",
       " 'checkpoint_path': './projects/braincf/weights/runs/',\n",
       " 'experiment': {'name': 'sdedit',\n",
       "  'task': 'sdedit',\n",
       "  'weights': './projects/braincf/weights/runs/2024_05_06_18_51_40_547296/best_model.pt'},\n",
       " 'device': 'gpu',\n",
       " 'configurator': {'module_name': 'core.Configurator',\n",
       "  'class_name': 'DLConfigurator',\n",
       "  'params': None},\n",
       " 'model': {'module_name': 'model_zoo.ddpm',\n",
       "  'class_name': 'DDPM',\n",
       "  'params': {'spatial_dims': 2,\n",
       "   'in_channels': 3,\n",
       "   'out_channels': 1,\n",
       "   'num_channels': [128, 256, 256],\n",
       "   'attention_levels': [False, True, True],\n",
       "   'num_res_blocks': 1,\n",
       "   'num_head_channels': 256,\n",
       "   'train_scheduler': 'ddpm',\n",
       "   'inference_scheduler': 'ddpm',\n",
       "   'inference_steps': 1000,\n",
       "   'noise_level_recon': 999,\n",
       "   'noise_type': 'gaussian',\n",
       "   'method': 'anoDDPM',\n",
       "   'prediction_type': 'epsilon',\n",
       "   'threshold_low': 1,\n",
       "   'threshold_high': 10000,\n",
       "   'image_path': './projects/braincf/images/'}},\n",
       " 'trainer': {'module_name': 'projects.braincf.Trainer',\n",
       "  'class_name': 'PTrainer',\n",
       "  'params': {'input_size': (128, 128),\n",
       "   'checkpoint_path': './projects/braincf/weights/runs/2024_05_12_14_06_51_874388',\n",
       "   'batch_size': 1,\n",
       "   'nr_epochs': 1500,\n",
       "   'val_interval': 200,\n",
       "   'loss': {'module_name': 'optim.losses.ln_losses',\n",
       "    'class_name': 'L2',\n",
       "    'params': None},\n",
       "   'optimizer_params': {'lr': 0.0001}},\n",
       "  'data_loader': {'module_name': 'core.DataLoader',\n",
       "   'class_name': 'DefaultDataLoader',\n",
       "   'params': {'args': {'dilation_kernel': 15,\n",
       "     'target_size': (128, 128),\n",
       "     'batch_size': 1,\n",
       "     'dataset_module': {'module_name': 'data.loaders.atlas_loader',\n",
       "      'class_name': 'AtlasLoader'},\n",
       "     'data_dir': {'test': ['./data/ATLAS/splits_healthy_54_sample/Atlas_healthy.csv']},\n",
       "     'label_dir': {'test': ['./data/ATLAS/splits_over_1_stratified_all_splits/atlas_test_mask_png.csv']},\n",
       "     'mask_dir': {'test': ['./data/ATLAS/splits_healthy_54_sample/Atlas_brain_mask_healthy.csv']}}}}},\n",
       " 'downstream_tasks': {'detection': {'module_name': 'projects.autoddpm.DownstreamEvaluator',\n",
       "   'class_name': 'PDownstreamEvaluator',\n",
       "   'checkpoint_path': './projects/braincf/weights/runs/2024_05_12_14_06_51_874388',\n",
       "   'global_detection': True,\n",
       "   'data_loader': {'module_name': 'core.DataLoader',\n",
       "    'class_name': 'DefaultDataLoader',\n",
       "    'params': {'args': {'target_size': (128, 128),\n",
       "      'batch_size': 16,\n",
       "      'dataset_module': {'module_name': 'data.loaders.ixi_loader',\n",
       "       'class_name': 'IXILoader'}}},\n",
       "    'datasets': {'Atlas': {'data_dir': {'test': ['./data/ATLAS/splits/atlas_train_png.csv']},\n",
       "      'label_dir': {'test': ['./data/ATLAS/splits/atlas_train_mask_png.csv']}}}}}}}"
      ]
     },
     "execution_count": 4,
     "metadata": {},
     "output_type": "execute_result"
    }
   ],
   "source": [
    "config_file"
   ]
  },
  {
   "cell_type": "code",
   "execution_count": 4,
   "metadata": {},
   "outputs": [
    {
     "name": "stdout",
     "output_type": "stream",
     "text": [
      "5.0\n"
     ]
    }
   ],
   "source": [
    "a = [5,5,5,5]\n",
    "import numpy as np\n",
    "mean = np.mean(a)\n",
    "\n",
    "print(mean)\n"
   ]
  },
  {
   "cell_type": "code",
   "execution_count": null,
   "metadata": {},
   "outputs": [],
   "source": []
  },
  {
   "cell_type": "code",
   "execution_count": null,
   "metadata": {},
   "outputs": [],
   "source": []
  },
  {
   "cell_type": "code",
   "execution_count": null,
   "metadata": {},
   "outputs": [],
   "source": []
  },
  {
   "cell_type": "code",
   "execution_count": null,
   "metadata": {},
   "outputs": [],
   "source": []
  },
  {
   "cell_type": "code",
   "execution_count": null,
   "metadata": {},
   "outputs": [],
   "source": []
  },
  {
   "cell_type": "code",
   "execution_count": null,
   "metadata": {},
   "outputs": [],
   "source": []
  }
 ],
 "metadata": {
  "kernelspec": {
   "display_name": "base",
   "language": "python",
   "name": "python3"
  },
  "language_info": {
   "codemirror_mode": {
    "name": "ipython",
    "version": 3
   },
   "file_extension": ".py",
   "mimetype": "text/x-python",
   "name": "python",
   "nbconvert_exporter": "python",
   "pygments_lexer": "ipython3",
   "version": "3.9.19"
  }
 },
 "nbformat": 4,
 "nbformat_minor": 2
}
