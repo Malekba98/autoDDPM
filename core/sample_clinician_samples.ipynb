{
 "cells": [
  {
   "cell_type": "code",
   "execution_count": 2,
   "metadata": {},
   "outputs": [],
   "source": [
    "import torch\n",
    "\n",
    "from torch.utils.data import DataLoader\n",
    "import sys\n",
    "import os\n",
    "\n",
    "os.chdir('/home/malek/mock/autoDDPM')\n",
    "dir_path = os.path.dirname(os.path.realpath(os.getcwd()))\n",
    "\n",
    "\n",
    "# Get the parent directory\n",
    "# Add the parent directory to the system path\n",
    "sys.path.append(dir_path)\n",
    "\n",
    "from data.loaders.ixi_loader import mask_preprocessing_loader\n",
    "import csv\n",
    "import os\n",
    "import numpy as np\n",
    "\n",
    "image_dir = [\"./data/ATLAS/splits_over_1_stratified_all_splits/atlas_test_png.csv\"]\n",
    "label_dir = [\"./data/ATLAS/splits_over_1_stratified_all_splits/atlas_test_mask_png.csv\"]\n",
    "\n",
    "mask_dir = [\"./data/ATLAS/splits_over_1_stratified_all_splits/atlas_test_brain_mask_png.csv\"]\n",
    "\n",
    "types_of_pathos = {\"low\": 18.5, \"high\": 371}\n",
    "\n",
    "dataset = mask_preprocessing_loader(\n",
    "    image_dir,\n",
    "    label_dir=label_dir,\n",
    "    mask_dir=mask_dir,\n",
    "    target_size=(128, 128),\n",
    "    test=False,\n",
    ")\n",
    "loader = DataLoader(\n",
    "    dataset, batch_size=1, shuffle=True, drop_last=False, pin_memory=True\n",
    ")\n",
    "\n",
    "device = \"cuda\" if torch.cuda.is_available() else \"cpu\"\n",
    "\n",
    "\n",
    "labels = []\n",
    "file_paths = []\n",
    "mask_file_paths = []\n",
    "brain_mask_file_paths = []\n",
    "\n",
    "\n",
    "for data in loader:\n",
    "    image = data[0].to(device)\n",
    "    mask = data[1].to(device)\n",
    "    filename = data[3]\n",
    "    mask_filename = data[4]\n",
    "    brain_mask_filename = data[5]\n",
    "    non_zero_pixels = mask.sum()\n",
    "    if non_zero_pixels.item() <= 0:\n",
    "        continue\n",
    "    if non_zero_pixels.item() >= types_of_pathos[\"high\"]:\n",
    "        labels.append(\"high\")\n",
    "    elif non_zero_pixels.item() <= types_of_pathos[\"low\"]:\n",
    "        labels.append(\"low\")\n",
    "    else:\n",
    "        labels.append(\"medium\")\n",
    "\n",
    "    file_paths.append([filename[0]])\n",
    "    mask_file_paths.append([mask_filename[0]])\n",
    "    brain_mask_file_paths.append([brain_mask_filename[0]])\n",
    "\n",
    "\n"
   ]
  },
  {
   "cell_type": "code",
   "execution_count": 10,
   "metadata": {},
   "outputs": [
    {
     "name": "stdout",
     "output_type": "stream",
     "text": [
      "masks with high pathology [['./data/ATLAS/png_128_sl_95/Atlas_train_/Atlas_train_320_mask.png'], ['./data/ATLAS/png_128_sl_95/Atlas_train_/Atlas_train_633_mask.png'], ['./data/ATLAS/png_128_sl_95/Atlas_train_/Atlas_train_339_mask.png'], ['./data/ATLAS/png_128_sl_95/Atlas_train_/Atlas_train_86_mask.png'], ['./data/ATLAS/png_128_sl_95/Atlas_train_/Atlas_train_325_mask.png']]\n",
      "masks with low pathology [['./data/ATLAS/png_128_sl_95/Atlas_train_/Atlas_train_430_mask.png'], ['./data/ATLAS/png_128_sl_95/Atlas_train_/Atlas_train_540_mask.png'], ['./data/ATLAS/png_128_sl_95/Atlas_train_/Atlas_train_454_mask.png'], ['./data/ATLAS/png_128_sl_95/Atlas_train_/Atlas_train_276_mask.png'], ['./data/ATLAS/png_128_sl_95/Atlas_train_/Atlas_train_304_mask.png']]\n",
      "masks with medium pathology [['./data/ATLAS/png_128_sl_95/Atlas_train_/Atlas_train_41_mask.png'], ['./data/ATLAS/png_128_sl_95/Atlas_train_/Atlas_train_650_mask.png'], ['./data/ATLAS/png_128_sl_95/Atlas_train_/Atlas_train_231_mask.png'], ['./data/ATLAS/png_128_sl_95/Atlas_train_/Atlas_train_463_mask.png'], ['./data/ATLAS/png_128_sl_95/Atlas_train_/Atlas_train_291_mask.png'], ['./data/ATLAS/png_128_sl_95/Atlas_train_/Atlas_train_113_mask.png'], ['./data/ATLAS/png_128_sl_95/Atlas_train_/Atlas_train_288_mask.png'], ['./data/ATLAS/png_128_sl_95/Atlas_train_/Atlas_train_470_mask.png'], ['./data/ATLAS/png_128_sl_95/Atlas_train_/Atlas_train_129_mask.png'], ['./data/ATLAS/png_128_sl_95/Atlas_train_/Atlas_train_181_mask.png']]\n"
     ]
    }
   ],
   "source": [
    "import numpy as np\n",
    "mask_file_paths\n",
    "labels\n",
    "high_indices = np.random.choice(np.where(np.array(labels) == 'high')[0], size=5, replace=False)\n",
    "low_indices = np.random.choice(np.where(np.array(labels) == 'low')[0], size=5, replace=False)\n",
    "medium_indices = np.random.choice(np.where(np.array(labels) == 'medium')[0], size=10, replace=False)\n",
    "\n",
    "high_mask_file_paths = [mask_file_paths[i] for i in high_indices]\n",
    "low_mask_file_paths = [mask_file_paths[i] for i in low_indices]\n",
    "medium_mask_file_paths = [mask_file_paths[i] for i in medium_indices]\n",
    "\n",
    "high_indices, low_indices, medium_indices, high_mask_file_paths, low_mask_file_paths, medium_mask_file_paths\n",
    "\n",
    "print('masks with high pathology', high_mask_file_paths)\n",
    "print('masks with low pathology', low_mask_file_paths)\n",
    "print('masks with medium pathology', medium_mask_file_paths)"
   ]
  },
  {
   "cell_type": "code",
   "execution_count": 5,
   "metadata": {},
   "outputs": [
    {
     "name": "stdout",
     "output_type": "stream",
     "text": [
      "masks with high pathology [['./data/ATLAS/png_128_sl_95/Atlas_train_/Atlas_train_320_mask.png'], ['./data/ATLAS/png_128_sl_95/Atlas_train_/Atlas_train_325_mask.png'], ['./data/ATLAS/png_128_sl_95/Atlas_train_/Atlas_train_379_mask.png'], ['./data/ATLAS/png_128_sl_95/Atlas_train_/Atlas_train_232_mask.png'], ['./data/ATLAS/png_128_sl_95/Atlas_train_/Atlas_train_339_mask.png']]\n",
      "masks with low pathology [['./data/ATLAS/png_128_sl_95/Atlas_train_/Atlas_train_561_mask.png'], ['./data/ATLAS/png_128_sl_95/Atlas_train_/Atlas_train_600_mask.png'], ['./data/ATLAS/png_128_sl_95/Atlas_train_/Atlas_train_304_mask.png'], ['./data/ATLAS/png_128_sl_95/Atlas_train_/Atlas_train_123_mask.png'], ['./data/ATLAS/png_128_sl_95/Atlas_train_/Atlas_train_540_mask.png']]\n",
      "masks with medium pathology [['./data/ATLAS/png_128_sl_95/Atlas_train_/Atlas_train_231_mask.png'], ['./data/ATLAS/png_128_sl_95/Atlas_train_/Atlas_train_463_mask.png'], ['./data/ATLAS/png_128_sl_95/Atlas_train_/Atlas_train_41_mask.png'], ['./data/ATLAS/png_128_sl_95/Atlas_train_/Atlas_train_185_mask.png'], ['./data/ATLAS/png_128_sl_95/Atlas_train_/Atlas_train_71_mask.png'], ['./data/ATLAS/png_128_sl_95/Atlas_train_/Atlas_train_554_mask.png'], ['./data/ATLAS/png_128_sl_95/Atlas_train_/Atlas_train_266_mask.png'], ['./data/ATLAS/png_128_sl_95/Atlas_train_/Atlas_train_176_mask.png'], ['./data/ATLAS/png_128_sl_95/Atlas_train_/Atlas_train_129_mask.png'], ['./data/ATLAS/png_128_sl_95/Atlas_train_/Atlas_train_260_mask.png']]\n"
     ]
    }
   ],
   "source": [
    "import numpy as np\n",
    "mask_file_paths\n",
    "labels\n",
    "high_indices = np.random.choice(np.where(np.array(labels) == 'high')[0], size=5, replace=False)\n",
    "low_indices = np.random.choice(np.where(np.array(labels) == 'low')[0], size=5, replace=False)\n",
    "medium_indices = np.random.choice(np.where(np.array(labels) == 'medium')[0], size=10, replace=False)\n",
    "\n",
    "high_mask_file_paths = [mask_file_paths[i] for i in high_indices]\n",
    "low_mask_file_paths = [mask_file_paths[i] for i in low_indices]\n",
    "medium_mask_file_paths = [mask_file_paths[i] for i in medium_indices]\n",
    "\n",
    "high_indices, low_indices, medium_indices, high_mask_file_paths, low_mask_file_paths, medium_mask_file_paths\n",
    "\n",
    "print('masks with high pathology', high_mask_file_paths)\n",
    "print('masks with low pathology', low_mask_file_paths)\n",
    "print('masks with medium pathology', medium_mask_file_paths)"
   ]
  },
  {
   "cell_type": "code",
   "execution_count": 6,
   "metadata": {},
   "outputs": [
    {
     "name": "stdout",
     "output_type": "stream",
     "text": [
      "masks with high pathology\n"
     ]
    },
    {
     "data": {
      "text/plain": [
       "[['./data/ATLAS/png_128_sl_95/Atlas_train_/Atlas_train_320_mask.png'],\n",
       " ['./data/ATLAS/png_128_sl_95/Atlas_train_/Atlas_train_325_mask.png'],\n",
       " ['./data/ATLAS/png_128_sl_95/Atlas_train_/Atlas_train_379_mask.png'],\n",
       " ['./data/ATLAS/png_128_sl_95/Atlas_train_/Atlas_train_232_mask.png'],\n",
       " ['./data/ATLAS/png_128_sl_95/Atlas_train_/Atlas_train_339_mask.png']]"
      ]
     },
     "execution_count": 6,
     "metadata": {},
     "output_type": "execute_result"
    }
   ],
   "source": [
    "print('masks with high pathology')\n",
    "high_mask_file_paths\n"
   ]
  },
  {
   "cell_type": "code",
   "execution_count": 7,
   "metadata": {},
   "outputs": [
    {
     "name": "stdout",
     "output_type": "stream",
     "text": [
      "masks with low pathology\n"
     ]
    },
    {
     "data": {
      "text/plain": [
       "[['./data/ATLAS/png_128_sl_95/Atlas_train_/Atlas_train_561_mask.png'],\n",
       " ['./data/ATLAS/png_128_sl_95/Atlas_train_/Atlas_train_600_mask.png'],\n",
       " ['./data/ATLAS/png_128_sl_95/Atlas_train_/Atlas_train_304_mask.png'],\n",
       " ['./data/ATLAS/png_128_sl_95/Atlas_train_/Atlas_train_123_mask.png'],\n",
       " ['./data/ATLAS/png_128_sl_95/Atlas_train_/Atlas_train_540_mask.png']]"
      ]
     },
     "execution_count": 7,
     "metadata": {},
     "output_type": "execute_result"
    }
   ],
   "source": [
    "print('masks with low pathology')\n",
    "low_mask_file_paths"
   ]
  },
  {
   "cell_type": "code",
   "execution_count": 11,
   "metadata": {},
   "outputs": [
    {
     "name": "stdout",
     "output_type": "stream",
     "text": [
      "masks with medium pathology\n"
     ]
    },
    {
     "data": {
      "text/plain": [
       "[['./data/ATLAS/png_128_sl_95/Atlas_train_/Atlas_train_231_mask.png'],\n",
       " ['./data/ATLAS/png_128_sl_95/Atlas_train_/Atlas_train_463_mask.png'],\n",
       " ['./data/ATLAS/png_128_sl_95/Atlas_train_/Atlas_train_41_mask.png'],\n",
       " ['./data/ATLAS/png_128_sl_95/Atlas_train_/Atlas_train_185_mask.png'],\n",
       " ['./data/ATLAS/png_128_sl_95/Atlas_train_/Atlas_train_71_mask.png'],\n",
       " ['./data/ATLAS/png_128_sl_95/Atlas_train_/Atlas_train_554_mask.png'],\n",
       " ['./data/ATLAS/png_128_sl_95/Atlas_train_/Atlas_train_266_mask.png'],\n",
       " ['./data/ATLAS/png_128_sl_95/Atlas_train_/Atlas_train_176_mask.png'],\n",
       " ['./data/ATLAS/png_128_sl_95/Atlas_train_/Atlas_train_129_mask.png'],\n",
       " ['./data/ATLAS/png_128_sl_95/Atlas_train_/Atlas_train_260_mask.png']]"
      ]
     },
     "execution_count": 11,
     "metadata": {},
     "output_type": "execute_result"
    }
   ],
   "source": [
    "print('masks with medium pathology')\n",
    "medium_mask_file_paths"
   ]
  },
  {
   "cell_type": "code",
   "execution_count": 16,
   "metadata": {},
   "outputs": [
    {
     "data": {
      "text/plain": [
       "[['./data/ATLAS/png_128_sl_95/Atlas_train_/Atlas_train_320_mask.png'],\n",
       " ['./data/ATLAS/png_128_sl_95/Atlas_train_/Atlas_train_325_mask.png'],\n",
       " ['./data/ATLAS/png_128_sl_95/Atlas_train_/Atlas_train_379_mask.png'],\n",
       " ['./data/ATLAS/png_128_sl_95/Atlas_train_/Atlas_train_232_mask.png'],\n",
       " ['./data/ATLAS/png_128_sl_95/Atlas_train_/Atlas_train_339_mask.png'],\n",
       " ['./data/ATLAS/png_128_sl_95/Atlas_train_/Atlas_train_231_mask.png'],\n",
       " ['./data/ATLAS/png_128_sl_95/Atlas_train_/Atlas_train_463_mask.png'],\n",
       " ['./data/ATLAS/png_128_sl_95/Atlas_train_/Atlas_train_41_mask.png'],\n",
       " ['./data/ATLAS/png_128_sl_95/Atlas_train_/Atlas_train_185_mask.png'],\n",
       " ['./data/ATLAS/png_128_sl_95/Atlas_train_/Atlas_train_71_mask.png'],\n",
       " ['./data/ATLAS/png_128_sl_95/Atlas_train_/Atlas_train_554_mask.png'],\n",
       " ['./data/ATLAS/png_128_sl_95/Atlas_train_/Atlas_train_266_mask.png'],\n",
       " ['./data/ATLAS/png_128_sl_95/Atlas_train_/Atlas_train_176_mask.png'],\n",
       " ['./data/ATLAS/png_128_sl_95/Atlas_train_/Atlas_train_129_mask.png'],\n",
       " ['./data/ATLAS/png_128_sl_95/Atlas_train_/Atlas_train_260_mask.png'],\n",
       " ['./data/ATLAS/png_128_sl_95/Atlas_train_/Atlas_train_561_mask.png'],\n",
       " ['./data/ATLAS/png_128_sl_95/Atlas_train_/Atlas_train_600_mask.png'],\n",
       " ['./data/ATLAS/png_128_sl_95/Atlas_train_/Atlas_train_304_mask.png'],\n",
       " ['./data/ATLAS/png_128_sl_95/Atlas_train_/Atlas_train_123_mask.png'],\n",
       " ['./data/ATLAS/png_128_sl_95/Atlas_train_/Atlas_train_540_mask.png']]"
      ]
     },
     "execution_count": 16,
     "metadata": {},
     "output_type": "execute_result"
    }
   ],
   "source": [
    "all_mask_file_paths = high_mask_file_paths + medium_mask_file_paths + low_mask_file_paths \n",
    "all_mask_file_paths"
   ]
  },
  {
   "cell_type": "code",
   "execution_count": 11,
   "metadata": {},
   "outputs": [],
   "source": [
    "all_mask_file_paths = [['./data/ATLAS/png_128_sl_95/Atlas_train_/Atlas_train_320_mask.png'],\n",
    " ['./data/ATLAS/png_128_sl_95/Atlas_train_/Atlas_train_325_mask.png'],\n",
    " ['./data/ATLAS/png_128_sl_95/Atlas_train_/Atlas_train_379_mask.png'],\n",
    " ['./data/ATLAS/png_128_sl_95/Atlas_train_/Atlas_train_232_mask.png'],\n",
    " ['./data/ATLAS/png_128_sl_95/Atlas_train_/Atlas_train_339_mask.png'],\n",
    " ['./data/ATLAS/png_128_sl_95/Atlas_train_/Atlas_train_231_mask.png'],\n",
    " ['./data/ATLAS/png_128_sl_95/Atlas_train_/Atlas_train_463_mask.png'],\n",
    " ['./data/ATLAS/png_128_sl_95/Atlas_train_/Atlas_train_41_mask.png'],\n",
    " ['./data/ATLAS/png_128_sl_95/Atlas_train_/Atlas_train_185_mask.png'],\n",
    " ['./data/ATLAS/png_128_sl_95/Atlas_train_/Atlas_train_71_mask.png'],\n",
    " ['./data/ATLAS/png_128_sl_95/Atlas_train_/Atlas_train_554_mask.png'],\n",
    " ['./data/ATLAS/png_128_sl_95/Atlas_train_/Atlas_train_266_mask.png'],\n",
    " ['./data/ATLAS/png_128_sl_95/Atlas_train_/Atlas_train_176_mask.png'],\n",
    " ['./data/ATLAS/png_128_sl_95/Atlas_train_/Atlas_train_129_mask.png'],\n",
    " ['./data/ATLAS/png_128_sl_95/Atlas_train_/Atlas_train_260_mask.png'],\n",
    " ['./data/ATLAS/png_128_sl_95/Atlas_train_/Atlas_train_561_mask.png'],\n",
    " ['./data/ATLAS/png_128_sl_95/Atlas_train_/Atlas_train_600_mask.png'],\n",
    " ['./data/ATLAS/png_128_sl_95/Atlas_train_/Atlas_train_304_mask.png'],\n",
    " ['./data/ATLAS/png_128_sl_95/Atlas_train_/Atlas_train_123_mask.png'],\n",
    " ['./data/ATLAS/png_128_sl_95/Atlas_train_/Atlas_train_540_mask.png']]"
   ]
  },
  {
   "cell_type": "code",
   "execution_count": 15,
   "metadata": {},
   "outputs": [
    {
     "data": {
      "text/plain": [
       "320"
      ]
     },
     "execution_count": 15,
     "metadata": {},
     "output_type": "execute_result"
    }
   ],
   "source": [
    "index_mask = int(all_mask_file_paths[0][0].split(\"_\")[-2].replace(\".png\", \"\"))\n",
    "index_mask"
   ]
  },
  {
   "cell_type": "code",
   "execution_count": 35,
   "metadata": {},
   "outputs": [],
   "source": [
    "high_file_paths = [file_paths[i] for i in high_indices]\n",
    "low_file_paths = [file_paths[i] for i in low_indices]\n",
    "medium_file_paths = [file_paths[i] for i in medium_indices]\n",
    "all_file_paths = high_file_paths + medium_file_paths + low_file_paths \n",
    "#all_file_paths"
   ]
  },
  {
   "cell_type": "code",
   "execution_count": 38,
   "metadata": {},
   "outputs": [
    {
     "name": "stdout",
     "output_type": "stream",
     "text": [
      "./data/ATLAS/png_128_sl_95/Atlas_train_/Atlas_train_320.png\n",
      "./data/ATLAS/png_128_sl_95/Atlas_train_/Atlas_train_325.png\n",
      "./data/ATLAS/png_128_sl_95/Atlas_train_/Atlas_train_379.png\n",
      "./data/ATLAS/png_128_sl_95/Atlas_train_/Atlas_train_232.png\n",
      "./data/ATLAS/png_128_sl_95/Atlas_train_/Atlas_train_339.png\n",
      "./data/ATLAS/png_128_sl_95/Atlas_train_/Atlas_train_231.png\n",
      "./data/ATLAS/png_128_sl_95/Atlas_train_/Atlas_train_463.png\n",
      "./data/ATLAS/png_128_sl_95/Atlas_train_/Atlas_train_41.png\n",
      "./data/ATLAS/png_128_sl_95/Atlas_train_/Atlas_train_185.png\n",
      "./data/ATLAS/png_128_sl_95/Atlas_train_/Atlas_train_71.png\n",
      "./data/ATLAS/png_128_sl_95/Atlas_train_/Atlas_train_554.png\n",
      "./data/ATLAS/png_128_sl_95/Atlas_train_/Atlas_train_266.png\n",
      "./data/ATLAS/png_128_sl_95/Atlas_train_/Atlas_train_176.png\n",
      "./data/ATLAS/png_128_sl_95/Atlas_train_/Atlas_train_129.png\n",
      "./data/ATLAS/png_128_sl_95/Atlas_train_/Atlas_train_260.png\n",
      "./data/ATLAS/png_128_sl_95/Atlas_train_/Atlas_train_561.png\n",
      "./data/ATLAS/png_128_sl_95/Atlas_train_/Atlas_train_600.png\n",
      "./data/ATLAS/png_128_sl_95/Atlas_train_/Atlas_train_304.png\n",
      "./data/ATLAS/png_128_sl_95/Atlas_train_/Atlas_train_123.png\n",
      "./data/ATLAS/png_128_sl_95/Atlas_train_/Atlas_train_540.png\n"
     ]
    }
   ],
   "source": [
    "import shutil\n",
    "for file_path in all_file_paths:\n",
    "    print(file_path[0])\n",
    "    image_dest = '/home/malek/mock/autoDDPM/data/clinicians_samples/turing_test/real_samples'\n",
    "    shutil.copy(file_path[0], image_dest)"
   ]
  },
  {
   "cell_type": "markdown",
   "metadata": {},
   "source": [
    "# select palette samples"
   ]
  },
  {
   "cell_type": "code",
   "execution_count": 29,
   "metadata": {},
   "outputs": [
    {
     "name": "stdout",
     "output_type": "stream",
     "text": [
      "Example file that matched the index: /home/malek/mock/autoDDPM/wandb/run-20240603_124541-2024_06_03_12_45_38_011280/files/media/images/palette/mask_320_prior_7_cf_161_ac5d4245db68524ddd30.png\n",
      "Example file that matched the index: /home/malek/mock/autoDDPM/wandb/run-20240603_124541-2024_06_03_12_45_38_011280/files/media/images/palette/mask_325_prior_474_cf_25_515af706f546b3543f18.png\n",
      "Example file that matched the index: /home/malek/mock/autoDDPM/wandb/run-20240603_124541-2024_06_03_12_45_38_011280/files/media/images/palette/mask_379_prior_584_cf_157_b752d1fe1194effd3e50.png\n",
      "Example file that matched the index: /home/malek/mock/autoDDPM/wandb/run-20240603_124541-2024_06_03_12_45_38_011280/files/media/images/palette/mask_232_prior_415_cf_69_586f2a96d92ef2dc3c4e.png\n",
      "Example file that matched the index: /home/malek/mock/autoDDPM/wandb/run-20240603_124541-2024_06_03_12_45_38_011280/files/media/images/palette/mask_339_prior_404_cf_65_fd778218e467eb5c1845.png\n",
      "Example file that matched the index: /home/malek/mock/autoDDPM/wandb/run-20240603_124541-2024_06_03_12_45_38_011280/files/media/images/palette/mask_231_prior_556_cf_193_5afeb240deed01374ad8.png\n",
      "Example file that matched the index: /home/malek/mock/autoDDPM/wandb/run-20240603_124541-2024_06_03_12_45_38_011280/files/media/images/palette/mask_463_prior_417_cf_89_f9370cb17ae07c454c62.png\n",
      "Example file that matched the index: /home/malek/mock/autoDDPM/wandb/run-20240603_124541-2024_06_03_12_45_38_011280/files/media/images/palette/mask_41_prior_370_cf_61_00591018648103f48e28.png\n",
      "Example file that matched the index: /home/malek/mock/autoDDPM/wandb/run-20240603_124541-2024_06_03_12_45_38_011280/files/media/images/palette/mask_185_prior_427_cf_125_adcc1c65179b764ecd5f.png\n",
      "Example file that matched the index: /home/malek/mock/autoDDPM/wandb/run-20240603_124541-2024_06_03_12_45_38_011280/files/media/images/palette/mask_71_prior_258_cf_57_f1c5f9335ba2ae1f3330.png\n",
      "Example file that matched the index: /home/malek/mock/autoDDPM/wandb/run-20240603_124541-2024_06_03_12_45_38_011280/files/media/images/palette/mask_554_prior_89_cf_93_eed1c508145f2946209e.png\n",
      "Example file that matched the index: /home/malek/mock/autoDDPM/wandb/run-20240603_124541-2024_06_03_12_45_38_011280/files/media/images/palette/mask_266_prior_547_cf_13_9fdf870769e7fe00961a.png\n",
      "Example file that matched the index: /home/malek/mock/autoDDPM/wandb/run-20240603_124541-2024_06_03_12_45_38_011280/files/media/images/palette/mask_176_prior_155_cf_201_f5d74d95261d39875de8.png\n",
      "Example file that matched the index: /home/malek/mock/autoDDPM/wandb/run-20240603_124541-2024_06_03_12_45_38_011280/files/media/images/palette/mask_129_prior_399_cf_53_8beb40dbc3f04da05c05.png\n",
      "Example file that matched the index: /home/malek/mock/autoDDPM/wandb/run-20240603_124541-2024_06_03_12_45_38_011280/files/media/images/palette/mask_260_prior_205_cf_49_927e8875b99807514a01.png\n",
      "Example file that matched the index: /home/malek/mock/autoDDPM/wandb/run-20240603_124541-2024_06_03_12_45_38_011280/files/media/images/palette/mask_561_prior_511_cf_197_1a1a6caced05cfc1a722.png\n",
      "Example file that matched the index: /home/malek/mock/autoDDPM/wandb/run-20240603_124541-2024_06_03_12_45_38_011280/files/media/images/palette/mask_600_prior_477_cf_113_916f22501d2511697d5f.png\n",
      "Example file that matched the index: /home/malek/mock/autoDDPM/wandb/run-20240603_124541-2024_06_03_12_45_38_011280/files/media/images/palette/mask_304_prior_19_cf_9_236cf5c38263e830658f.png\n",
      "Example file that matched the index: /home/malek/mock/autoDDPM/wandb/run-20240603_124541-2024_06_03_12_45_38_011280/files/media/images/palette/mask_123_prior_499_cf_145_2e9e5bbc3e500e796f8c.png\n",
      "Example file that matched the index: /home/malek/mock/autoDDPM/wandb/run-20240603_124541-2024_06_03_12_45_38_011280/files/media/images/palette/mask_540_prior_490_cf_169_ba12b1842ef2318715cf.png\n"
     ]
    }
   ],
   "source": [
    "import glob\n",
    "import shutil\n",
    "\n",
    "palette_path = '/home/malek/mock/autoDDPM/wandb/run-20240603_124541-2024_06_03_12_45_38_011280/files/media/images/palette'\n",
    "for i, mask_file in enumerate(all_mask_file_paths):\n",
    "    index_mask = int(mask_file[0].split(\"_\")[-2].replace(\".png\", \"\"))\n",
    "\n",
    "    file_pattern = f\"{palette_path}/mask_{index_mask}_prior_*_cf_*_*.png\"\n",
    "    #print(file_pattern)\n",
    "    matching_files = glob.glob(file_pattern)\n",
    "\n",
    "    if matching_files:\n",
    "        print(\"Example file that matched the index:\", matching_files[0])\n",
    "        image_dest = '/home/malek/mock/autoDDPM/data/clinicians_samples/turing_test/palette'\n",
    "        shutil.copy(matching_files[0], image_dest)\n",
    "    else:\n",
    "        print(\"No file found that matches the index.\")\n",
    "    \n",
    "\n"
   ]
  },
  {
   "cell_type": "markdown",
   "metadata": {},
   "source": [
    "# Original repaint samples"
   ]
  },
  {
   "cell_type": "code",
   "execution_count": 13,
   "metadata": {},
   "outputs": [
    {
     "name": "stdout",
     "output_type": "stream",
     "text": [
      "Example file that matched the index: /home/malek/mock/autoDDPM/wandb/run-20240603_225907-2024_06_03_22_59_07_846465/files/media/images/repaint/mask_320_prior_7_pair_160_c443790b7f5dc06e2cf1.png\n",
      "Example file that matched the index: /home/malek/mock/autoDDPM/wandb/run-20240603_225907-2024_06_03_22_59_07_846465/files/media/images/repaint/mask_325_prior_474_pair_24_200481698ac154abe4bf.png\n",
      "Example file that matched the index: /home/malek/mock/autoDDPM/wandb/run-20240603_225907-2024_06_03_22_59_07_846465/files/media/images/repaint/mask_379_prior_584_pair_156_b99fbbc3f8ea198ab142.png\n",
      "Example file that matched the index: /home/malek/mock/autoDDPM/wandb/run-20240603_225907-2024_06_03_22_59_07_846465/files/media/images/repaint/mask_232_prior_415_pair_68_8f9b2486eb4e71abc511.png\n",
      "Example file that matched the index: /home/malek/mock/autoDDPM/wandb/run-20240603_225907-2024_06_03_22_59_07_846465/files/media/images/repaint/mask_339_prior_404_pair_64_c09605905c2d24957529.png\n",
      "Example file that matched the index: /home/malek/mock/autoDDPM/wandb/run-20240603_225907-2024_06_03_22_59_07_846465/files/media/images/repaint/mask_231_prior_556_pair_192_328b846af43bb1df8448.png\n",
      "Example file that matched the index: /home/malek/mock/autoDDPM/wandb/run-20240603_225907-2024_06_03_22_59_07_846465/files/media/images/repaint/mask_463_prior_417_pair_88_8ccfda65ca4401f2e12f.png\n",
      "Example file that matched the index: /home/malek/mock/autoDDPM/wandb/run-20240603_225907-2024_06_03_22_59_07_846465/files/media/images/repaint/mask_41_prior_370_pair_60_5f287a199c6d8ef0aa7f.png\n",
      "Example file that matched the index: /home/malek/mock/autoDDPM/wandb/run-20240603_225907-2024_06_03_22_59_07_846465/files/media/images/repaint/mask_185_prior_427_pair_124_bebd3b173b2ba241bef8.png\n",
      "Example file that matched the index: /home/malek/mock/autoDDPM/wandb/run-20240603_225907-2024_06_03_22_59_07_846465/files/media/images/repaint/mask_71_prior_258_pair_56_c09a20311d3c43800e4d.png\n",
      "Example file that matched the index: /home/malek/mock/autoDDPM/wandb/run-20240603_225907-2024_06_03_22_59_07_846465/files/media/images/repaint/mask_554_prior_89_pair_92_c1e7fe0c778d45a6bc4c.png\n",
      "Example file that matched the index: /home/malek/mock/autoDDPM/wandb/run-20240603_225907-2024_06_03_22_59_07_846465/files/media/images/repaint/mask_266_prior_547_pair_12_4c19f12ebdfc4069a6da.png\n",
      "Example file that matched the index: /home/malek/mock/autoDDPM/wandb/run-20240603_225907-2024_06_03_22_59_07_846465/files/media/images/repaint/mask_176_prior_155_pair_200_6f2cb8b4717ab78c3139.png\n",
      "Example file that matched the index: /home/malek/mock/autoDDPM/wandb/run-20240603_225907-2024_06_03_22_59_07_846465/files/media/images/repaint/mask_129_prior_399_pair_52_bebfe90ffdd945e3551a.png\n",
      "Example file that matched the index: /home/malek/mock/autoDDPM/wandb/run-20240603_225907-2024_06_03_22_59_07_846465/files/media/images/repaint/mask_260_prior_205_pair_48_8a850b59539e9652a9ad.png\n",
      "Example file that matched the index: /home/malek/mock/autoDDPM/wandb/run-20240603_225907-2024_06_03_22_59_07_846465/files/media/images/repaint/mask_561_prior_511_pair_196_65b811f320f9ca9a3908.png\n",
      "Example file that matched the index: /home/malek/mock/autoDDPM/wandb/run-20240603_225907-2024_06_03_22_59_07_846465/files/media/images/repaint/mask_600_prior_477_pair_112_c9d2bfeaf1e0167a13c0.png\n",
      "Example file that matched the index: /home/malek/mock/autoDDPM/wandb/run-20240603_225907-2024_06_03_22_59_07_846465/files/media/images/repaint/mask_304_prior_19_pair_8_9cb61a4dc6e6ed80ece5.png\n",
      "Example file that matched the index: /home/malek/mock/autoDDPM/wandb/run-20240603_225907-2024_06_03_22_59_07_846465/files/media/images/repaint/mask_123_prior_499_pair_144_f69bc35c9908ce8330e5.png\n",
      "Example file that matched the index: /home/malek/mock/autoDDPM/wandb/run-20240603_225907-2024_06_03_22_59_07_846465/files/media/images/repaint/mask_540_prior_490_pair_168_3b8ed87f2ad0350e3aae.png\n"
     ]
    }
   ],
   "source": [
    "import glob\n",
    "import shutil\n",
    "original_repaint_path = '/home/malek/mock/autoDDPM/wandb/run-20240603_225907-2024_06_03_22_59_07_846465/files/media/images/repaint'\n",
    "for i, mask_file in enumerate(all_mask_file_paths):\n",
    "    index_mask = int(mask_file[0].split(\"_\")[-2].replace(\".png\", \"\"))\n",
    "\n",
    "    file_pattern = f\"{original_repaint_path}/mask_{index_mask}_prior_*_pair_*_*.png\"\n",
    "    #print(file_pattern)\n",
    "    matching_files = glob.glob(file_pattern)\n",
    "\n",
    "    if matching_files:\n",
    "        print(\"Example file that matched the index:\", matching_files[0])\n",
    "        image_dest = '/home/malek/mock/autoDDPM/data/clinicians_samples/pairs_test/original_repaint'\n",
    "        shutil.copy(matching_files[0], image_dest)\n",
    "    else:\n",
    "        print(\"No file found that matches the index.\")"
   ]
  },
  {
   "cell_type": "markdown",
   "metadata": {},
   "source": [
    "# repaint samples"
   ]
  },
  {
   "cell_type": "code",
   "execution_count": 31,
   "metadata": {},
   "outputs": [
    {
     "name": "stdout",
     "output_type": "stream",
     "text": [
      "Example file that matched the index: /home/malek/mock/autoDDPM/wandb/run-20240603_025945-2024_06_03_02_59_45_876927/files/media/images/repaint/mask_320_prior_7_cf_161_72fd3c75aa6f8f1e4e7f.png\n",
      "Example file that matched the index: /home/malek/mock/autoDDPM/wandb/run-20240603_025945-2024_06_03_02_59_45_876927/files/media/images/repaint/mask_325_prior_474_cf_25_b1feae5cceb31b841e6e.png\n",
      "Example file that matched the index: /home/malek/mock/autoDDPM/wandb/run-20240603_025945-2024_06_03_02_59_45_876927/files/media/images/repaint/mask_379_prior_584_cf_157_0e6668abe4d9604060cd.png\n",
      "Example file that matched the index: /home/malek/mock/autoDDPM/wandb/run-20240603_025945-2024_06_03_02_59_45_876927/files/media/images/repaint/mask_232_prior_415_cf_69_db14fa9bc1691e3c4d06.png\n",
      "Example file that matched the index: /home/malek/mock/autoDDPM/wandb/run-20240603_025945-2024_06_03_02_59_45_876927/files/media/images/repaint/mask_339_prior_404_cf_65_1d1838dbf90f2ace858f.png\n",
      "Example file that matched the index: /home/malek/mock/autoDDPM/wandb/run-20240603_025945-2024_06_03_02_59_45_876927/files/media/images/repaint/mask_231_prior_556_cf_193_525cf346cb3b913555ed.png\n",
      "Example file that matched the index: /home/malek/mock/autoDDPM/wandb/run-20240603_025945-2024_06_03_02_59_45_876927/files/media/images/repaint/mask_463_prior_417_cf_89_bbf84e49461e6c6beed7.png\n",
      "Example file that matched the index: /home/malek/mock/autoDDPM/wandb/run-20240603_025945-2024_06_03_02_59_45_876927/files/media/images/repaint/mask_41_prior_370_cf_61_15dcda95310588da2329.png\n",
      "Example file that matched the index: /home/malek/mock/autoDDPM/wandb/run-20240603_025945-2024_06_03_02_59_45_876927/files/media/images/repaint/mask_185_prior_427_cf_125_289107319340549cd34c.png\n",
      "Example file that matched the index: /home/malek/mock/autoDDPM/wandb/run-20240603_025945-2024_06_03_02_59_45_876927/files/media/images/repaint/mask_71_prior_258_cf_57_4951112c13a4f1f662f0.png\n",
      "Example file that matched the index: /home/malek/mock/autoDDPM/wandb/run-20240603_025945-2024_06_03_02_59_45_876927/files/media/images/repaint/mask_554_prior_89_cf_93_330e01d8c4911d11adad.png\n",
      "Example file that matched the index: /home/malek/mock/autoDDPM/wandb/run-20240603_025945-2024_06_03_02_59_45_876927/files/media/images/repaint/mask_266_prior_547_cf_13_0ed305108b54f7549a6f.png\n",
      "Example file that matched the index: /home/malek/mock/autoDDPM/wandb/run-20240603_025945-2024_06_03_02_59_45_876927/files/media/images/repaint/mask_176_prior_155_cf_201_297d30c33658b3c4088c.png\n",
      "Example file that matched the index: /home/malek/mock/autoDDPM/wandb/run-20240603_025945-2024_06_03_02_59_45_876927/files/media/images/repaint/mask_129_prior_399_cf_53_1646fce2b3c95966e7f7.png\n",
      "Example file that matched the index: /home/malek/mock/autoDDPM/wandb/run-20240603_025945-2024_06_03_02_59_45_876927/files/media/images/repaint/mask_260_prior_205_cf_49_fa4e1b7d42fdc8c0a038.png\n",
      "Example file that matched the index: /home/malek/mock/autoDDPM/wandb/run-20240603_025945-2024_06_03_02_59_45_876927/files/media/images/repaint/mask_561_prior_511_cf_197_9ab5d5ee6da8c5a13ced.png\n",
      "Example file that matched the index: /home/malek/mock/autoDDPM/wandb/run-20240603_025945-2024_06_03_02_59_45_876927/files/media/images/repaint/mask_600_prior_477_cf_113_52d4f5434ac611ae7d49.png\n",
      "Example file that matched the index: /home/malek/mock/autoDDPM/wandb/run-20240603_025945-2024_06_03_02_59_45_876927/files/media/images/repaint/mask_304_prior_19_cf_9_66f6bb58089dc26f1fb9.png\n",
      "Example file that matched the index: /home/malek/mock/autoDDPM/wandb/run-20240603_025945-2024_06_03_02_59_45_876927/files/media/images/repaint/mask_123_prior_499_cf_145_deaaa600146151066dc9.png\n",
      "Example file that matched the index: /home/malek/mock/autoDDPM/wandb/run-20240603_025945-2024_06_03_02_59_45_876927/files/media/images/repaint/mask_540_prior_490_cf_169_a9df331fde9d485bd702.png\n"
     ]
    }
   ],
   "source": [
    "import glob\n",
    "import shutil\n",
    "repaint_path = '/home/malek/mock/autoDDPM/wandb/run-20240603_025945-2024_06_03_02_59_45_876927/files/media/images/repaint'\n",
    "for i, mask_file in enumerate(all_mask_file_paths):\n",
    "    index_mask = int(mask_file[0].split(\"_\")[-2].replace(\".png\", \"\"))\n",
    "\n",
    "    file_pattern = f\"{repaint_path}/mask_{index_mask}_prior_*_cf_*_*.png\"\n",
    "    #print(file_pattern)\n",
    "    matching_files = glob.glob(file_pattern)\n",
    "\n",
    "    if matching_files:\n",
    "        print(\"Example file that matched the index:\", matching_files[0])\n",
    "        image_dest = '/home/malek/mock/autoDDPM/data/clinicians_samples/turing_test/adapted_repaint'\n",
    "        shutil.copy(matching_files[0], image_dest)\n",
    "    else:\n",
    "        print(\"No file found that matches the index.\")"
   ]
  },
  {
   "cell_type": "markdown",
   "metadata": {},
   "source": [
    "# Sdedit samples"
   ]
  },
  {
   "cell_type": "code",
   "execution_count": 32,
   "metadata": {},
   "outputs": [
    {
     "name": "stdout",
     "output_type": "stream",
     "text": [
      "Example file that matched the index: /home/malek/mock/autoDDPM/wandb/run-20240603_032646-2024_06_03_03_26_46_817404/files/media/images/sdedit/mask_320_prior_7_cf_161_b24f1ee7688e3776eff7.png\n",
      "Example file that matched the index: /home/malek/mock/autoDDPM/wandb/run-20240603_032646-2024_06_03_03_26_46_817404/files/media/images/sdedit/mask_325_prior_474_cf_25_5c27daabbaa022004da3.png\n",
      "Example file that matched the index: /home/malek/mock/autoDDPM/wandb/run-20240603_032646-2024_06_03_03_26_46_817404/files/media/images/sdedit/mask_379_prior_584_cf_157_18c22ac3d84d3f5bed8c.png\n",
      "Example file that matched the index: /home/malek/mock/autoDDPM/wandb/run-20240603_032646-2024_06_03_03_26_46_817404/files/media/images/sdedit/mask_232_prior_415_cf_69_45e6241c5bb6c8738c5d.png\n",
      "Example file that matched the index: /home/malek/mock/autoDDPM/wandb/run-20240603_032646-2024_06_03_03_26_46_817404/files/media/images/sdedit/mask_339_prior_404_cf_65_1648878c6fdaf29152b0.png\n",
      "Example file that matched the index: /home/malek/mock/autoDDPM/wandb/run-20240603_032646-2024_06_03_03_26_46_817404/files/media/images/sdedit/mask_231_prior_556_cf_193_5e3a03e992846955f4cd.png\n",
      "Example file that matched the index: /home/malek/mock/autoDDPM/wandb/run-20240603_032646-2024_06_03_03_26_46_817404/files/media/images/sdedit/mask_463_prior_417_cf_89_6a0c7672a0742d7be080.png\n",
      "Example file that matched the index: /home/malek/mock/autoDDPM/wandb/run-20240603_032646-2024_06_03_03_26_46_817404/files/media/images/sdedit/mask_41_prior_370_cf_61_cc1d93ce84f9e86c0270.png\n",
      "Example file that matched the index: /home/malek/mock/autoDDPM/wandb/run-20240603_032646-2024_06_03_03_26_46_817404/files/media/images/sdedit/mask_185_prior_427_cf_125_a0241f0a902e194e77ba.png\n",
      "Example file that matched the index: /home/malek/mock/autoDDPM/wandb/run-20240603_032646-2024_06_03_03_26_46_817404/files/media/images/sdedit/mask_71_prior_258_cf_57_bb147b1609d233b5777e.png\n",
      "Example file that matched the index: /home/malek/mock/autoDDPM/wandb/run-20240603_032646-2024_06_03_03_26_46_817404/files/media/images/sdedit/mask_554_prior_89_cf_93_7c39e57fd494c464ac7f.png\n",
      "Example file that matched the index: /home/malek/mock/autoDDPM/wandb/run-20240603_032646-2024_06_03_03_26_46_817404/files/media/images/sdedit/mask_266_prior_547_cf_13_f340f610ba3b135b9991.png\n",
      "Example file that matched the index: /home/malek/mock/autoDDPM/wandb/run-20240603_032646-2024_06_03_03_26_46_817404/files/media/images/sdedit/mask_176_prior_155_cf_201_92292487ef150201d8bb.png\n",
      "Example file that matched the index: /home/malek/mock/autoDDPM/wandb/run-20240603_032646-2024_06_03_03_26_46_817404/files/media/images/sdedit/mask_129_prior_399_cf_53_fef95cb3618acade521b.png\n",
      "Example file that matched the index: /home/malek/mock/autoDDPM/wandb/run-20240603_032646-2024_06_03_03_26_46_817404/files/media/images/sdedit/mask_260_prior_205_cf_49_2e9d41d378909087e093.png\n",
      "Example file that matched the index: /home/malek/mock/autoDDPM/wandb/run-20240603_032646-2024_06_03_03_26_46_817404/files/media/images/sdedit/mask_561_prior_511_cf_197_e45bb10858c16abe3b71.png\n",
      "Example file that matched the index: /home/malek/mock/autoDDPM/wandb/run-20240603_032646-2024_06_03_03_26_46_817404/files/media/images/sdedit/mask_600_prior_477_cf_113_46d7cd9e2120da6c2a62.png\n",
      "Example file that matched the index: /home/malek/mock/autoDDPM/wandb/run-20240603_032646-2024_06_03_03_26_46_817404/files/media/images/sdedit/mask_304_prior_19_cf_9_b93d964eb1166e2ed93c.png\n",
      "Example file that matched the index: /home/malek/mock/autoDDPM/wandb/run-20240603_032646-2024_06_03_03_26_46_817404/files/media/images/sdedit/mask_123_prior_499_cf_145_ca92513e1ecdb3f3df4a.png\n",
      "Example file that matched the index: /home/malek/mock/autoDDPM/wandb/run-20240603_032646-2024_06_03_03_26_46_817404/files/media/images/sdedit/mask_540_prior_490_cf_169_7cf91f467462e25fbaad.png\n"
     ]
    }
   ],
   "source": [
    "import glob\n",
    "import shutil\n",
    "sdedit_path = '/home/malek/mock/autoDDPM/wandb/run-20240603_032646-2024_06_03_03_26_46_817404/files/media/images/sdedit'\n",
    "for i, mask_file in enumerate(all_mask_file_paths):\n",
    "    index_mask = int(mask_file[0].split(\"_\")[-2].replace(\".png\", \"\"))\n",
    "\n",
    "    file_pattern = f\"{sdedit_path}/mask_{index_mask}_prior_*_cf_*_*.png\"\n",
    "    #print(file_pattern)\n",
    "    matching_files = glob.glob(file_pattern)\n",
    "\n",
    "    if matching_files:\n",
    "        print(\"Example file that matched the index:\", matching_files[0])\n",
    "        image_dest = '/home/malek/mock/autoDDPM/data/clinicians_samples/turing_test/sdedit'\n",
    "        shutil.copy(matching_files[0], image_dest)\n",
    "    else:\n",
    "        print(\"No file found that matches the index.\")"
   ]
  }
 ],
 "metadata": {
  "kernelspec": {
   "display_name": "nnunet+braincf",
   "language": "python",
   "name": "python3"
  },
  "language_info": {
   "codemirror_mode": {
    "name": "ipython",
    "version": 3
   },
   "file_extension": ".py",
   "mimetype": "text/x-python",
   "name": "python",
   "nbconvert_exporter": "python",
   "pygments_lexer": "ipython3",
   "version": "3.9.19"
  }
 },
 "nbformat": 4,
 "nbformat_minor": 2
}
